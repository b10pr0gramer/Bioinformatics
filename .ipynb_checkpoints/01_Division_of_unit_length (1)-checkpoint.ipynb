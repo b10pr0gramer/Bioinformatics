{
 "cells": [
  {
   "cell_type": "markdown",
   "metadata": {},
   "source": [
    "Implementation of a discrete probabilistic device\n",
    "======================================="
   ]
  },
  {
   "cell_type": "markdown",
   "metadata": {},
   "source": [
    "## Probability Vector"
   ]
  },
  {
   "cell_type": "markdown",
   "metadata": {},
   "source": [
    "The principal phenomenon of decomposing the unit interval into a discrete probability distribution is shown here."
   ]
  },
  {
   "cell_type": "code",
   "execution_count": null,
   "metadata": {},
   "outputs": [],
   "source": [
    "import numpy as np, pandas as pd, matplotlib.pyplot as plt, seaborn as sns"
   ]
  },
  {
   "cell_type": "markdown",
   "metadata": {},
   "source": [
    "The first element in this path is a suitable probability distribution. \n",
    "\n",
    "For this purpose, the starting point is set with the function `np.random.rand()`, which generates real-valued random number(s) equally distributed in the interval \\[0, 1\\]"
   ]
  },
  {
   "cell_type": "code",
   "execution_count": null,
   "metadata": {},
   "outputs": [],
   "source": [
    "rn = np.random.rand(6)\n",
    "rn"
   ]
  },
  {
   "cell_type": "markdown",
   "metadata": {},
   "source": [
    "This table of six random numbers can now be normalized so that the sum is equal to one:"
   ]
  },
  {
   "cell_type": "code",
   "execution_count": null,
   "metadata": {},
   "outputs": [],
   "source": [
    "probDist = rn/rn.sum()\n",
    "probDist"
   ]
  },
  {
   "cell_type": "markdown",
   "metadata": {},
   "source": [
    "The `.sum()` method outputs the sum of the array it is applied to."
   ]
  },
  {
   "cell_type": "code",
   "execution_count": null,
   "metadata": {},
   "outputs": [],
   "source": [
    "probDist.sum()"
   ]
  },
  {
   "cell_type": "markdown",
   "metadata": {},
   "source": [
    "The `.cumsum()` method outputs the cumulative sum of the elements in array it is applied to."
   ]
  },
  {
   "cell_type": "code",
   "execution_count": null,
   "metadata": {},
   "outputs": [],
   "source": [
    "probDist.cumsum()"
   ]
  },
  {
   "cell_type": "markdown",
   "metadata": {},
   "source": [
    "## Visualization as ranges on a unit interval"
   ]
  },
  {
   "cell_type": "markdown",
   "metadata": {},
   "source": [
    "These interval limits can now be drawn into a graphical representation of the unit interval:"
   ]
  },
  {
   "cell_type": "code",
   "execution_count": null,
   "metadata": {
    "code_folding": [],
    "scrolled": true
   },
   "outputs": [],
   "source": [
    "# prepare figure\n",
    "fig = plt.figure()\n",
    "ax = fig.add_axes([0, 0, 1, 0.1])  # span the whole figure\n",
    "ax.axes.get_yaxis().set_visible(False)\n",
    "ax.spines['top'].set_visible(False)\n",
    "ax.spines['right'].set_visible(False)\n",
    "ax.spines['left'].set_visible(False)\n",
    "ax.set_xlim(-0.01,1.01);\n",
    "\n",
    "# prepare x and y variables to be supplied to the figure\n",
    "x = probDist.cumsum()\n",
    "x = list(x)\n",
    "x.insert(0,0.0)\n",
    "y = [1,1,1,1,1,1,1]\n",
    "\n",
    "# plot figure\n",
    "plt.bar(x, y, width=0.01);"
   ]
  },
  {
   "cell_type": "markdown",
   "metadata": {},
   "source": [
    "## Random numbers converted to discrete outcomes"
   ]
  },
  {
   "cell_type": "markdown",
   "metadata": {},
   "source": [
    "Our original list of boundaries:"
   ]
  },
  {
   "cell_type": "code",
   "execution_count": null,
   "metadata": {},
   "outputs": [],
   "source": [
    "x"
   ]
  },
  {
   "cell_type": "markdown",
   "metadata": {},
   "source": [
    "Now we can create a random number in order to determine, in which interval it falls. "
   ]
  },
  {
   "cell_type": "code",
   "execution_count": null,
   "metadata": {},
   "outputs": [],
   "source": [
    "r = np.random.rand()\n",
    "r"
   ]
  },
  {
   "cell_type": "markdown",
   "metadata": {},
   "source": [
    "The interval number (or the output of the probabilistic device following\n",
    "this probability distribution) can now be determined in the following way: Add the number $x$ to the list of interval boundaries (with `.append`), sort the entries of this list according to their size (with `.sort`) and display the position of $x$ in the sorted list (with `.index`)."
   ]
  },
  {
   "cell_type": "code",
   "execution_count": null,
   "metadata": {},
   "outputs": [],
   "source": [
    "x_new = x.copy()\n",
    "x_new.append(r)\n",
    "x_new"
   ]
  },
  {
   "cell_type": "code",
   "execution_count": null,
   "metadata": {},
   "outputs": [],
   "source": [
    "x_new.sort()\n",
    "x_new"
   ]
  },
  {
   "cell_type": "code",
   "execution_count": null,
   "metadata": {},
   "outputs": [],
   "source": [
    "x_new.index(r)"
   ]
  },
  {
   "cell_type": "markdown",
   "metadata": {},
   "source": [
    "A random number can now be entered into the previous figure:"
   ]
  },
  {
   "cell_type": "code",
   "execution_count": null,
   "metadata": {},
   "outputs": [],
   "source": [
    "ax.plot(r, 0.2, 'r.', ms=20)\n",
    "\n",
    "fig"
   ]
  },
  {
   "cell_type": "markdown",
   "metadata": {},
   "source": [
    "## Multiple experiments"
   ]
  },
  {
   "cell_type": "code",
   "execution_count": null,
   "metadata": {},
   "outputs": [],
   "source": [
    "print(np.random.rand(1,10))"
   ]
  },
  {
   "cell_type": "code",
   "execution_count": null,
   "metadata": {},
   "outputs": [],
   "source": [
    "ax.plot(np.random.rand(1,10), 0.2, 'r.', ms=20)\n",
    "\n",
    "fig"
   ]
  },
  {
   "cell_type": "markdown",
   "metadata": {},
   "source": [
    "The whole thing developed upto this point could be for *convenience* put into what is called as `function`. This makes it much easier to use the above developed facility."
   ]
  },
  {
   "cell_type": "code",
   "execution_count": null,
   "metadata": {
    "code_folding": []
   },
   "outputs": [],
   "source": [
    "# The function itself.\n",
    "def create_data_plot(               # name of the function\n",
    "    probDistribution,               # first parameter to function: here, probability distribution\n",
    "    numRandomPoints=10,             # second parameter to function: number of (red) points \n",
    "):\n",
    "    # same code as individually shown above\n",
    "    probDistribution = probDistribution.cumsum()\n",
    "    probDistribution = list(probDistribution)\n",
    "    probDistribution.insert(0,0.0)\n",
    "    y = list(np.repeat(1,len(probDistribution)))\n",
    "    \n",
    "    # prepare figure\n",
    "    fig = plt.figure()\n",
    "    ax = fig.add_axes([0, 0, 1, 0.1])  # span the whole figure\n",
    "    ax.axes.get_yaxis().set_visible(False)\n",
    "    ax.spines['top'].set_visible(False)\n",
    "    ax.spines['right'].set_visible(False)\n",
    "    ax.spines['left'].set_visible(False)\n",
    "    ax.set_xlim(-0.01,1.01)\n",
    "    \n",
    "    # plot figure\n",
    "    plt.bar(probDistribution, y, width=0.01);\n",
    "    ax.plot(np.random.rand(1, numRandomPoints), 0.2, 'r.', ms=20);"
   ]
  },
  {
   "cell_type": "code",
   "execution_count": null,
   "metadata": {},
   "outputs": [],
   "source": [
    "create_data_plot(probDist, numRandomPoints=10)"
   ]
  },
  {
   "cell_type": "code",
   "execution_count": null,
   "metadata": {},
   "outputs": [],
   "source": [
    "list(range(10))"
   ]
  },
  {
   "cell_type": "code",
   "execution_count": null,
   "metadata": {
    "scrolled": false
   },
   "outputs": [],
   "source": [
    "# Using the above developed function\n",
    "# See how conveniently we can make ten such figures! 🙃😎\n",
    "for i in range(10):\n",
    "    create_data_plot(probDist)"
   ]
  },
  {
   "cell_type": "markdown",
   "metadata": {},
   "source": [
    "The above figure ☝️ gives a sequence of ten random experiments with ten entries each. The considerable differences between the point distributions clearly show that ten repetitions are by no means sufficient to adequately represent the underlying probability distribution. "
   ]
  },
  {
   "cell_type": "markdown",
   "metadata": {},
   "source": [
    "The interval number (or the output of the probabilistic device following\n",
    "this probability distribution) can now be determined in the following way: Add the number $x$ to the list of interval boundaries (with `.append`), sort the entries of this list according to their size (with `.sort`) and display the position of $x$ in the sorted list (with `.index`)."
   ]
  },
  {
   "cell_type": "code",
   "execution_count": null,
   "metadata": {},
   "outputs": [],
   "source": [
    "def get_position(probDistribution, x):               # defining another function 😀\n",
    "    probDistribution = list(probDistribution)\n",
    "    probDistribution_new = probDistribution.copy()\n",
    "    probDistribution_new.append(x)\n",
    "    probDistribution_new.sort()\n",
    "    pos_x = probDistribution_new.index(x)\n",
    "    return pos_x"
   ]
  },
  {
   "cell_type": "code",
   "execution_count": null,
   "metadata": {},
   "outputs": [],
   "source": [
    "get_position(x, r)"
   ]
  },
  {
   "cell_type": "markdown",
   "metadata": {},
   "source": [
    "## Probability estimates from a simulated data"
   ]
  },
  {
   "cell_type": "code",
   "execution_count": null,
   "metadata": {},
   "outputs": [],
   "source": [
    "def create_data_value(probDistribution, numRandomPoints=10):\n",
    "    \"\"\"This function returns position of all points to be put in the partitioned space.\"\"\"\n",
    "    \n",
    "    probDistribution = probDistribution.cumsum()\n",
    "    probDistribution = list(probDistribution)\n",
    "    probDistribution.insert(0,0.0)\n",
    "    y = list(np.repeat(1,len(probDistribution)))\n",
    "    \n",
    "    r_array = np.random.rand(numRandomPoints)\n",
    "    \n",
    "    positions_array = np.array([get_position(probDistribution, i) for i in r_array])\n",
    "    \n",
    "    return positions_array"
   ]
  },
  {
   "cell_type": "code",
   "execution_count": null,
   "metadata": {
    "scrolled": true
   },
   "outputs": [],
   "source": [
    "output10 = create_data_value(probDist)\n",
    "output10"
   ]
  },
  {
   "cell_type": "markdown",
   "metadata": {},
   "source": [
    "Next three histograms show three frequency distributions for different sample sizes as well as the actual distribution. \n",
    "\n",
    "With only ten repetitions of the single event, the interval sizes can only be inadequately traced. With increasing number of repetitions (sample size), however, the relative frequencies approximate the interval boundaries better and better."
   ]
  },
  {
   "cell_type": "code",
   "execution_count": null,
   "metadata": {},
   "outputs": [],
   "source": [
    "np.arange(0.5,7,1.0)"
   ]
  },
  {
   "cell_type": "code",
   "execution_count": null,
   "metadata": {},
   "outputs": [],
   "source": [
    "# with only 10 repetitions\n",
    "plt.hist(output10, color='gray', alpha=0.5, density=True, bins=np.arange(0.5,7,1.0), edgecolor='black')\n",
    "\n",
    "plt.xlabel(\"Interval Number\")\n",
    "plt.ylabel(\"Frequency\");"
   ]
  },
  {
   "cell_type": "code",
   "execution_count": null,
   "metadata": {},
   "outputs": [],
   "source": [
    "# with 100 repetitions\n",
    "output100 = create_data_value(probDist, numRandomPoints=100)\n",
    "output100"
   ]
  },
  {
   "cell_type": "code",
   "execution_count": null,
   "metadata": {},
   "outputs": [],
   "source": [
    "plt.hist(output100, color='gray', alpha=0.5, density=True, bins=np.arange(0.5,7,1.0), edgecolor='black')\n",
    "plt.xlabel(\"Interval Number\")\n",
    "plt.ylabel(\"Frequency\");"
   ]
  },
  {
   "cell_type": "code",
   "execution_count": null,
   "metadata": {},
   "outputs": [],
   "source": [
    "# with 1000 repetitions\n",
    "output1000 = create_data_value(probDist, numRandomPoints=1000)\n",
    "\n",
    "plt.hist(output1000, color='gray', alpha=0.5, density=True, bins=np.arange(0.5,7,1.0), edgecolor='black')\n",
    "plt.xlabel(\"Interval Number\")\n",
    "plt.ylabel(\"Frequency\");"
   ]
  },
  {
   "cell_type": "code",
   "execution_count": null,
   "metadata": {},
   "outputs": [],
   "source": [
    "# original probability distribution\n",
    "probDist"
   ]
  },
  {
   "cell_type": "code",
   "execution_count": null,
   "metadata": {},
   "outputs": [],
   "source": [
    "# compare this with previous three histograms\n",
    "plt.bar(np.arange(1, len(probDist)+1), probDist, width=1, color='gray', edgecolor='black');"
   ]
  }
 ],
 "metadata": {
  "hide_input": false,
  "kernelspec": {
   "display_name": "Python 3",
   "language": "python",
   "name": "python3"
  },
  "language_info": {
   "codemirror_mode": {
    "name": "ipython",
    "version": 3
   },
   "file_extension": ".py",
   "mimetype": "text/x-python",
   "name": "python",
   "nbconvert_exporter": "python",
   "pygments_lexer": "ipython3",
   "version": "3.8.5"
  },
  "toc": {
   "base_numbering": 1,
   "nav_menu": {},
   "number_sections": true,
   "sideBar": true,
   "skip_h1_title": true,
   "title_cell": "Table of Contents",
   "title_sidebar": "Contents",
   "toc_cell": false,
   "toc_position": {},
   "toc_section_display": true,
   "toc_window_display": true
  },
  "varInspector": {
   "cols": {
    "lenName": 16,
    "lenType": 16,
    "lenVar": 40
   },
   "kernels_config": {
    "python": {
     "delete_cmd_postfix": "",
     "delete_cmd_prefix": "del ",
     "library": "var_list.py",
     "varRefreshCmd": "print(var_dic_list())"
    },
    "r": {
     "delete_cmd_postfix": ") ",
     "delete_cmd_prefix": "rm(",
     "library": "var_list.r",
     "varRefreshCmd": "cat(var_dic_list()) "
    }
   },
   "types_to_exclude": [
    "module",
    "function",
    "builtin_function_or_method",
    "instance",
    "_Feature"
   ],
   "window_display": false
  }
 },
 "nbformat": 4,
 "nbformat_minor": 5
}
