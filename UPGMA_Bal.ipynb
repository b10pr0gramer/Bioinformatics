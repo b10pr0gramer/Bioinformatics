{
 "cells": [
  {
   "cell_type": "markdown",
   "metadata": {},
   "source": [
    "## Importing libraries"
   ]
  },
  {
   "cell_type": "code",
   "execution_count": 1,
   "metadata": {},
   "outputs": [],
   "source": [
    "import numpy as np, pandas as pd, matplotlib.pyplot as plt, copy"
   ]
  },
  {
   "cell_type": "markdown",
   "metadata": {},
   "source": [
    "## A toy distance matrix"
   ]
  },
  {
   "cell_type": "markdown",
   "metadata": {},
   "source": [
    "An example of a distance matrix. We will use this to develop as well as illustrate our code / algorithms"
   ]
  },
  {
   "cell_type": "code",
   "execution_count": 2,
   "metadata": {},
   "outputs": [
    {
     "data": {
      "text/plain": [
       "array([[0.  , 1.3 , 0.75],\n",
       "       [1.3 , 0.  , 0.34],\n",
       "       [0.75, 0.34, 0.  ]])"
      ]
     },
     "execution_count": 2,
     "metadata": {},
     "output_type": "execute_result"
    }
   ],
   "source": [
    "dist_matrix = np.array(\n",
    "    [[0   , 1.3 , 0.75], \n",
    "     [1.3 , 0   , 0.34], \n",
    "     [0.75, 0.34, 0   ]]\n",
    ")\n",
    "# dist_matrix = np.array([[0, 1.3, 0.75], [1.3, 0, 0.34], [0.75, 0.34, 0]])\n",
    "dist_matrix"
   ]
  },
  {
   "cell_type": "markdown",
   "metadata": {},
   "source": [
    "Let's find the smallest distance in the distance matrix"
   ]
  },
  {
   "cell_type": "code",
   "execution_count": 3,
   "metadata": {},
   "outputs": [
    {
     "data": {
      "text/plain": [
       "0.34"
      ]
     },
     "execution_count": 3,
     "metadata": {},
     "output_type": "execute_result"
    }
   ],
   "source": [
    "smallest_value = np.min(  dist_matrix[ np.nonzero(dist_matrix) ]  )\n",
    "smallest_value"
   ]
  },
  {
   "cell_type": "markdown",
   "metadata": {},
   "source": [
    "... and the indices of the smallest distance (loosely, the nodes with smallest distance). (Please keep do not forget that the indices start from 0, e.g., 0,1,2 ...)"
   ]
  },
  {
   "cell_type": "code",
   "execution_count": 4,
   "metadata": {},
   "outputs": [
    {
     "data": {
      "text/plain": [
       "array([1, 2], dtype=int64)"
      ]
     },
     "execution_count": 4,
     "metadata": {},
     "output_type": "execute_result"
    }
   ],
   "source": [
    "smallest_value_indices = np.argwhere(dist_matrix == smallest_value)[0]\n",
    "smallest_value_indices"
   ]
  },
  {
   "cell_type": "code",
   "execution_count": 5,
   "metadata": {},
   "outputs": [
    {
     "data": {
      "text/plain": [
       "array([[1, 2],\n",
       "       [2, 1]], dtype=int64)"
      ]
     },
     "execution_count": 5,
     "metadata": {},
     "output_type": "execute_result"
    }
   ],
   "source": [
    "np.argwhere(dist_matrix == smallest_value)"
   ]
  },
  {
   "cell_type": "markdown",
   "metadata": {},
   "source": [
    "We can make a convenience function to obtain both, smallest distance and its indices."
   ]
  },
  {
   "cell_type": "code",
   "execution_count": 6,
   "metadata": {},
   "outputs": [],
   "source": [
    "def find_smallest(matrix):\n",
    "    \"\"\" Finds the smallest non-zero entry in a matrix and its position/indices.\n",
    "    \"\"\"\n",
    "    smallest_value  = np.min(matrix[np.nonzero(matrix)])\n",
    "    smallest_value_indices = np.argwhere(matrix == smallest_value)[0]\n",
    "    return smallest_value_indices, smallest_value"
   ]
  },
  {
   "cell_type": "code",
   "execution_count": 7,
   "metadata": {},
   "outputs": [
    {
     "name": "stdout",
     "output_type": "stream",
     "text": [
      "(array([1, 2], dtype=int64), 0.34)\n"
     ]
    }
   ],
   "source": [
    "print (find_smallest(dist_matrix))"
   ]
  },
  {
   "cell_type": "code",
   "execution_count": 8,
   "metadata": {},
   "outputs": [
    {
     "name": "stdout",
     "output_type": "stream",
     "text": [
      "The smallest value indices are: [1 2]\n",
      "The smallest distance is: 0.34\n"
     ]
    }
   ],
   "source": [
    "smallest_value_indices, smallest_value = find_smallest(dist_matrix)\n",
    "print(\"The smallest value indices are:\", smallest_value_indices)\n",
    "print(\"The smallest distance is:\", smallest_value)"
   ]
  },
  {
   "cell_type": "code",
   "execution_count": 9,
   "metadata": {},
   "outputs": [
    {
     "data": {
      "text/plain": [
       "array([[0.  , 1.3 , 0.75],\n",
       "       [1.3 , 0.  , 0.34],\n",
       "       [0.75, 0.34, 0.  ]])"
      ]
     },
     "execution_count": 9,
     "metadata": {},
     "output_type": "execute_result"
    }
   ],
   "source": [
    "dist_matrix"
   ]
  },
  {
   "cell_type": "markdown",
   "metadata": {},
   "source": [
    "## Cluster vector"
   ]
  },
  {
   "cell_type": "markdown",
   "metadata": {},
   "source": [
    "Let's define a vector to keep track of clusters and their sizes. \n",
    "\n",
    "At the start of our algorithm, each individual node is a size 1 cluster in itself, so this will just be a array of 1's, of length the number of nodes. That we have a `3x3` distance matrix, the array length is 3."
   ]
  },
  {
   "cell_type": "code",
   "execution_count": 10,
   "metadata": {},
   "outputs": [
    {
     "data": {
      "text/plain": [
       "array([1., 1., 1.])"
      ]
     },
     "execution_count": 10,
     "metadata": {},
     "output_type": "execute_result"
    }
   ],
   "source": [
    "cluster_vector = np.ones(dist_matrix.shape[0])\n",
    "cluster_vector"
   ]
  },
  {
   "cell_type": "markdown",
   "metadata": {},
   "source": [
    "As we combine two clusters into one, we would need to modify the `cluster_vector`. The following function does that."
   ]
  },
  {
   "cell_type": "code",
   "execution_count": 11,
   "metadata": {},
   "outputs": [],
   "source": [
    "def modify_cluster_vector(\n",
    "    cluster_vector,             # the cluster vector to be modified upon merging two cluster\n",
    "    coord,                      # coordinates or indices of the clusters to be combined. These will be the clusters with the smallest distance in the distance matrix.\n",
    "):\n",
    "    \"\"\" This function modifies the cluster_vector when combining two clusters \n",
    "    and returns a new cluster vector: cluster_vector_new.\n",
    "    \"\"\"\n",
    "    # first, remove the entries from cluster_vector that correspond to the clusters which are to be combined\n",
    "    cluster_vector_new = [cluster_vector[i] for i in range(len(cluster_vector)) if i != coord[0] and i!= coord[1]]\n",
    "    # the new cluster size equals the sum of sizes of the cluster just combined.\n",
    "    # Append this to cluster_vector_new.\n",
    "    cluster_vector_new.append( cluster_vector[coord[0]] + cluster_vector[coord[1]])\n",
    "    cluster_vector_new = np.array(cluster_vector_new) # just covert it to array (it was a list uptill now).\n",
    "    return cluster_vector_new"
   ]
  },
  {
   "cell_type": "code",
   "execution_count": 12,
   "metadata": {},
   "outputs": [
    {
     "data": {
      "text/plain": [
       "array([1., 2.])"
      ]
     },
     "execution_count": 12,
     "metadata": {},
     "output_type": "execute_result"
    }
   ],
   "source": [
    "modify_cluster_vector(cluster_vector, smallest_value_indices)"
   ]
  },
  {
   "cell_type": "markdown",
   "metadata": {},
   "source": [
    "## modified distance matrix through UPGMA"
   ]
  },
  {
   "cell_type": "markdown",
   "metadata": {},
   "source": [
    "As the clusters are combined, the distance matrix needs to be modified according to the UPGMA algorithm and produce a new distance matrix."
   ]
  },
  {
   "cell_type": "code",
   "execution_count": 13,
   "metadata": {},
   "outputs": [],
   "source": [
    "def compute_new_dist_matrix(\n",
    "    matrix,                      # distance matrix before combining clusters\n",
    "    cluster_vector,              # cluster_vector before combining the clusters\n",
    "    coord,                       # coordinates / indices of the cluster to be combined\n",
    "):\n",
    "    \"\"\"This function modifies the distance matrix according to the UPGMA algorithm \n",
    "    and returns the new distance matrix.\n",
    "    \"\"\"\n",
    "    # delete the rows and column from distance matrix...\n",
    "    # ...corresponding to coordinates of cluster that were combined.\n",
    "    matrix_new = np.delete(np.delete(matrix, coord, axis=0), coord, axis=1)\n",
    "    \n",
    "    # make an array of indices other than...\n",
    "    # ...those corresponding to the clusters that were combined.\n",
    "    indices_other_than_removed_coordinates = list(range(matrix.shape[0])) # 0,1,2\n",
    "    indices_other_than_removed_coordinates.remove(coord[0]) # remove 1\n",
    "    indices_other_than_removed_coordinates.remove(coord[1]) # remove 2\n",
    "    \n",
    "    new_vector = [] # here we store distances of new cluster (formed after merging 1 & 2) to other clusters\n",
    "    \n",
    "    for l in indices_other_than_removed_coordinates:\n",
    "        # this is the formula at the heart of UPGMA \n",
    "        vector_element = ((matrix[coord[0],l] * cluster_vector[coord[0]]   \n",
    "                             +   matrix[coord[1],l] * cluster_vector[coord[1]] \n",
    "                          ) \n",
    "                           / (cluster_vector[coord[0]] + cluster_vector[coord[1]])\n",
    "                         )\n",
    "        new_vector.append(vector_element)\n",
    "        \n",
    "    new_vector = np.array(new_vector, ndmin=2)               # turn it to a matrix (2 dimension)\n",
    "    matrix_new = np.append(matrix_new, new_vector, axis=0)   # insert the distances to distance matrix, as row\n",
    "    new_vector = np.append(new_vector, [0.0])                # make appropriate dimension\n",
    "    matrix_new = np.append(matrix_new, new_vector.reshape(new_vector.shape[0],1), axis=1) # insert the distances to distance matrix, as column   \n",
    "    \n",
    "    return matrix_new\n",
    "    "
   ]
  },
  {
   "cell_type": "code",
   "execution_count": 14,
   "metadata": {},
   "outputs": [
    {
     "data": {
      "text/plain": [
       "array([[0.   , 1.025],\n",
       "       [1.025, 0.   ]])"
      ]
     },
     "execution_count": 14,
     "metadata": {},
     "output_type": "execute_result"
    }
   ],
   "source": [
    "compute_new_dist_matrix(dist_matrix, cluster_vector, smallest_value_indices)"
   ]
  },
  {
   "cell_type": "code",
   "execution_count": 15,
   "metadata": {},
   "outputs": [
    {
     "data": {
      "text/plain": [
       "array([[0.  , 1.3 , 0.75],\n",
       "       [1.3 , 0.  , 0.34],\n",
       "       [0.75, 0.34, 0.  ]])"
      ]
     },
     "execution_count": 15,
     "metadata": {},
     "output_type": "execute_result"
    }
   ],
   "source": [
    "dist_matrix"
   ]
  },
  {
   "cell_type": "markdown",
   "metadata": {},
   "source": [
    "## Name vector"
   ]
  },
  {
   "cell_type": "markdown",
   "metadata": {},
   "source": [
    "A vector to keep track of cluster names."
   ]
  },
  {
   "cell_type": "code",
   "execution_count": 16,
   "metadata": {},
   "outputs": [],
   "source": [
    "def modify_name_vector(\n",
    "    name_vector,             # a vector of cluster names, e.g.,[0,1,2,3,4]\n",
    "    coord,                   # coordinates/indices of clusters to be combined/merged, e.g., [2,3]\n",
    "):\n",
    "    \"\"\" This function takes in a sequence of cluster names before merging/combining ...\n",
    "    ... and returns the sequence of cluster names after merging after merging/combing process.\n",
    "    \"\"\"\n",
    "    # select all the names into new cluster other than those combined/merged, e.g., [0,1,4]\n",
    "    name_vector_new = [name_vector[i] for i in range(len(name_vector)) if i != coord[0] and i!= coord[1]]\n",
    "    # the new cluster name is next integer from one at the end of name list, e.g., next to 4, is 5\n",
    "    name_vector_new.append( name_vector[-1] + 1 )\n",
    "    name_vector_new = np.array(name_vector_new)       # convert to numpy array\n",
    "    \n",
    "    return name_vector_new                            # e.g., [0,1,4,5]"
   ]
  },
  {
   "cell_type": "code",
   "execution_count": 17,
   "metadata": {},
   "outputs": [
    {
     "data": {
      "text/plain": [
       "[0, 1, 2]"
      ]
     },
     "execution_count": 17,
     "metadata": {},
     "output_type": "execute_result"
    }
   ],
   "source": [
    "name_vector = list(range(dist_matrix.shape[0]))\n",
    "name_vector"
   ]
  },
  {
   "cell_type": "code",
   "execution_count": 18,
   "metadata": {},
   "outputs": [
    {
     "data": {
      "text/plain": [
       "array([0, 3])"
      ]
     },
     "execution_count": 18,
     "metadata": {},
     "output_type": "execute_result"
    }
   ],
   "source": [
    "name_vector = modify_name_vector(name_vector, smallest_value_indices)\n",
    "name_vector"
   ]
  },
  {
   "cell_type": "markdown",
   "metadata": {},
   "source": [
    "## UPGMA and Z-matrix"
   ]
  },
  {
   "cell_type": "code",
   "execution_count": 19,
   "metadata": {},
   "outputs": [],
   "source": [
    "def get_Z(\n",
    "    dist_matrix,          # distance matrix\n",
    "    verbose=False,        # if true, print accessorial information, helpful for \n",
    "):\n",
    "    \"\"\" This function,\n",
    "    1. takes in a distance matrix and run UPGMA,\n",
    "    2. store information generated in the process in a format suitable for drawing a dendrogram: Z-matrix\n",
    "    \n",
    "    Z-matrix has the following form:\n",
    "    array([[1.   , 2.   , 0.34 , 2.   ],          # information from 1st UPGMA iteration\n",
    "           [0.   , 3.   , 1.025, 3.   ]])         # information from 2nd UPGMA iteration\n",
    "    each row of the Z-matrix has following order:\n",
    "        1st and 2nd elements: names of clusters to combined        # e.g., in firt row: 1, 2\n",
    "        3rd element: distance between these clusters               # e.g., 0.34\n",
    "        4th element: size of new formed cluseter (after combineing)# e.g., 2\n",
    "    \"\"\"\n",
    "    Z = []\n",
    "    new_matrix = dist_matrix\n",
    "    new_cluster = np.ones(dist_matrix.shape[0])\n",
    "    name_vector = list(range(len(new_cluster)))\n",
    "    \n",
    "    # this loop runs UPGMA...\n",
    "    # ...until the size of modified matrix remains larger than 2...\n",
    "    # ...after which the loop ends\n",
    "    itr = 1      # keep track of iteration in UPGMA\n",
    "    while (new_matrix.shape[0] > 2):\n",
    "        smallest_value_indices, smallest_value = find_smallest(new_matrix)\n",
    "        if verbose:\n",
    "            print(\"\\n=========================== Iteration:\", itr, \"===========================\")\n",
    "            print(\"Initial distance matrix\")\n",
    "            print(new_matrix)\n",
    "            print(\"\\nIndices of clusters with smallest values in the distance matrix\")\n",
    "            print(smallest_value_indices)\n",
    "        \n",
    "        # compute the modified distance matrix\n",
    "        new_matrix = compute_new_dist_matrix(new_matrix, new_cluster, smallest_value_indices)\n",
    "        if verbose:\n",
    "            print(\"\\nModified distance matrix\")\n",
    "            print(new_matrix)\n",
    "        \n",
    "        # compute the new cluster vector\n",
    "        new_cluster = modify_cluster_vector(new_cluster, smallest_value_indices)\n",
    "        \n",
    "        if verbose:\n",
    "            print(\"\\nInitial name vector (cluster names)\")\n",
    "            print(name_vector)\n",
    "        \n",
    "        # information forming a row of Z-matrix is stored in record variable\n",
    "        record = [name_vector[smallest_value_indices[0]],      # cluster 1\n",
    "                  name_vector[smallest_value_indices[1]],      # cluster 2\n",
    "                  smallest_value,                              # distance between cluster 1 and 2, value from distance matrix\n",
    "                  new_cluster[-1]]                             # size of the new formed cluster after combining clusters 1 and 2\n",
    "        # add a row to the Z-matrix\n",
    "        Z.append(record)\n",
    "        #modify the cluster names after \n",
    "        name_vector = modify_name_vector(name_vector, smallest_value_indices)\n",
    "        if verbose:\n",
    "            print(\"\\nModified name vector (cluster names)\")\n",
    "            print(name_vector)\n",
    "\n",
    "        if verbose:\n",
    "            print()\n",
    "            \n",
    "        itr += 1         # increase iteration counter\n",
    "        \n",
    "    # as the loop ends when shape of the distance matrix is 2x2...\n",
    "    # ...the last record is added by hand to the Z-matrix\n",
    "    record = [name_vector[0], name_vector[1], new_matrix[0,1], new_cluster[0]+new_cluster[1]]\n",
    "    Z.append(record)\n",
    "    \n",
    "    Z = np.array(Z)           # convert to numpy array\n",
    "    \n",
    "    return(Z)"
   ]
  },
  {
   "cell_type": "code",
   "execution_count": 20,
   "metadata": {},
   "outputs": [
    {
     "name": "stdout",
     "output_type": "stream",
     "text": [
      "\n",
      "=========================== Iteration: 1 ===========================\n",
      "Initial distance matrix\n",
      "[[0.   1.3  0.75]\n",
      " [1.3  0.   0.34]\n",
      " [0.75 0.34 0.  ]]\n",
      "\n",
      "Indices of clusters with smallest values in the distance matrix\n",
      "[1 2]\n",
      "\n",
      "Modified distance matrix\n",
      "[[0.    1.025]\n",
      " [1.025 0.   ]]\n",
      "\n",
      "Initial name vector (cluster names)\n",
      "[0, 1, 2]\n",
      "\n",
      "Modified name vector (cluster names)\n",
      "[0 3]\n",
      "\n",
      "\n",
      "******The Z-matrix******\n",
      "[[1.    2.    0.34  2.   ]\n",
      " [0.    3.    1.025 3.   ]]\n"
     ]
    }
   ],
   "source": [
    "z = get_Z(dist_matrix, verbose=True)\n",
    "print(\"\\n******The Z-matrix******\")\n",
    "print(z)"
   ]
  },
  {
   "cell_type": "markdown",
   "metadata": {},
   "source": [
    "## Dendrogram"
   ]
  },
  {
   "cell_type": "code",
   "execution_count": 21,
   "metadata": {},
   "outputs": [],
   "source": [
    "from scipy.cluster.hierarchy import dendrogram"
   ]
  },
  {
   "cell_type": "code",
   "execution_count": 22,
   "metadata": {},
   "outputs": [
    {
     "data": {
      "text/plain": [
       "{'icoord': [[15.0, 15.0, 25.0, 25.0], [5.0, 5.0, 20.0, 20.0]],\n",
       " 'dcoord': [[0.0, 0.34, 0.34, 0.0], [0.0, 1.025, 1.025, 0.34]],\n",
       " 'ivl': ['0', '1', '2'],\n",
       " 'leaves': [0, 1, 2],\n",
       " 'color_list': ['C1', 'C0']}"
      ]
     },
     "execution_count": 22,
     "metadata": {},
     "output_type": "execute_result"
    },
    {
     "data": {
      "image/png": "[encoded data removed]",
      "text/plain": [
       "<Figure size 432x288 with 1 Axes>"
      ]
     },
     "metadata": {
      "needs_background": "light"
     },
     "output_type": "display_data"
    }
   ],
   "source": [
    "dendrogram(z)"
   ]
  },
  {
   "cell_type": "markdown",
   "metadata": {},
   "source": [
    "Let's test this on a larger matrix, for simplicity a random 5x5 distance matrix"
   ]
  },
  {
   "cell_type": "code",
   "execution_count": 23,
   "metadata": {},
   "outputs": [
    {
     "name": "stdout",
     "output_type": "stream",
     "text": [
      "[[0.         2.05737355 1.13562331 1.54246927 1.93372519]\n",
      " [2.05737355 0.         0.98684334 1.4261045  1.51297918]\n",
      " [1.13562331 0.98684334 0.         0.6393497  0.77681816]\n",
      " [1.54246927 1.4261045  0.6393497  0.         1.33192005]\n",
      " [1.93372519 1.51297918 0.77681816 1.33192005 0.        ]]\n"
     ]
    }
   ],
   "source": [
    "# generate a random 5x5 matrix\n",
    "rm = np.random.rand(5,5)\n",
    "# generate a symmetric matrix by dotting onto itself. Remember a distance matrix is symmetric.\n",
    "test_matrix = np.dot(rm, rm.T)\n",
    "# put the diagonal elements to zero. Remember a diagonal elements of a distance matrix are zero.\n",
    "np.fill_diagonal(test_matrix,0)\n",
    "# print the test matrix\n",
    "print(test_matrix)"
   ]
  },
  {
   "cell_type": "markdown",
   "metadata": {},
   "source": [
    "Run UPGMA and generate Z-matrix for for supplying to dendrogram function"
   ]
  },
  {
   "cell_type": "code",
   "execution_count": 24,
   "metadata": {},
   "outputs": [
    {
     "name": "stdout",
     "output_type": "stream",
     "text": [
      "\n",
      "=========================== Iteration: 1 ===========================\n",
      "Initial distance matrix\n",
      "[[0.         2.05737355 1.13562331 1.54246927 1.93372519]\n",
      " [2.05737355 0.         0.98684334 1.4261045  1.51297918]\n",
      " [1.13562331 0.98684334 0.         0.6393497  0.77681816]\n",
      " [1.54246927 1.4261045  0.6393497  0.         1.33192005]\n",
      " [1.93372519 1.51297918 0.77681816 1.33192005 0.        ]]\n",
      "\n",
      "Indices of clusters with smallest values in the distance matrix\n",
      "[2 3]\n",
      "\n",
      "Modified distance matrix\n",
      "[[0.         2.05737355 1.93372519 1.33904629]\n",
      " [2.05737355 0.         1.51297918 1.20647392]\n",
      " [1.93372519 1.51297918 0.         1.0543691 ]\n",
      " [1.33904629 1.20647392 1.0543691  0.        ]]\n",
      "\n",
      "Initial name vector (cluster names)\n",
      "[0, 1, 2, 3, 4]\n",
      "\n",
      "Modified name vector (cluster names)\n",
      "[0 1 4 5]\n",
      "\n",
      "\n",
      "=========================== Iteration: 2 ===========================\n",
      "Initial distance matrix\n",
      "[[0.         2.05737355 1.93372519 1.33904629]\n",
      " [2.05737355 0.         1.51297918 1.20647392]\n",
      " [1.93372519 1.51297918 0.         1.0543691 ]\n",
      " [1.33904629 1.20647392 1.0543691  0.        ]]\n",
      "\n",
      "Indices of clusters with smallest values in the distance matrix\n",
      "[2 3]\n",
      "\n",
      "Modified distance matrix\n",
      "[[0.         2.05737355 1.53727259]\n",
      " [2.05737355 0.         1.30864234]\n",
      " [1.53727259 1.30864234 0.        ]]\n",
      "\n",
      "Initial name vector (cluster names)\n",
      "[0 1 4 5]\n",
      "\n",
      "Modified name vector (cluster names)\n",
      "[0 1 6]\n",
      "\n",
      "\n",
      "=========================== Iteration: 3 ===========================\n",
      "Initial distance matrix\n",
      "[[0.         2.05737355 1.53727259]\n",
      " [2.05737355 0.         1.30864234]\n",
      " [1.53727259 1.30864234 0.        ]]\n",
      "\n",
      "Indices of clusters with smallest values in the distance matrix\n",
      "[1 2]\n",
      "\n",
      "Modified distance matrix\n",
      "[[0.         1.66729783]\n",
      " [1.66729783 0.        ]]\n",
      "\n",
      "Initial name vector (cluster names)\n",
      "[0 1 6]\n",
      "\n",
      "Modified name vector (cluster names)\n",
      "[0 7]\n",
      "\n",
      "\n",
      "******The Z-matrix******\n",
      "[[2.         3.         0.6393497  2.        ]\n",
      " [4.         5.         1.0543691  3.        ]\n",
      " [1.         6.         1.30864234 4.        ]\n",
      " [0.         7.         1.66729783 5.        ]]\n"
     ]
    }
   ],
   "source": [
    "z = get_Z(test_matrix, verbose=True)\n",
    "print(\"\\n******The Z-matrix******\")\n",
    "print(z)"
   ]
  },
  {
   "cell_type": "code",
   "execution_count": 25,
   "metadata": {},
   "outputs": [
    {
     "data": {
      "text/plain": [
       "{'icoord': [[35.0, 35.0, 45.0, 45.0],\n",
       "  [25.0, 25.0, 40.0, 40.0],\n",
       "  [15.0, 15.0, 32.5, 32.5],\n",
       "  [5.0, 5.0, 23.75, 23.75]],\n",
       " 'dcoord': [[0.0, 0.6393497002858731, 0.6393497002858731, 0.0],\n",
       "  [0.0, 1.0543691032854337, 1.0543691032854337, 0.6393497002858731],\n",
       "  [0.0, 1.3086423408461945, 1.3086423408461945, 1.0543691032854337],\n",
       "  [0.0, 1.6672978305846393, 1.6672978305846393, 1.3086423408461945]],\n",
       " 'ivl': ['0', '1', '4', '2', '3'],\n",
       " 'leaves': [0, 1, 4, 2, 3],\n",
       " 'color_list': ['C1', 'C1', 'C0', 'C0']}"
      ]
     },
     "execution_count": 25,
     "metadata": {},
     "output_type": "execute_result"
    },
    {
     "data": {
      "image/png": "[encoded data removed]",
      "text/plain": [
       "<Figure size 432x288 with 1 Axes>"
      ]
     },
     "metadata": {
      "needs_background": "light"
     },
     "output_type": "display_data"
    }
   ],
   "source": [
    "dendrogram(z)"
   ]
  },
  {
   "cell_type": "markdown",
   "metadata": {},
   "source": [
    "## Using Scipy"
   ]
  },
  {
   "cell_type": "code",
   "execution_count": 26,
   "metadata": {},
   "outputs": [],
   "source": [
    "from scipy.cluster.hierarchy import dendrogram, linkage"
   ]
  },
  {
   "cell_type": "markdown",
   "metadata": {},
   "source": [
    "To use the Python package Scipy (a.k.a. Scientific python) to perform clustering and creating dendrogram, we first need to convert our distance matrix into another form --a **condensed form**. This is required by the scipy function `linkage`. The function `linkage` give us our now familiar Z-form, which can be supplied to `dendrogram` function, as usual."
   ]
  },
  {
   "cell_type": "code",
   "execution_count": 27,
   "metadata": {},
   "outputs": [
    {
     "data": {
      "text/plain": [
       "[1.3, 0.75, 0.34]"
      ]
     },
     "execution_count": 27,
     "metadata": {},
     "output_type": "execute_result"
    }
   ],
   "source": [
    "def get_dist_matrix_condensed(dist_matrix):\n",
    "    \"\"\"This function convert a NxN distance matrix into a condensed form...\n",
    "    ...suitable for `linkage` function from scipy module.\n",
    "    \"\"\"\n",
    "    dist_matrix_condensed = [dist_matrix[i,j] for i,j in zip(*np.triu_indices(dist_matrix.shape[0], k=1))]\n",
    "    return dist_matrix_condensed\n",
    "\n",
    "dist_matrix_condensed = get_dist_matrix_condensed(dist_matrix)\n",
    "dist_matrix_condensed"
   ]
  },
  {
   "cell_type": "code",
   "execution_count": 28,
   "metadata": {
    "scrolled": true
   },
   "outputs": [
    {
     "data": {
      "text/plain": [
       "array([[1.   , 2.   , 0.34 , 2.   ],\n",
       "       [0.   , 3.   , 1.025, 3.   ]])"
      ]
     },
     "execution_count": 28,
     "metadata": {},
     "output_type": "execute_result"
    }
   ],
   "source": [
    "Z = linkage(dist_matrix_condensed, 'average')\n",
    "Z"
   ]
  },
  {
   "cell_type": "code",
   "execution_count": 29,
   "metadata": {},
   "outputs": [
    {
     "data": {
      "text/plain": [
       "{'icoord': [[15.0, 15.0, 25.0, 25.0], [5.0, 5.0, 20.0, 20.0]],\n",
       " 'dcoord': [[0.0, 0.34, 0.34, 0.0], [0.0, 1.025, 1.025, 0.34]],\n",
       " 'ivl': ['0', '1', '2'],\n",
       " 'leaves': [0, 1, 2],\n",
       " 'color_list': ['C1', 'C0']}"
      ]
     },
     "execution_count": 29,
     "metadata": {},
     "output_type": "execute_result"
    },
    {
     "data": {
      "image/png": "[encoded data removed]",
      "text/plain": [
       "<Figure size 432x288 with 1 Axes>"
      ]
     },
     "metadata": {
      "needs_background": "light"
     },
     "output_type": "display_data"
    }
   ],
   "source": [
    "# Make the dendrogram\n",
    "dendrogram(Z, \n",
    "           # labels=df.index, \n",
    "           # leaf_rotation=90,\n",
    "          )"
   ]
  },
  {
   "cell_type": "code",
   "execution_count": 30,
   "metadata": {},
   "outputs": [
    {
     "name": "stdout",
     "output_type": "stream",
     "text": [
      "[[1.02719603 0.72209152 1.33423023 1.24273954 0.36276868]\n",
      " [0.72209152 1.13196872 1.11284997 1.10054235 0.48249982]\n",
      " [1.33423023 1.11284997 2.1973092  1.80001813 0.59452945]\n",
      " [1.24273954 1.10054235 1.80001813 2.31977758 0.28833905]\n",
      " [0.36276868 0.48249982 0.59452945 0.28833905 0.32653014]]\n"
     ]
    },
    {
     "data": {
      "text/plain": [
       "array([[0.        , 0.72209152, 1.33423023, 1.24273954, 0.36276868],\n",
       "       [0.72209152, 0.        , 1.11284997, 1.10054235, 0.48249982],\n",
       "       [1.33423023, 1.11284997, 0.        , 1.80001813, 0.59452945],\n",
       "       [1.24273954, 1.10054235, 1.80001813, 0.        , 0.28833905],\n",
       "       [0.36276868, 0.48249982, 0.59452945, 0.28833905, 0.        ]])"
      ]
     },
     "execution_count": 30,
     "metadata": {},
     "output_type": "execute_result"
    }
   ],
   "source": [
    "rm = np.random.rand(5,5)\n",
    "test_matrix = np.dot(rm, rm.T)\n",
    "print(test_matrix)\n",
    "np.fill_diagonal(test_matrix,0)\n",
    "test_matrix"
   ]
  },
  {
   "cell_type": "code",
   "execution_count": 31,
   "metadata": {},
   "outputs": [
    {
     "data": {
      "text/plain": [
       "array([[3.        , 4.        , 0.28833905, 2.        ],\n",
       "       [0.        , 1.        , 0.72209152, 2.        ],\n",
       "       [5.        , 6.        , 0.7971376 , 4.        ],\n",
       "       [2.        , 7.        , 1.21040695, 5.        ]])"
      ]
     },
     "execution_count": 31,
     "metadata": {},
     "output_type": "execute_result"
    }
   ],
   "source": [
    "linkage(get_dist_matrix_condensed(test_matrix), 'average')"
   ]
  },
  {
   "cell_type": "code",
   "execution_count": 32,
   "metadata": {},
   "outputs": [
    {
     "data": {
      "text/plain": [
       "{'icoord': [[15.0, 15.0, 25.0, 25.0],\n",
       "  [35.0, 35.0, 45.0, 45.0],\n",
       "  [20.0, 20.0, 40.0, 40.0],\n",
       "  [5.0, 5.0, 30.0, 30.0]],\n",
       " 'dcoord': [[0.0, 0.28833904859016957, 0.28833904859016957, 0.0],\n",
       "  [0.0, 0.7220915249127693, 0.7220915249127693, 0.0],\n",
       "  [0.28833904859016957,\n",
       "   0.7971376003962174,\n",
       "   0.7971376003962174,\n",
       "   0.7220915249127693],\n",
       "  [0.0, 1.210406945023407, 1.210406945023407, 0.7971376003962174]],\n",
       " 'ivl': ['2', '3', '4', '0', '1'],\n",
       " 'leaves': [2, 3, 4, 0, 1],\n",
       " 'color_list': ['C1', 'C1', 'C1', 'C0']}"
      ]
     },
     "execution_count": 32,
     "metadata": {},
     "output_type": "execute_result"
    },
    {
     "data": {
      "image/png": "[encoded data removed]",
      "text/plain": [
       "<Figure size 432x288 with 1 Axes>"
      ]
     },
     "metadata": {
      "needs_background": "light"
     },
     "output_type": "display_data"
    }
   ],
   "source": [
    "dendrogram(linkage(get_dist_matrix_condensed(test_matrix), 'average'))"
   ]
  },
  {
   "cell_type": "markdown",
   "metadata": {},
   "source": [
    "## Zhao_Li_2021_ISME-journal"
   ]
  },
  {
   "cell_type": "markdown",
   "metadata": {},
   "source": [
    "[Zhao and Li 2021](https://www.nature.com/articles/s41396-020-00874-x)"
   ]
  },
  {
   "cell_type": "markdown",
   "metadata": {},
   "source": [
    "Read in the excel file"
   ]
  },
  {
   "cell_type": "code",
   "execution_count": 33,
   "metadata": {},
   "outputs": [
    {
     "data": {
      "text/html": [
       "<div>\n",
       "<style scoped>\n",
       "    .dataframe tbody tr th:only-of-type {\n",
       "        vertical-align: middle;\n",
       "    }\n",
       "\n",
       "    .dataframe tbody tr th {\n",
       "        vertical-align: top;\n",
       "    }\n",
       "\n",
       "    .dataframe thead th {\n",
       "        text-align: right;\n",
       "    }\n",
       "</style>\n",
       "<table border=\"1\" class=\"dataframe\">\n",
       "  <thead>\n",
       "    <tr style=\"text-align: right;\">\n",
       "      <th></th>\n",
       "      <th>Unnamed: 0</th>\n",
       "      <th>Bch1</th>\n",
       "      <th>Bch2</th>\n",
       "      <th>Bch3</th>\n",
       "      <th>Bco1</th>\n",
       "      <th>Bco2</th>\n",
       "      <th>Bco3</th>\n",
       "      <th>BcoH1</th>\n",
       "      <th>BcoH3</th>\n",
       "      <th>BcoH4</th>\n",
       "      <th>...</th>\n",
       "      <th>Bw9-1</th>\n",
       "      <th>Bw9-2</th>\n",
       "      <th>Dis8</th>\n",
       "      <th>Dis9</th>\n",
       "      <th>Dis10</th>\n",
       "      <th>D1</th>\n",
       "      <th>D3</th>\n",
       "      <th>D7</th>\n",
       "      <th>D8</th>\n",
       "      <th>D10</th>\n",
       "    </tr>\n",
       "    <tr>\n",
       "      <th>Sample</th>\n",
       "      <th></th>\n",
       "      <th></th>\n",
       "      <th></th>\n",
       "      <th></th>\n",
       "      <th></th>\n",
       "      <th></th>\n",
       "      <th></th>\n",
       "      <th></th>\n",
       "      <th></th>\n",
       "      <th></th>\n",
       "      <th></th>\n",
       "      <th></th>\n",
       "      <th></th>\n",
       "      <th></th>\n",
       "      <th></th>\n",
       "      <th></th>\n",
       "      <th></th>\n",
       "      <th></th>\n",
       "      <th></th>\n",
       "      <th></th>\n",
       "      <th></th>\n",
       "    </tr>\n",
       "  </thead>\n",
       "  <tbody>\n",
       "    <tr>\n",
       "      <th>Bch1</th>\n",
       "      <td>B. championii</td>\n",
       "      <td>0.000000</td>\n",
       "      <td>0.316718</td>\n",
       "      <td>0.369601</td>\n",
       "      <td>0.729170</td>\n",
       "      <td>0.711052</td>\n",
       "      <td>0.673114</td>\n",
       "      <td>0.867779</td>\n",
       "      <td>0.869416</td>\n",
       "      <td>0.905882</td>\n",
       "      <td>...</td>\n",
       "      <td>0.810690</td>\n",
       "      <td>0.790697</td>\n",
       "      <td>0.620771</td>\n",
       "      <td>0.564600</td>\n",
       "      <td>0.719551</td>\n",
       "      <td>0.650059</td>\n",
       "      <td>0.682269</td>\n",
       "      <td>0.588268</td>\n",
       "      <td>0.633684</td>\n",
       "      <td>0.643193</td>\n",
       "    </tr>\n",
       "    <tr>\n",
       "      <th>Bch2</th>\n",
       "      <td>B. championii</td>\n",
       "      <td>0.316718</td>\n",
       "      <td>0.000000</td>\n",
       "      <td>0.362812</td>\n",
       "      <td>0.744568</td>\n",
       "      <td>0.733767</td>\n",
       "      <td>0.687498</td>\n",
       "      <td>0.867075</td>\n",
       "      <td>0.873188</td>\n",
       "      <td>0.903834</td>\n",
       "      <td>...</td>\n",
       "      <td>0.815370</td>\n",
       "      <td>0.803143</td>\n",
       "      <td>0.620155</td>\n",
       "      <td>0.584840</td>\n",
       "      <td>0.710216</td>\n",
       "      <td>0.635877</td>\n",
       "      <td>0.670406</td>\n",
       "      <td>0.608807</td>\n",
       "      <td>0.622893</td>\n",
       "      <td>0.647253</td>\n",
       "    </tr>\n",
       "    <tr>\n",
       "      <th>Bch3</th>\n",
       "      <td>B. championii</td>\n",
       "      <td>0.369601</td>\n",
       "      <td>0.362812</td>\n",
       "      <td>0.000000</td>\n",
       "      <td>0.743329</td>\n",
       "      <td>0.727053</td>\n",
       "      <td>0.682434</td>\n",
       "      <td>0.869104</td>\n",
       "      <td>0.866199</td>\n",
       "      <td>0.906028</td>\n",
       "      <td>...</td>\n",
       "      <td>0.809401</td>\n",
       "      <td>0.798177</td>\n",
       "      <td>0.631246</td>\n",
       "      <td>0.574130</td>\n",
       "      <td>0.733624</td>\n",
       "      <td>0.656825</td>\n",
       "      <td>0.715908</td>\n",
       "      <td>0.633474</td>\n",
       "      <td>0.671968</td>\n",
       "      <td>0.695079</td>\n",
       "    </tr>\n",
       "    <tr>\n",
       "      <th>Bco1</th>\n",
       "      <td>B. coelestis MA</td>\n",
       "      <td>0.729170</td>\n",
       "      <td>0.744568</td>\n",
       "      <td>0.743329</td>\n",
       "      <td>0.000000</td>\n",
       "      <td>0.235651</td>\n",
       "      <td>0.379743</td>\n",
       "      <td>0.900441</td>\n",
       "      <td>0.904213</td>\n",
       "      <td>0.930356</td>\n",
       "      <td>...</td>\n",
       "      <td>0.817800</td>\n",
       "      <td>0.838059</td>\n",
       "      <td>0.728952</td>\n",
       "      <td>0.665903</td>\n",
       "      <td>0.846874</td>\n",
       "      <td>0.812297</td>\n",
       "      <td>0.908207</td>\n",
       "      <td>0.802704</td>\n",
       "      <td>0.843846</td>\n",
       "      <td>0.901256</td>\n",
       "    </tr>\n",
       "    <tr>\n",
       "      <th>Bco2</th>\n",
       "      <td>B. coelestis MA</td>\n",
       "      <td>0.711052</td>\n",
       "      <td>0.733767</td>\n",
       "      <td>0.727053</td>\n",
       "      <td>0.235651</td>\n",
       "      <td>0.000000</td>\n",
       "      <td>0.251910</td>\n",
       "      <td>0.893777</td>\n",
       "      <td>0.897835</td>\n",
       "      <td>0.924451</td>\n",
       "      <td>...</td>\n",
       "      <td>0.799636</td>\n",
       "      <td>0.855125</td>\n",
       "      <td>0.744251</td>\n",
       "      <td>0.677861</td>\n",
       "      <td>0.848235</td>\n",
       "      <td>0.799486</td>\n",
       "      <td>0.870705</td>\n",
       "      <td>0.784355</td>\n",
       "      <td>0.811022</td>\n",
       "      <td>0.879097</td>\n",
       "    </tr>\n",
       "    <tr>\n",
       "      <th>...</th>\n",
       "      <td>...</td>\n",
       "      <td>...</td>\n",
       "      <td>...</td>\n",
       "      <td>...</td>\n",
       "      <td>...</td>\n",
       "      <td>...</td>\n",
       "      <td>...</td>\n",
       "      <td>...</td>\n",
       "      <td>...</td>\n",
       "      <td>...</td>\n",
       "      <td>...</td>\n",
       "      <td>...</td>\n",
       "      <td>...</td>\n",
       "      <td>...</td>\n",
       "      <td>...</td>\n",
       "      <td>...</td>\n",
       "      <td>...</td>\n",
       "      <td>...</td>\n",
       "      <td>...</td>\n",
       "      <td>...</td>\n",
       "      <td>...</td>\n",
       "    </tr>\n",
       "    <tr>\n",
       "      <th>D1</th>\n",
       "      <td>B. disticha 2</td>\n",
       "      <td>0.650059</td>\n",
       "      <td>0.635877</td>\n",
       "      <td>0.656825</td>\n",
       "      <td>0.812297</td>\n",
       "      <td>0.799486</td>\n",
       "      <td>0.769033</td>\n",
       "      <td>0.890307</td>\n",
       "      <td>0.901802</td>\n",
       "      <td>0.926002</td>\n",
       "      <td>...</td>\n",
       "      <td>0.836493</td>\n",
       "      <td>0.786552</td>\n",
       "      <td>0.671550</td>\n",
       "      <td>0.661395</td>\n",
       "      <td>0.683804</td>\n",
       "      <td>0.000000</td>\n",
       "      <td>0.515294</td>\n",
       "      <td>0.437305</td>\n",
       "      <td>0.451474</td>\n",
       "      <td>0.606529</td>\n",
       "    </tr>\n",
       "    <tr>\n",
       "      <th>D3</th>\n",
       "      <td>B. disticha 2</td>\n",
       "      <td>0.682269</td>\n",
       "      <td>0.670406</td>\n",
       "      <td>0.715908</td>\n",
       "      <td>0.908207</td>\n",
       "      <td>0.870705</td>\n",
       "      <td>0.828697</td>\n",
       "      <td>0.918318</td>\n",
       "      <td>0.925222</td>\n",
       "      <td>0.951868</td>\n",
       "      <td>...</td>\n",
       "      <td>0.792402</td>\n",
       "      <td>0.763370</td>\n",
       "      <td>0.730372</td>\n",
       "      <td>0.719648</td>\n",
       "      <td>0.660251</td>\n",
       "      <td>0.515294</td>\n",
       "      <td>0.000000</td>\n",
       "      <td>0.472973</td>\n",
       "      <td>0.431197</td>\n",
       "      <td>0.418651</td>\n",
       "    </tr>\n",
       "    <tr>\n",
       "      <th>D7</th>\n",
       "      <td>B. disticha 3</td>\n",
       "      <td>0.588268</td>\n",
       "      <td>0.608807</td>\n",
       "      <td>0.633474</td>\n",
       "      <td>0.802704</td>\n",
       "      <td>0.784355</td>\n",
       "      <td>0.734761</td>\n",
       "      <td>0.871291</td>\n",
       "      <td>0.877982</td>\n",
       "      <td>0.908321</td>\n",
       "      <td>...</td>\n",
       "      <td>0.801260</td>\n",
       "      <td>0.779439</td>\n",
       "      <td>0.684259</td>\n",
       "      <td>0.671515</td>\n",
       "      <td>0.686053</td>\n",
       "      <td>0.437305</td>\n",
       "      <td>0.472973</td>\n",
       "      <td>0.000000</td>\n",
       "      <td>0.420748</td>\n",
       "      <td>0.565055</td>\n",
       "    </tr>\n",
       "    <tr>\n",
       "      <th>D8</th>\n",
       "      <td>B. disticha 3</td>\n",
       "      <td>0.633684</td>\n",
       "      <td>0.622893</td>\n",
       "      <td>0.671968</td>\n",
       "      <td>0.843846</td>\n",
       "      <td>0.811022</td>\n",
       "      <td>0.763470</td>\n",
       "      <td>0.889808</td>\n",
       "      <td>0.901156</td>\n",
       "      <td>0.926326</td>\n",
       "      <td>...</td>\n",
       "      <td>0.816919</td>\n",
       "      <td>0.790113</td>\n",
       "      <td>0.666503</td>\n",
       "      <td>0.663726</td>\n",
       "      <td>0.667555</td>\n",
       "      <td>0.451474</td>\n",
       "      <td>0.431197</td>\n",
       "      <td>0.420748</td>\n",
       "      <td>0.000000</td>\n",
       "      <td>0.513127</td>\n",
       "    </tr>\n",
       "    <tr>\n",
       "      <th>D10</th>\n",
       "      <td>B. disticha 3</td>\n",
       "      <td>0.643193</td>\n",
       "      <td>0.647253</td>\n",
       "      <td>0.695079</td>\n",
       "      <td>0.901256</td>\n",
       "      <td>0.879097</td>\n",
       "      <td>0.845765</td>\n",
       "      <td>0.933212</td>\n",
       "      <td>0.936648</td>\n",
       "      <td>0.958643</td>\n",
       "      <td>...</td>\n",
       "      <td>0.784058</td>\n",
       "      <td>0.743877</td>\n",
       "      <td>0.729553</td>\n",
       "      <td>0.732505</td>\n",
       "      <td>0.669506</td>\n",
       "      <td>0.606529</td>\n",
       "      <td>0.418651</td>\n",
       "      <td>0.565055</td>\n",
       "      <td>0.513127</td>\n",
       "      <td>0.000000</td>\n",
       "    </tr>\n",
       "  </tbody>\n",
       "</table>\n",
       "<p>67 rows × 68 columns</p>\n",
       "</div>"
      ],
      "text/plain": [
       "             Unnamed: 0      Bch1      Bch2      Bch3      Bco1      Bco2  \\\n",
       "Sample                                                                      \n",
       "Bch1      B. championii  0.000000  0.316718  0.369601  0.729170  0.711052   \n",
       "Bch2      B. championii  0.316718  0.000000  0.362812  0.744568  0.733767   \n",
       "Bch3      B. championii  0.369601  0.362812  0.000000  0.743329  0.727053   \n",
       "Bco1    B. coelestis MA  0.729170  0.744568  0.743329  0.000000  0.235651   \n",
       "Bco2    B. coelestis MA  0.711052  0.733767  0.727053  0.235651  0.000000   \n",
       "...                 ...       ...       ...       ...       ...       ...   \n",
       "D1        B. disticha 2  0.650059  0.635877  0.656825  0.812297  0.799486   \n",
       "D3        B. disticha 2  0.682269  0.670406  0.715908  0.908207  0.870705   \n",
       "D7        B. disticha 3  0.588268  0.608807  0.633474  0.802704  0.784355   \n",
       "D8        B. disticha 3  0.633684  0.622893  0.671968  0.843846  0.811022   \n",
       "D10       B. disticha 3  0.643193  0.647253  0.695079  0.901256  0.879097   \n",
       "\n",
       "            Bco3     BcoH1     BcoH3     BcoH4  ...     Bw9-1     Bw9-2  \\\n",
       "Sample                                          ...                       \n",
       "Bch1    0.673114  0.867779  0.869416  0.905882  ...  0.810690  0.790697   \n",
       "Bch2    0.687498  0.867075  0.873188  0.903834  ...  0.815370  0.803143   \n",
       "Bch3    0.682434  0.869104  0.866199  0.906028  ...  0.809401  0.798177   \n",
       "Bco1    0.379743  0.900441  0.904213  0.930356  ...  0.817800  0.838059   \n",
       "Bco2    0.251910  0.893777  0.897835  0.924451  ...  0.799636  0.855125   \n",
       "...          ...       ...       ...       ...  ...       ...       ...   \n",
       "D1      0.769033  0.890307  0.901802  0.926002  ...  0.836493  0.786552   \n",
       "D3      0.828697  0.918318  0.925222  0.951868  ...  0.792402  0.763370   \n",
       "D7      0.734761  0.871291  0.877982  0.908321  ...  0.801260  0.779439   \n",
       "D8      0.763470  0.889808  0.901156  0.926326  ...  0.816919  0.790113   \n",
       "D10     0.845765  0.933212  0.936648  0.958643  ...  0.784058  0.743877   \n",
       "\n",
       "            Dis8      Dis9     Dis10        D1        D3        D7        D8  \\\n",
       "Sample                                                                         \n",
       "Bch1    0.620771  0.564600  0.719551  0.650059  0.682269  0.588268  0.633684   \n",
       "Bch2    0.620155  0.584840  0.710216  0.635877  0.670406  0.608807  0.622893   \n",
       "Bch3    0.631246  0.574130  0.733624  0.656825  0.715908  0.633474  0.671968   \n",
       "Bco1    0.728952  0.665903  0.846874  0.812297  0.908207  0.802704  0.843846   \n",
       "Bco2    0.744251  0.677861  0.848235  0.799486  0.870705  0.784355  0.811022   \n",
       "...          ...       ...       ...       ...       ...       ...       ...   \n",
       "D1      0.671550  0.661395  0.683804  0.000000  0.515294  0.437305  0.451474   \n",
       "D3      0.730372  0.719648  0.660251  0.515294  0.000000  0.472973  0.431197   \n",
       "D7      0.684259  0.671515  0.686053  0.437305  0.472973  0.000000  0.420748   \n",
       "D8      0.666503  0.663726  0.667555  0.451474  0.431197  0.420748  0.000000   \n",
       "D10     0.729553  0.732505  0.669506  0.606529  0.418651  0.565055  0.513127   \n",
       "\n",
       "             D10  \n",
       "Sample            \n",
       "Bch1    0.643193  \n",
       "Bch2    0.647253  \n",
       "Bch3    0.695079  \n",
       "Bco1    0.901256  \n",
       "Bco2    0.879097  \n",
       "...          ...  \n",
       "D1      0.606529  \n",
       "D3      0.418651  \n",
       "D7      0.565055  \n",
       "D8      0.513127  \n",
       "D10     0.000000  \n",
       "\n",
       "[67 rows x 68 columns]"
      ]
     },
     "execution_count": 33,
     "metadata": {},
     "output_type": "execute_result"
    }
   ],
   "source": [
    "dft5 = pd.read_excel(\"TableS5.xlsx\",\n",
    "                     skiprows=[0,1],         # skip first two rows from the excel file\n",
    "                     index_col= 1,           # set column 1 as the index of the dataframe\n",
    "                    )\n",
    "dft5"
   ]
  },
  {
   "cell_type": "code",
   "execution_count": 34,
   "metadata": {},
   "outputs": [
    {
     "data": {
      "text/plain": [
       "array([[0.        , 0.31671808, 0.36960069, ..., 0.5882678 , 0.63368393,\n",
       "        0.64319314],\n",
       "       [0.31671808, 0.        , 0.36281246, ..., 0.60880668, 0.62289267,\n",
       "        0.64725301],\n",
       "       [0.36960069, 0.36281246, 0.        , ..., 0.63347443, 0.671968  ,\n",
       "        0.69507932],\n",
       "       ...,\n",
       "       [0.5882678 , 0.60880668, 0.63347443, ..., 0.        , 0.42074835,\n",
       "        0.56505548],\n",
       "       [0.63368393, 0.62289267, 0.671968  , ..., 0.42074835, 0.        ,\n",
       "        0.51312739],\n",
       "       [0.64319314, 0.64725301, 0.69507932, ..., 0.56505548, 0.51312739,\n",
       "        0.        ]])"
      ]
     },
     "execution_count": 34,
     "metadata": {},
     "output_type": "execute_result"
    }
   ],
   "source": [
    "# create distance matrix using the above dataframe\n",
    "# Remember first column has species names, we don't wish them in our distance matrix.\n",
    "# So we select all columns starting from 1st column\n",
    "t5_dist_matrix = dft5.iloc[:, 1:].values           # select all rows `:` and all columns from 1-onwards `1:`\n",
    "t5_dist_matrix"
   ]
  },
  {
   "cell_type": "markdown",
   "metadata": {},
   "source": [
    "Run UPGMA"
   ]
  },
  {
   "cell_type": "code",
   "execution_count": 35,
   "metadata": {},
   "outputs": [
    {
     "data": {
      "text/plain": [
       "array([[ 34.        ,  36.        ,   0.15530236,   2.        ],\n",
       "       [ 32.        ,  33.        ,   0.18792035,   2.        ],\n",
       "       [ 35.        ,  67.        ,   0.19055305,   3.        ],\n",
       "       [  3.        ,   4.        ,   0.23565142,   2.        ],\n",
       "       [ 37.        ,  38.        ,   0.26134015,   2.        ],\n",
       "       [ 68.        ,  70.        ,   0.26144966,   4.        ],\n",
       "       [  5.        ,  72.        ,   0.31576487,   5.        ],\n",
       "       [  0.        ,   1.        ,   0.31671808,   2.        ],\n",
       "       [ 47.        ,  48.        ,   0.31931563,   2.        ],\n",
       "       [ 39.        ,  69.        ,   0.32505431,   4.        ],\n",
       "       [ 14.        ,  15.        ,   0.34758166,   2.        ],\n",
       "       [ 17.        ,  18.        ,   0.35373413,   2.        ],\n",
       "       [  2.        ,  74.        ,   0.36620657,   3.        ],\n",
       "       [ 26.        ,  71.        ,   0.37493028,   3.        ],\n",
       "       [ 12.        ,  21.        ,   0.37517877,   2.        ],\n",
       "       [ 51.        ,  52.        ,   0.37741151,   2.        ],\n",
       "       [ 40.        ,  41.        ,   0.39299143,   2.        ],\n",
       "       [ 24.        ,  76.        ,   0.39929075,   5.        ],\n",
       "       [ 55.        ,  82.        ,   0.40921935,   3.        ],\n",
       "       [ 16.        ,  77.        ,   0.41219822,   3.        ],\n",
       "       [ 27.        ,  80.        ,   0.41739779,   4.        ],\n",
       "       [ 63.        ,  66.        ,   0.41865132,   2.        ],\n",
       "       [ 13.        ,  46.        ,   0.42008389,   2.        ],\n",
       "       [ 64.        ,  65.        ,   0.42074835,   2.        ],\n",
       "       [ 59.        ,  60.        ,   0.42234157,   2.        ],\n",
       "       [ 49.        ,  85.        ,   0.43253425,   4.        ],\n",
       "       [ 62.        ,  90.        ,   0.44438948,   3.        ],\n",
       "       [ 19.        ,  20.        ,   0.4449891 ,   2.        ],\n",
       "       [ 57.        ,  58.        ,   0.44545378,   2.        ],\n",
       "       [ 23.        ,  84.        ,   0.44724897,   6.        ],\n",
       "       [ 22.        ,  25.        ,   0.45869807,   2.        ],\n",
       "       [ 79.        ,  86.        ,   0.45906341,   6.        ],\n",
       "       [ 75.        ,  91.        ,   0.45907852,   4.        ],\n",
       "       [ 50.        ,  93.        ,   0.46327296,   4.        ],\n",
       "       [ 44.        ,  45.        ,   0.47226298,   2.        ],\n",
       "       [ 88.        ,  92.        ,   0.49178453,   6.        ],\n",
       "       [ 53.        ,  54.        ,   0.4934398 ,   2.        ],\n",
       "       [ 10.        ,  89.        ,   0.49689994,   3.        ],\n",
       "       [ 81.        ,  94.        ,   0.503004  ,   4.        ],\n",
       "       [ 87.        ,  96.        ,   0.52281087,  10.        ],\n",
       "       [ 28.        ,  31.        ,   0.53144585,   2.        ],\n",
       "       [100.        , 102.        ,   0.53213911,  10.        ],\n",
       "       [ 95.        , 103.        ,   0.53477481,   4.        ],\n",
       "       [ 11.        , 104.        ,   0.53587334,   4.        ],\n",
       "       [ 98.        , 105.        ,   0.54725956,  10.        ],\n",
       "       [ 43.        , 101.        ,   0.56539362,   3.        ],\n",
       "       [ 83.        , 108.        ,   0.57177356,  12.        ],\n",
       "       [ 56.        , 109.        ,   0.57486087,   5.        ],\n",
       "       [ 97.        , 106.        ,   0.5780042 ,  12.        ],\n",
       "       [ 99.        , 111.        ,   0.58422437,  14.        ],\n",
       "       [ 42.        , 115.        ,   0.59780762,  13.        ],\n",
       "       [  7.        ,   8.        ,   0.60691528,   2.        ],\n",
       "       [  6.        ,   9.        ,   0.60943831,   2.        ],\n",
       "       [ 61.        , 110.        ,   0.6239434 ,   5.        ],\n",
       "       [ 30.        , 107.        ,   0.62950359,   3.        ],\n",
       "       [113.        , 120.        ,   0.65194732,  17.        ],\n",
       "       [116.        , 122.        ,   0.68141385,  31.        ],\n",
       "       [117.        , 123.        ,   0.71448907,  44.        ],\n",
       "       [114.        , 124.        ,   0.73978534,  49.        ],\n",
       "       [ 29.        , 121.        ,   0.74034544,   4.        ],\n",
       "       [118.        , 119.        ,   0.75381664,   4.        ],\n",
       "       [ 78.        , 125.        ,   0.77974028,  51.        ],\n",
       "       [ 73.        , 128.        ,   0.79709903,  56.        ],\n",
       "       [126.        , 129.        ,   0.85397406,  60.        ],\n",
       "       [112.        , 130.        ,   0.90890303,  63.        ],\n",
       "       [127.        , 131.        ,   0.92669386,  67.        ]])"
      ]
     },
     "execution_count": 35,
     "metadata": {},
     "output_type": "execute_result"
    }
   ],
   "source": [
    "z = get_Z(t5_dist_matrix)\n",
    "z"
   ]
  },
  {
   "cell_type": "code",
   "execution_count": 36,
   "metadata": {
    "scrolled": false
   },
   "outputs": [
    {
     "data": {
      "image/png": "[encoded data removed]",
      "text/plain": [
       "<Figure size 720x1080 with 1 Axes>"
      ]
     },
     "metadata": {
      "needs_background": "light"
     },
     "output_type": "display_data"
    }
   ],
   "source": [
    "plt.figure(figsize=(10,15))\n",
    "dendrogram(z, orientation='left', \n",
    "           above_threshold_color = 'black',\n",
    "           color_threshold=0,\n",
    "          );"
   ]
  },
  {
   "cell_type": "markdown",
   "metadata": {},
   "source": [
    "## Exercises"
   ]
  },
  {
   "cell_type": "markdown",
   "metadata": {},
   "source": [
    "### Create clustering trees for random distance matrices of different dimensions $N \\times N$, with $N$ = 10, 20, 50. Use both algorithms (our own UPGMA implementation and the one available via a python package)."
   ]
  },
  {
   "cell_type": "code",
   "execution_count": 37,
   "metadata": {},
   "outputs": [
    {
     "name": "stdout",
     "output_type": "stream",
     "text": [
      "[[3.44228983 3.0088534  1.79210354 2.9144507  2.10394154 1.9971068\n",
      "  2.37815703 2.00126646 2.60955554 2.15140603]\n",
      " [3.0088534  4.68932401 2.28116005 3.18305302 2.72656885 2.34864787\n",
      "  3.5023582  2.66756866 2.8367268  2.56596641]\n",
      " [1.79210354 2.28116005 1.83008483 1.32713902 1.4352544  1.22869151\n",
      "  1.49465284 1.2945238  1.56612197 1.93300178]\n",
      " [2.9144507  3.18305302 1.32713902 3.74298143 2.35828643 2.37130206\n",
      "  2.7593549  2.09424507 2.42816887 2.18622226]\n",
      " [2.10394154 2.72656885 1.4352544  2.35828643 2.42638765 1.86378217\n",
      "  2.39442816 1.91661969 2.06381318 2.17267173]\n",
      " [1.9971068  2.34864787 1.22869151 2.37130206 1.86378217 2.43487375\n",
      "  2.08812674 1.84767806 1.74865034 2.14778128]\n",
      " [2.37815703 3.5023582  1.49465284 2.7593549  2.39442816 2.08812674\n",
      "  3.30999384 1.65236838 2.44696743 2.19138434]\n",
      " [2.00126646 2.66756866 1.2945238  2.09424507 1.91661969 1.84767806\n",
      "  1.65236838 2.65138644 1.47337685 1.65195068]\n",
      " [2.60955554 2.8367268  1.56612197 2.42816887 2.06381318 1.74865034\n",
      "  2.44696743 1.47337685 2.57433095 2.07641882]\n",
      " [2.15140603 2.56596641 1.93300178 2.18622226 2.17267173 2.14778128\n",
      "  2.19138434 1.65195068 2.07641882 3.08219586]]\n"
     ]
    },
    {
     "data": {
      "image/png": "[encoded data removed]",
      "text/plain": [
       "<Figure size 720x576 with 1 Axes>"
      ]
     },
     "metadata": {
      "needs_background": "light"
     },
     "output_type": "display_data"
    },
    {
     "name": "stdout",
     "output_type": "stream",
     "text": [
      "[[7.3167403  6.0337699  5.6754154  4.39954447 5.34300519 5.70681869\n",
      "  6.09934256 4.45437994 5.46394549 5.84006548 5.46224556 4.51035226\n",
      "  5.56317092 4.48843858 5.53466115 5.40498033 5.20563806 4.28456151\n",
      "  3.57309153 5.83677785]\n",
      " [6.0337699  8.28862035 6.6615379  4.3734099  6.34111903 5.45653094\n",
      "  6.77377446 5.89838536 6.96551894 5.92821085 6.63722921 5.5898362\n",
      "  6.32520644 4.95358853 5.10577312 5.56039799 5.6366446  4.43491495\n",
      "  4.02547817 6.21048793]\n",
      " [5.6754154  6.6615379  7.21497756 4.35257449 5.7076115  5.64476127\n",
      "  6.33472372 5.24016316 6.70893891 6.02196103 5.91841499 4.35359352\n",
      "  5.72942709 4.79571184 5.66297571 4.86381171 5.41997901 4.0175809\n",
      "  3.60013056 5.58652994]\n",
      " [4.39954447 4.3734099  4.35257449 4.26883516 3.99341724 4.18995384\n",
      "  4.46740967 4.18519564 4.5801821  4.62837548 3.96317444 3.18340565\n",
      "  3.86358012 3.78290983 4.19778853 3.64752007 4.07904487 3.40238774\n",
      "  2.91413116 4.19483374]\n",
      " [5.34300519 6.34111903 5.7076115  3.99341724 6.59707878 4.43269582\n",
      "  5.82154441 4.92413453 6.15484509 5.66636888 5.84552613 4.05091532\n",
      "  4.68103176 4.11939031 5.10555157 4.76677376 5.30811419 3.71549011\n",
      "  3.79591464 5.65472178]\n",
      " [5.70681869 5.45653094 5.64476127 4.18995384 4.43269582 5.86908116\n",
      "  5.39037844 4.39304068 5.24980869 4.85973618 4.49032109 3.79756103\n",
      "  5.09959875 4.19025643 4.83408006 4.1476087  4.63534521 3.4111578\n",
      "  2.60566606 5.1260859 ]\n",
      " [6.09934256 6.77377446 6.33472372 4.46740967 5.82154441 5.39037844\n",
      "  8.26163658 5.19114517 7.49782747 6.42379664 5.87676775 5.12990479\n",
      "  6.94587274 5.76612569 5.91227071 5.43812209 6.64996726 5.09792709\n",
      "  3.97095499 6.25853755]\n",
      " [4.45437994 5.89838536 5.24016316 4.18519564 4.92413453 4.39304068\n",
      "  5.19114517 6.56010907 6.20218522 5.13365176 5.06539195 4.83021431\n",
      "  4.86993055 4.38366696 4.78115405 3.55507374 4.41430174 3.30391047\n",
      "  3.29637546 5.26473906]\n",
      " [5.46394549 6.96551894 6.70893891 4.5801821  6.15484509 5.24980869\n",
      "  7.49782747 6.20218522 9.03789028 6.47311069 6.91903291 5.1153763\n",
      "  7.03915455 5.72014704 6.22129039 5.04302119 6.46601353 4.90737154\n",
      "  4.09623334 6.65215985]\n",
      " [5.84006548 5.92821085 6.02196103 4.62837548 5.66636888 4.85973618\n",
      "  6.42379664 5.13365176 6.47311069 7.88619939 6.2444439  4.85696866\n",
      "  5.33493511 5.09590712 6.36840866 4.70470378 5.82886588 5.31236663\n",
      "  3.89875223 6.22763175]\n",
      " [5.46224556 6.63722921 5.91841499 3.96317444 5.84552613 4.49032109\n",
      "  5.87676775 5.06539195 6.91903291 6.2444439  7.38593932 4.91032984\n",
      "  6.02351114 4.88457819 5.96469746 4.817171   4.94497107 4.66988462\n",
      "  3.64721365 6.60675169]\n",
      " [4.51035226 5.5898362  4.35359352 3.18340565 4.05091532 3.79756103\n",
      "  5.12990479 4.83021431 5.1153763  4.85696866 4.91032984 5.43464356\n",
      "  4.61976397 3.81471246 4.71398848 3.44904008 3.68303569 3.53300473\n",
      "  2.86087945 5.27143587]\n",
      " [5.56317092 6.32520644 5.72942709 3.86358012 4.68103176 5.09959875\n",
      "  6.94587274 4.86993055 7.03915455 5.33493511 6.02351114 4.61976397\n",
      "  7.89300569 5.38801819 5.40623043 4.89073584 5.6018733  4.84253264\n",
      "  3.08289561 5.86584112]\n",
      " [4.48843858 4.95358853 4.79571184 3.78290983 4.11939031 4.19025643\n",
      "  5.76612569 4.38366696 5.72014704 5.09590712 4.88457819 3.81471246\n",
      "  5.38801819 5.54911107 4.93226079 3.75549068 4.22615964 4.08114434\n",
      "  2.35534992 4.78831544]\n",
      " [5.53466115 5.10577312 5.66297571 4.19778853 5.10555157 4.83408006\n",
      "  5.91227071 4.78115405 6.22129039 6.36840866 5.96469746 4.71398848\n",
      "  5.40623043 4.93226079 7.15033125 4.4539731  4.71807253 4.7331244\n",
      "  3.43043513 6.06701908]\n",
      " [5.40498033 5.56039799 4.86381171 3.64752007 4.76677376 4.1476087\n",
      "  5.43812209 3.55507374 5.04302119 4.70470378 4.817171   3.44904008\n",
      "  4.89073584 3.75549068 4.4539731  5.51118302 4.88329184 4.20699437\n",
      "  3.71153118 4.37070102]\n",
      " [5.20563806 5.6366446  5.41997901 4.07904487 5.30811419 4.63534521\n",
      "  6.64996726 4.41430174 6.46601353 5.82886588 4.94497107 3.68303569\n",
      "  5.6018733  4.22615964 4.71807253 4.88329184 6.44126936 4.30670148\n",
      "  3.69145041 5.15047939]\n",
      " [4.28456151 4.43491495 4.0175809  3.40238774 3.71549011 3.4111578\n",
      "  5.09792709 3.30391047 4.90737154 5.31236663 4.66988462 3.53300473\n",
      "  4.84253264 4.08114434 4.7331244  4.20699437 4.30670148 5.01922995\n",
      "  3.09835229 4.79795835]\n",
      " [3.57309153 4.02547817 3.60013056 2.91413116 3.79591464 2.60566606\n",
      "  3.97095499 3.29637546 4.09623334 3.89875223 3.64721365 2.86087945\n",
      "  3.08289561 2.35534992 3.43043513 3.71153118 3.69145041 3.09835229\n",
      "  3.83405425 3.24412269]\n",
      " [5.83677785 6.21048793 5.58652994 4.19483374 5.65472178 5.1260859\n",
      "  6.25853755 5.26473906 6.65215985 6.22763175 6.60675169 5.27143587\n",
      "  5.86584112 4.78831544 6.06701908 4.37070102 5.15047939 4.79795835\n",
      "  3.24412269 7.8385668 ]]\n"
     ]
    },
    {
     "data": {
      "image/png": "[encoded data removed]",
      "text/plain": [
       "<Figure size 720x576 with 1 Axes>"
      ]
     },
     "metadata": {
      "needs_background": "light"
     },
     "output_type": "display_data"
    },
    {
     "name": "stdout",
     "output_type": "stream",
     "text": [
      "[[15.39530113 11.51384784 10.61389485 ... 11.7667754  11.61132535\n",
      "  11.40789423]\n",
      " [11.51384784 15.68974464 11.80086861 ... 12.94642701 11.38273703\n",
      "  12.37078512]\n",
      " [10.61389485 11.80086861 14.96474038 ... 10.74943866 10.51841498\n",
      "  10.98483603]\n",
      " ...\n",
      " [11.7667754  12.94642701 10.74943866 ... 16.22342133 11.21812665\n",
      "  12.29558995]\n",
      " [11.61132535 11.38273703 10.51841498 ... 11.21812665 15.41906066\n",
      "  11.21485524]\n",
      " [11.40789423 12.37078512 10.98483603 ... 12.29558995 11.21485524\n",
      "  17.55365768]]\n"
     ]
    },
    {
     "data": {
      "image/png": "[encoded data removed]",
      "text/plain": [
       "<Figure size 720x576 with 1 Axes>"
      ]
     },
     "metadata": {
      "needs_background": "light"
     },
     "output_type": "display_data"
    }
   ],
   "source": [
    "# Creating a list of different dimensions\n",
    "l = [10,20,50]\n",
    "# Reading elements from the list for clustering tree formation\n",
    "for i in l:\n",
    "    plt.figure(figsize=(10,8))\n",
    "    rm = np.random.rand(i,i)\n",
    "    test_matrix = np.dot(rm, rm.T)\n",
    "    print(test_matrix)\n",
    "    np.fill_diagonal(test_matrix,0)\n",
    "    test_matrix\n",
    "    # Using dendrogram from scipy.cluster.hierarchy\n",
    "    dendrogram(linkage(get_dist_matrix_condensed(test_matrix), 'average'))\n",
    "    plt.show()\n",
    "\n",
    "\n"
   ]
  },
  {
   "cell_type": "markdown",
   "metadata": {},
   "source": [
    "### Reproduce Figures 3A and 3B from Zhao et al. (2021) *Specificity of assemblage, not fungal partner species, explains mycorrhizal partnerships of mycoheterotrophic Burmannia plants. The ISME Journal, 15(6), 1614-1627.*"
   ]
  },
  {
   "cell_type": "markdown",
   "metadata": {},
   "source": [
    "[Zhao and Li 2021](https://www.nature.com/articles/s41396-020-00874-x)"
   ]
  },
  {
   "cell_type": "markdown",
   "metadata": {},
   "source": [
    "Note \n",
    "\n",
    "1. This requires using Table S5 for Figure 3A and Table S6 for Figure 3B.\n",
    "2. This exercise consists of two parts (each counts as one separate exercise):"
   ]
  },
  {
   "cell_type": "markdown",
   "metadata": {},
   "source": [
    "Import the xlsx files (Tables S5 and S6) and extract a distance matrix (as shown in the lecture)"
   ]
  },
  {
   "cell_type": "code",
   "execution_count": 38,
   "metadata": {},
   "outputs": [],
   "source": [
    "# Using pandas to read the tables, skipping first two rows, and setting column 1 as the dataframe index\n",
    "tb5 = pd.read_excel('TableS5.xlsx', skiprows = [0,1], index_col=1,)\n",
    "tb6 = pd.read_excel('TableS6.xlsx', skiprows = [0,1], index_col=1,)"
   ]
  },
  {
   "cell_type": "code",
   "execution_count": 39,
   "metadata": {},
   "outputs": [
    {
     "data": {
      "text/plain": [
       "array([[0.        , 0.31671808, 0.36960069, ..., 0.5882678 , 0.63368393,\n",
       "        0.64319314],\n",
       "       [0.31671808, 0.        , 0.36281246, ..., 0.60880668, 0.62289267,\n",
       "        0.64725301],\n",
       "       [0.36960069, 0.36281246, 0.        , ..., 0.63347443, 0.671968  ,\n",
       "        0.69507932],\n",
       "       ...,\n",
       "       [0.5882678 , 0.60880668, 0.63347443, ..., 0.        , 0.42074835,\n",
       "        0.56505548],\n",
       "       [0.63368393, 0.62289267, 0.671968  , ..., 0.42074835, 0.        ,\n",
       "        0.51312739],\n",
       "       [0.64319314, 0.64725301, 0.69507932, ..., 0.56505548, 0.51312739,\n",
       "        0.        ]])"
      ]
     },
     "execution_count": 39,
     "metadata": {},
     "output_type": "execute_result"
    }
   ],
   "source": [
    "# Using iloc function to select cells to get values and labels for distance matrix \n",
    "t5_dist_matrix = tb5.iloc[:,1:].values\n",
    "lables_t5 = tb5.iloc[:,0].values\n",
    "t5_dist_matrix"
   ]
  },
  {
   "cell_type": "code",
   "execution_count": 40,
   "metadata": {},
   "outputs": [
    {
     "data": {
      "text/plain": [
       "array([[0.        , 0.22748973, 0.19479173, ..., 0.43002847, 0.31787143,\n",
       "        0.28390583],\n",
       "       [0.22748973, 0.        , 0.3162952 , ..., 0.36036766, 0.24933629,\n",
       "        0.33370697],\n",
       "       [0.19479173, 0.3162952 , 0.        , ..., 0.4783635 , 0.37885395,\n",
       "        0.29572926],\n",
       "       ...,\n",
       "       [0.43002847, 0.36036766, 0.4783635 , ..., 0.        , 0.21438146,\n",
       "        0.42322178],\n",
       "       [0.31787143, 0.24933629, 0.37885395, ..., 0.21438146, 0.        ,\n",
       "        0.26764376],\n",
       "       [0.28390583, 0.33370697, 0.29572926, ..., 0.42322178, 0.26764376,\n",
       "        0.        ]])"
      ]
     },
     "execution_count": 40,
     "metadata": {},
     "output_type": "execute_result"
    }
   ],
   "source": [
    "t6_dist_matrix = tb6.iloc[:,1:].values\n",
    "lables_t6 = tb6.iloc[:,0].values\n",
    "t6_dist_matrix"
   ]
  },
  {
   "cell_type": "markdown",
   "metadata": {},
   "source": [
    "#### Run UPGMA. Comment on the similarity or dissimilarity of your trees and the ones from the publication."
   ]
  },
  {
   "cell_type": "code",
   "execution_count": 41,
   "metadata": {},
   "outputs": [],
   "source": [
    "z5 = get_Z(t5_dist_matrix)"
   ]
  },
  {
   "cell_type": "code",
   "execution_count": 42,
   "metadata": {},
   "outputs": [
    {
     "data": {
      "image/png": "[encoded data removed]",
      "text/plain": [
       "<Figure size 720x1080 with 1 Axes>"
      ]
     },
     "metadata": {
      "needs_background": "light"
     },
     "output_type": "display_data"
    }
   ],
   "source": [
    "# Plotting the dendrogram\n",
    "plt.figure(figsize = (10,15))\n",
    "dendrogram(z5, orientation=\"left\", above_threshold_color= \"green\",color_threshold=0,);\n",
    "# Similar to the phylogenetic tree in the paper, samples from same species are found in a localized clusters,however the distribution of the clusters varies.\n"
   ]
  },
  {
   "cell_type": "code",
   "execution_count": 43,
   "metadata": {},
   "outputs": [
    {
     "data": {
      "image/png": "[encoded data removed]",
      "text/plain": [
       "<Figure size 720x1080 with 1 Axes>"
      ]
     },
     "metadata": {
      "needs_background": "light"
     },
     "output_type": "display_data"
    }
   ],
   "source": [
    "z6 = get_Z(t6_dist_matrix)\n",
    "plt.figure(figsize = (10,15))\n",
    "dendrogram(z6, orientation=\"left\", above_threshold_color= \"blue\",color_threshold=0,);"
   ]
  },
  {
   "cell_type": "markdown",
   "metadata": {},
   "source": [
    "### (BONUS) Label the leaves with the actual species names."
   ]
  },
  {
   "cell_type": "code",
   "execution_count": 44,
   "metadata": {},
   "outputs": [
    {
     "data": {
      "image/png": "[encoded data removed]",
      "text/plain": [
       "<Figure size 720x1080 with 1 Axes>"
      ]
     },
     "metadata": {
      "needs_background": "light"
     },
     "output_type": "display_data"
    }
   ],
   "source": [
    "# Plotting the dendrogram with labels\n",
    "plt.figure(figsize = (10,15))\n",
    "dendrogram(z5, orientation=\"left\", labels = lables_t5, above_threshold_color= \"red\",color_threshold=0,);"
   ]
  },
  {
   "cell_type": "code",
   "execution_count": 45,
   "metadata": {},
   "outputs": [
    {
     "data": {
      "image/png": "[encoded data removed]",
      "text/plain": [
       "<Figure size 720x1080 with 1 Axes>"
      ]
     },
     "metadata": {
      "needs_background": "light"
     },
     "output_type": "display_data"
    }
   ],
   "source": [
    "z6 = get_Z(t6_dist_matrix)\n",
    "plt.figure(figsize = (10,15))\n",
    "dendrogram(z6, orientation=\"left\", labels = lables_t6, above_threshold_color= \"cyan\",color_threshold=0,);"
   ]
  },
  {
   "cell_type": "code",
   "execution_count": null,
   "metadata": {},
   "outputs": [],
   "source": []
  }
 ],
 "metadata": {
  "hide_input": false,
  "kernelspec": {
   "display_name": "Python 3",
   "language": "python",
   "name": "python3"
  },
  "language_info": {
   "codemirror_mode": {
    "name": "ipython",
    "version": 3
   },
   "file_extension": ".py",
   "mimetype": "text/x-python",
   "name": "python",
   "nbconvert_exporter": "python",
   "pygments_lexer": "ipython3",
   "version": "3.8.5"
  },
  "toc": {
   "base_numbering": 1,
   "nav_menu": {},
   "number_sections": true,
   "sideBar": true,
   "skip_h1_title": true,
   "title_cell": "Table of Contents",
   "title_sidebar": "Contents",
   "toc_cell": false,
   "toc_position": {},
   "toc_section_display": true,
   "toc_window_display": true
  },
  "varInspector": {
   "cols": {
    "lenName": 16,
    "lenType": 16,
    "lenVar": 40
   },
   "kernels_config": {
    "python": {
     "delete_cmd_postfix": "",
     "delete_cmd_prefix": "del ",
     "library": "var_list.py",
     "varRefreshCmd": "print(var_dic_list())"
    },
    "r": {
     "delete_cmd_postfix": ") ",
     "delete_cmd_prefix": "rm(",
     "library": "var_list.r",
     "varRefreshCmd": "cat(var_dic_list()) "
    }
   },
   "types_to_exclude": [
    "module",
    "function",
    "builtin_function_or_method",
    "instance",
    "_Feature"
   ],
   "window_display": false
  }
 },
 "nbformat": 4,
 "nbformat_minor": 5
}
