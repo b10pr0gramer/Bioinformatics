{
 "cells": [
  {
   "cell_type": "markdown",
   "metadata": {
    "toc": true
   },
   "source": [
    "<h1>Table of Contents<span class=\"tocSkip\"></span></h1>\n",
    "<div class=\"toc\"><ul class=\"toc-item\"><li><span><a href=\"#Import-libraries\" data-toc-modified-id=\"Import-libraries-1\"><span class=\"toc-item-num\">1&nbsp;&nbsp;</span>Import libraries</a></span></li><li><span><a href=\"#Model-initialization\" data-toc-modified-id=\"Model-initialization-2\"><span class=\"toc-item-num\">2&nbsp;&nbsp;</span>Model initialization</a></span></li><li><span><a href=\"#Sequence-of-die-rolls\" data-toc-modified-id=\"Sequence-of-die-rolls-3\"><span class=\"toc-item-num\">3&nbsp;&nbsp;</span>Sequence of die rolls</a></span></li><li><span><a href=\"#Viterbi-algorithm\" data-toc-modified-id=\"Viterbi-algorithm-4\"><span class=\"toc-item-num\">4&nbsp;&nbsp;</span>Viterbi algorithm</a></span><ul class=\"toc-item\"><li><span><a href=\"#Sequence-modification\" data-toc-modified-id=\"Sequence-modification-4.1\"><span class=\"toc-item-num\">4.1&nbsp;&nbsp;</span>Sequence modification</a></span></li><li><span><a href=\"#Initialization\" data-toc-modified-id=\"Initialization-4.2\"><span class=\"toc-item-num\">4.2&nbsp;&nbsp;</span>Initialization</a></span><ul class=\"toc-item\"><li><span><a href=\"#Viterbi-variable\" data-toc-modified-id=\"Viterbi-variable-4.2.1\"><span class=\"toc-item-num\">4.2.1&nbsp;&nbsp;</span>Viterbi variable</a></span></li><li><span><a href=\"#Pointer-variable\" data-toc-modified-id=\"Pointer-variable-4.2.2\"><span class=\"toc-item-num\">4.2.2&nbsp;&nbsp;</span>Pointer variable</a></span></li></ul></li><li><span><a href=\"#Recursion\" data-toc-modified-id=\"Recursion-4.3\"><span class=\"toc-item-num\">4.3&nbsp;&nbsp;</span>Recursion</a></span></li><li><span><a href=\"#Termination\" data-toc-modified-id=\"Termination-4.4\"><span class=\"toc-item-num\">4.4&nbsp;&nbsp;</span>Termination</a></span></li><li><span><a href=\"#Decoding-/-Path-trace-back\" data-toc-modified-id=\"Decoding-/-Path-trace-back-4.5\"><span class=\"toc-item-num\">4.5&nbsp;&nbsp;</span>Decoding / Path trace back</a></span></li></ul></li><li><span><a href=\"#Exercises\" data-toc-modified-id=\"Exercises-5\"><span class=\"toc-item-num\">5&nbsp;&nbsp;</span>Exercises</a></span><ul class=\"toc-item\"><li><span><a href=\"#Exercise-1:-Repeat-the-Viterbi-decoding-for-a-different-realization-of-a-three-segment-sequence.\" data-toc-modified-id=\"Exercise-1:-Repeat-the-Viterbi-decoding-for-a-different-realization-of-a-three-segment-sequence.-5.1\"><span class=\"toc-item-num\">5.1&nbsp;&nbsp;</span>Exercise 1: Repeat the Viterbi decoding for a different realization of a three-segment sequence.</a></span></li><li><span><a href=\"#Exercise-2:-Create-a-longer-sequence-(300-die-rolls)-of-more-than-three-segments-(alternating-between-fair-and-unfair-several-times-and-use-Viterbi-decoding-on-this.\" data-toc-modified-id=\"Exercise-2:-Create-a-longer-sequence-(300-die-rolls)-of-more-than-three-segments-(alternating-between-fair-and-unfair-several-times-and-use-Viterbi-decoding-on-this.-5.2\"><span class=\"toc-item-num\">5.2&nbsp;&nbsp;</span>Exercise 2: Create a longer sequence (300 die rolls) of more than three segments (alternating between fair and unfair several times and use Viterbi decoding on this.</a></span></li><li><span><a href=\"#Exercise-3:-Repeat-the-numerical-example-from-class-(sequence:-3,1,5,6,6;-transition-probabilities:-$a_{FF}-=-a_{UU}-=-0.8$,-$a_{UF}-=-a_{FU}-=-0.2$-)-and-create-the-corresponding-tables-for-the-Viterbi-variables-with-the-implementation-presented-here.\" data-toc-modified-id=\"Exercise-3:-Repeat-the-numerical-example-from-class-(sequence:-3,1,5,6,6;-transition-probabilities:-$a_{FF}-=-a_{UU}-=-0.8$,-$a_{UF}-=-a_{FU}-=-0.2$-)-and-create-the-corresponding-tables-for-the-Viterbi-variables-with-the-implementation-presented-here.-5.3\"><span class=\"toc-item-num\">5.3&nbsp;&nbsp;</span>Exercise 3: Repeat the numerical example from class (sequence: 3,1,5,6,6; transition probabilities: $a_{FF} = a_{UU} = 0.8$, $a_{UF} = a_{FU} = 0.2$ ) and create the corresponding tables for the Viterbi variables with the implementation presented here.</a></span></li><li><span><a href=\"#Exercise-4-(Bonus):-Study-the-dependence-of-the-quality-of-the-Viterbi-decoding-for-the-three-segment-sequence-as-a-function-of-the-two-parameters:-unfairness-of-the-unfair-die-(emission-probability-$e_U(6)$),-length-of-the-middle-segment.-Here,-the-quality-can-be-defined-as-the-percentage-of-matching-symbols-between-the-actual-sequence-and-the-Viterbi-decoding.\" data-toc-modified-id=\"Exercise-4-(Bonus):-Study-the-dependence-of-the-quality-of-the-Viterbi-decoding-for-the-three-segment-sequence-as-a-function-of-the-two-parameters:-unfairness-of-the-unfair-die-(emission-probability-$e_U(6)$),-length-of-the-middle-segment.-Here,-the-quality-can-be-defined-as-the-percentage-of-matching-symbols-between-the-actual-sequence-and-the-Viterbi-decoding.-5.4\"><span class=\"toc-item-num\">5.4&nbsp;&nbsp;</span>Exercise 4 (Bonus): Study the dependence of the quality of the Viterbi decoding for the three segment sequence as a function of the two parameters: unfairness of the unfair die (emission probability $e_U(6)$), length of the middle segment. Here, the quality can be defined as the percentage of matching symbols between the actual sequence and the Viterbi decoding.</a></span></li></ul></li></ul></div>"
   ]
  },
  {
   "cell_type": "markdown",
   "metadata": {},
   "source": [
    "# Import libraries"
   ]
  },
  {
   "cell_type": "code",
   "execution_count": 1,
   "metadata": {},
   "outputs": [],
   "source": [
    "import numpy as np, pandas as pd, matplotlib.pyplot as plt, seaborn as sns"
   ]
  },
  {
   "cell_type": "markdown",
   "metadata": {},
   "source": [
    "# Model initialization"
   ]
  },
  {
   "cell_type": "markdown",
   "metadata": {},
   "source": [
    "The state space of the HMM is defined as"
   ]
  },
  {
   "cell_type": "code",
   "execution_count": 2,
   "metadata": {},
   "outputs": [],
   "source": [
    "state = [\"0\", \"F\", \"U\"]"
   ]
  },
  {
   "cell_type": "markdown",
   "metadata": {},
   "source": [
    "where '0' stands for the initial state, 'F' for the fair die and 'U' for the unfair die. The state space of the sequence is that of a 6-sided die"
   ]
  },
  {
   "cell_type": "code",
   "execution_count": 3,
   "metadata": {},
   "outputs": [],
   "source": [
    "observation = [1,2,3,4,5,6]"
   ]
  },
  {
   "cell_type": "markdown",
   "metadata": {},
   "source": [
    "The transition probabilities between the three states '0', 'F' and 'U' are defined in the form of a function. The arguments are pairs of states (transitions) and the output of the function is the associated transition probability."
   ]
  },
  {
   "cell_type": "code",
   "execution_count": 4,
   "metadata": {},
   "outputs": [],
   "source": [
    "d = {1:'a', 2: 'b'}"
   ]
  },
  {
   "cell_type": "code",
   "execution_count": 5,
   "metadata": {},
   "outputs": [
    {
     "data": {
      "text/plain": [
       "'a'"
      ]
     },
     "execution_count": 5,
     "metadata": {},
     "output_type": "execute_result"
    }
   ],
   "source": [
    "d[1]"
   ]
  },
  {
   "cell_type": "code",
   "execution_count": 6,
   "metadata": {},
   "outputs": [],
   "source": [
    "def transition(z1,z2):\n",
    "    \"\"\"Returns transition probability from state z1 to state z2.\n",
    "    \"\"\"\n",
    "    transition_dict = {\n",
    "        \"FF\": 0.95,\n",
    "        \"FU\": 0.05,\n",
    "        \"UU\": 0.90,\n",
    "        \"UF\": 0.10,\n",
    "        \"0U\": 0.50,\n",
    "        \"0F\": 0.50,\n",
    "        \"00\": 0.00,\n",
    "        \"U0\": 0.00,\n",
    "        \"F0\": 0.00,\n",
    "    }\n",
    "    return transition_dict[z1+z2]"
   ]
  },
  {
   "cell_type": "code",
   "execution_count": 7,
   "metadata": {},
   "outputs": [
    {
     "data": {
      "text/plain": [
       "0.95"
      ]
     },
     "execution_count": 7,
     "metadata": {},
     "output_type": "execute_result"
    }
   ],
   "source": [
    "transition(\"F\", \"F\")"
   ]
  },
  {
   "cell_type": "code",
   "execution_count": 8,
   "metadata": {},
   "outputs": [
    {
     "data": {
      "text/plain": [
       "0.05"
      ]
     },
     "execution_count": 8,
     "metadata": {},
     "output_type": "execute_result"
    }
   ],
   "source": [
    "transition(\"F\", \"U\")"
   ]
  },
  {
   "cell_type": "markdown",
   "metadata": {},
   "source": [
    "The emission probabilities are implemented in the same way."
   ]
  },
  {
   "cell_type": "code",
   "execution_count": 9,
   "metadata": {},
   "outputs": [],
   "source": [
    "def emission(z1, o1):\n",
    "    \"\"\"Returns emission probability for (hidden) state z1 to emit (observed) symbol o1 \n",
    "    \"\"\"\n",
    "    if z1 == \"F\":\n",
    "        return 1/6.0\n",
    "    elif z1 == \"U\" and o1 == 6:\n",
    "        return 0.5\n",
    "    elif z1 == \"U\":\n",
    "        return 0.1\n",
    "    else:\n",
    "        return 0"
   ]
  },
  {
   "cell_type": "code",
   "execution_count": 10,
   "metadata": {},
   "outputs": [
    {
     "data": {
      "text/plain": [
       "0.16666666666666666"
      ]
     },
     "execution_count": 10,
     "metadata": {},
     "output_type": "execute_result"
    }
   ],
   "source": [
    "emission(\"F\", 3)"
   ]
  },
  {
   "cell_type": "code",
   "execution_count": 11,
   "metadata": {},
   "outputs": [
    {
     "data": {
      "text/plain": [
       "0.5"
      ]
     },
     "execution_count": 11,
     "metadata": {},
     "output_type": "execute_result"
    }
   ],
   "source": [
    "emission(\"U\", 6)"
   ]
  },
  {
   "cell_type": "code",
   "execution_count": 12,
   "metadata": {},
   "outputs": [
    {
     "data": {
      "text/plain": [
       "0.1"
      ]
     },
     "execution_count": 12,
     "metadata": {},
     "output_type": "execute_result"
    }
   ],
   "source": [
    "emission(\"U\",2)"
   ]
  },
  {
   "cell_type": "markdown",
   "metadata": {},
   "source": [
    "# Sequence of die rolls"
   ]
  },
  {
   "cell_type": "markdown",
   "metadata": {},
   "source": [
    "Next, we need an example sequence to which the Viterbi algorithm can be applied. For this introductory example, we create three subsequences with different properties (later called 'three-segment sequence'). The first and third subsequences are realisations of a fair die. The second subsequence is a realisation of an unfair die."
   ]
  },
  {
   "cell_type": "code",
   "execution_count": 13,
   "metadata": {},
   "outputs": [],
   "source": [
    "np.random.seed(3)"
   ]
  },
  {
   "cell_type": "code",
   "execution_count": 14,
   "metadata": {},
   "outputs": [],
   "source": [
    "seq0a = np.random.randint(1,7,50)"
   ]
  },
  {
   "cell_type": "code",
   "execution_count": 15,
   "metadata": {},
   "outputs": [
    {
     "data": {
      "text/plain": [
       "array([3, 1, 2, 4, 1, 1, 1, 6, 6, 4, 3, 4, 2, 2, 3, 6, 1, 5, 5, 6, 1, 3,\n",
       "       2, 3, 3, 3, 5, 2, 4, 3, 6, 1, 2, 6, 3, 1, 4, 1, 4, 2, 4, 1, 6, 5,\n",
       "       2, 6, 5, 5, 1, 1])"
      ]
     },
     "execution_count": 15,
     "metadata": {},
     "output_type": "execute_result"
    }
   ],
   "source": [
    "seq0a"
   ]
  },
  {
   "cell_type": "code",
   "execution_count": 16,
   "metadata": {},
   "outputs": [
    {
     "data": {
      "text/plain": [
       "[0, 1, 2, 3, 4, 5, 6, 7, 8, 9, 10, 11, 12, 13, 14, 15, 16, 17, 18, 19]"
      ]
     },
     "execution_count": 16,
     "metadata": {},
     "output_type": "execute_result"
    }
   ],
   "source": [
    "[i for i in range(20)]"
   ]
  },
  {
   "cell_type": "code",
   "execution_count": 17,
   "metadata": {},
   "outputs": [
    {
     "name": "stdout",
     "output_type": "stream",
     "text": [
      "OK\n"
     ]
    }
   ],
   "source": [
    "a = 1\n",
    "print(\"OK\") if a==1 else print(\"?\")"
   ]
  },
  {
   "cell_type": "code",
   "execution_count": 18,
   "metadata": {},
   "outputs": [
    {
     "data": {
      "text/plain": [
       "5"
      ]
     },
     "execution_count": 18,
     "metadata": {},
     "output_type": "execute_result"
    }
   ],
   "source": [
    "6 if np.random.rand() < 0.5 else np.random.randint(1,6)"
   ]
  },
  {
   "cell_type": "code",
   "execution_count": 19,
   "metadata": {},
   "outputs": [
    {
     "data": {
      "text/plain": [
       "array([6, 6, 2, 6, 6, 4, 6, 6, 6, 1, 4, 6, 6, 6, 6, 2, 3, 6, 5, 6])"
      ]
     },
     "execution_count": 19,
     "metadata": {},
     "output_type": "execute_result"
    }
   ],
   "source": [
    "seq0b = np.array([6 if np.random.rand() < 0.5 else np.random.randint(1,6) for i in range(20)])\n",
    "seq0b"
   ]
  },
  {
   "cell_type": "code",
   "execution_count": 20,
   "metadata": {},
   "outputs": [],
   "source": [
    "seq0c = np.random.randint(1,7,50)"
   ]
  },
  {
   "cell_type": "code",
   "execution_count": 21,
   "metadata": {},
   "outputs": [
    {
     "name": "stdout",
     "output_type": "stream",
     "text": [
      "[3, 1, 2, 4, 1, 1, 1, 6, 6, 4, 3, 4, 2, 2, 3, 6, 1, 5, 5, 6, 1, 3, 2, 3, 3, 3, 5, 2, 4, 3, 6, 1, 2, 6, 3, 1, 4, 1, 4, 2, 4, 1, 6, 5, 2, 6, 5, 5, 1, 1, 6, 6, 2, 6, 6, 4, 6, 6, 6, 1, 4, 6, 6, 6, 6, 2, 3, 6, 5, 6, 3, 1, 5, 4, 2, 6, 2, 1, 1, 6, 1, 1, 2, 2, 5, 1, 4, 5, 3, 1, 1, 5, 5, 5, 5, 4, 4, 1, 1, 3, 3, 2, 4, 6, 3, 5, 2, 3, 3, 4, 5, 2, 5, 4, 2, 2, 4, 1, 5, 5]\n"
     ]
    }
   ],
   "source": [
    "seq = list(np.concatenate((seq0a, seq0b, seq0c)))\n",
    "print(seq)"
   ]
  },
  {
   "cell_type": "code",
   "execution_count": 22,
   "metadata": {},
   "outputs": [
    {
     "data": {
      "text/plain": [
       "120"
      ]
     },
     "execution_count": 22,
     "metadata": {},
     "output_type": "execute_result"
    }
   ],
   "source": [
    "L = len(seq)\n",
    "L"
   ]
  },
  {
   "cell_type": "markdown",
   "metadata": {},
   "source": [
    "We store the internal state sequence, which we know exactly in this constructed example, in the variable label at this point and will compare it with the sequence of internal states determined by the Viterbi algorithm at the end."
   ]
  },
  {
   "cell_type": "code",
   "execution_count": 23,
   "metadata": {},
   "outputs": [
    {
     "data": {
      "text/plain": [
       "array(['F', 'F', 'F', 'F', 'F', 'F', 'F', 'F', 'F', 'F', 'F', 'F', 'F',\n",
       "       'F', 'F', 'F', 'F', 'F', 'F', 'F', 'F', 'F', 'F', 'F', 'F', 'F',\n",
       "       'F', 'F', 'F', 'F', 'F', 'F', 'F', 'F', 'F', 'F', 'F', 'F', 'F',\n",
       "       'F', 'F', 'F', 'F', 'F', 'F', 'F', 'F', 'F', 'F', 'F', 'U', 'U',\n",
       "       'U', 'U', 'U', 'U', 'U', 'U', 'U', 'U', 'U', 'U', 'U', 'U', 'U',\n",
       "       'U', 'U', 'U', 'U', 'U', 'F', 'F', 'F', 'F', 'F', 'F', 'F', 'F',\n",
       "       'F', 'F', 'F', 'F', 'F', 'F', 'F', 'F', 'F', 'F', 'F', 'F', 'F',\n",
       "       'F', 'F', 'F', 'F', 'F', 'F', 'F', 'F', 'F', 'F', 'F', 'F', 'F',\n",
       "       'F', 'F', 'F', 'F', 'F', 'F', 'F', 'F', 'F', 'F', 'F', 'F', 'F',\n",
       "       'F', 'F', 'F'], dtype='<U1')"
      ]
     },
     "execution_count": 23,
     "metadata": {},
     "output_type": "execute_result"
    }
   ],
   "source": [
    "label = np.concatenate((\n",
    "    np.repeat(\"F\", 50), \n",
    "    np.repeat(\"U\", 20),\n",
    "    np.repeat(\"F\", 50)\n",
    "))\n",
    "label"
   ]
  },
  {
   "cell_type": "code",
   "execution_count": 24,
   "metadata": {},
   "outputs": [
    {
     "data": {
      "text/plain": [
       "2"
      ]
     },
     "execution_count": 24,
     "metadata": {},
     "output_type": "execute_result"
    }
   ],
   "source": [
    "state.index(\"U\")"
   ]
  },
  {
   "cell_type": "code",
   "execution_count": 25,
   "metadata": {},
   "outputs": [
    {
     "data": {
      "text/plain": [
       "['0', 'F', 'U']"
      ]
     },
     "execution_count": 25,
     "metadata": {},
     "output_type": "execute_result"
    }
   ],
   "source": [
    "state"
   ]
  },
  {
   "cell_type": "markdown",
   "metadata": {},
   "source": [
    "# Viterbi algorithm"
   ]
  },
  {
   "cell_type": "markdown",
   "metadata": {},
   "source": [
    "## Sequence modification"
   ]
  },
  {
   "cell_type": "markdown",
   "metadata": {},
   "source": [
    "We need to jump into the sequence, so we need to add one slot at the beginning of the sequence."
   ]
  },
  {
   "cell_type": "code",
   "execution_count": 26,
   "metadata": {},
   "outputs": [
    {
     "name": "stdout",
     "output_type": "stream",
     "text": [
      "121\n",
      "[0, 3, 1, 2, 4, 1, 1, 1, 6, 6, 4, 3, 4, 2, 2, 3, 6, 1, 5, 5, 6, 1, 3, 2, 3, 3, 3, 5, 2, 4, 3, 6, 1, 2, 6, 3, 1, 4, 1, 4, 2, 4, 1, 6, 5, 2, 6, 5, 5, 1, 1, 6, 6, 2, 6, 6, 4, 6, 6, 6, 1, 4, 6, 6, 6, 6, 2, 3, 6, 5, 6, 3, 1, 5, 4, 2, 6, 2, 1, 1, 6, 1, 1, 2, 2, 5, 1, 4, 5, 3, 1, 1, 5, 5, 5, 5, 4, 4, 1, 1, 3, 3, 2, 4, 6, 3, 5, 2, 3, 3, 4, 5, 2, 5, 4, 2, 2, 4, 1, 5, 5]\n"
     ]
    }
   ],
   "source": [
    "seq2 = [0] + seq\n",
    "print(len(seq2))\n",
    "print(seq2)"
   ]
  },
  {
   "cell_type": "markdown",
   "metadata": {},
   "source": [
    "## Initialization"
   ]
  },
  {
   "cell_type": "markdown",
   "metadata": {},
   "source": [
    "### Viterbi variable "
   ]
  },
  {
   "cell_type": "code",
   "execution_count": 27,
   "metadata": {},
   "outputs": [
    {
     "data": {
      "text/plain": [
       "array([[1., 0., 0., 0., 0., 0., 0., 0., 0., 0., 0., 0., 0., 0., 0., 0.,\n",
       "        0., 0., 0., 0., 0., 0., 0., 0., 0., 0., 0., 0., 0., 0., 0., 0.,\n",
       "        0., 0., 0., 0., 0., 0., 0., 0., 0., 0., 0., 0., 0., 0., 0., 0.,\n",
       "        0., 0., 0., 0., 0., 0., 0., 0., 0., 0., 0., 0., 0., 0., 0., 0.,\n",
       "        0., 0., 0., 0., 0., 0., 0., 0., 0., 0., 0., 0., 0., 0., 0., 0.,\n",
       "        0., 0., 0., 0., 0., 0., 0., 0., 0., 0., 0., 0., 0., 0., 0., 0.,\n",
       "        0., 0., 0., 0., 0., 0., 0., 0., 0., 0., 0., 0., 0., 0., 0., 0.,\n",
       "        0., 0., 0., 0., 0., 0., 0., 0., 0.],\n",
       "       [0., 0., 0., 0., 0., 0., 0., 0., 0., 0., 0., 0., 0., 0., 0., 0.,\n",
       "        0., 0., 0., 0., 0., 0., 0., 0., 0., 0., 0., 0., 0., 0., 0., 0.,\n",
       "        0., 0., 0., 0., 0., 0., 0., 0., 0., 0., 0., 0., 0., 0., 0., 0.,\n",
       "        0., 0., 0., 0., 0., 0., 0., 0., 0., 0., 0., 0., 0., 0., 0., 0.,\n",
       "        0., 0., 0., 0., 0., 0., 0., 0., 0., 0., 0., 0., 0., 0., 0., 0.,\n",
       "        0., 0., 0., 0., 0., 0., 0., 0., 0., 0., 0., 0., 0., 0., 0., 0.,\n",
       "        0., 0., 0., 0., 0., 0., 0., 0., 0., 0., 0., 0., 0., 0., 0., 0.,\n",
       "        0., 0., 0., 0., 0., 0., 0., 0., 0.],\n",
       "       [0., 0., 0., 0., 0., 0., 0., 0., 0., 0., 0., 0., 0., 0., 0., 0.,\n",
       "        0., 0., 0., 0., 0., 0., 0., 0., 0., 0., 0., 0., 0., 0., 0., 0.,\n",
       "        0., 0., 0., 0., 0., 0., 0., 0., 0., 0., 0., 0., 0., 0., 0., 0.,\n",
       "        0., 0., 0., 0., 0., 0., 0., 0., 0., 0., 0., 0., 0., 0., 0., 0.,\n",
       "        0., 0., 0., 0., 0., 0., 0., 0., 0., 0., 0., 0., 0., 0., 0., 0.,\n",
       "        0., 0., 0., 0., 0., 0., 0., 0., 0., 0., 0., 0., 0., 0., 0., 0.,\n",
       "        0., 0., 0., 0., 0., 0., 0., 0., 0., 0., 0., 0., 0., 0., 0., 0.,\n",
       "        0., 0., 0., 0., 0., 0., 0., 0., 0.]])"
      ]
     },
     "execution_count": 27,
     "metadata": {},
     "output_type": "execute_result"
    }
   ],
   "source": [
    "vit = np.zeros((len(state), L+1))\n",
    "vit[0,0]=1\n",
    "vit"
   ]
  },
  {
   "cell_type": "markdown",
   "metadata": {},
   "source": [
    "### Pointer variable"
   ]
  },
  {
   "cell_type": "code",
   "execution_count": 28,
   "metadata": {},
   "outputs": [
    {
     "data": {
      "text/plain": [
       "array([[0., 0., 0., 0., 0., 0., 0., 0., 0., 0., 0., 0., 0., 0., 0., 0.,\n",
       "        0., 0., 0., 0., 0., 0., 0., 0., 0., 0., 0., 0., 0., 0., 0., 0.,\n",
       "        0., 0., 0., 0., 0., 0., 0., 0., 0., 0., 0., 0., 0., 0., 0., 0.,\n",
       "        0., 0., 0., 0., 0., 0., 0., 0., 0., 0., 0., 0., 0., 0., 0., 0.,\n",
       "        0., 0., 0., 0., 0., 0., 0., 0., 0., 0., 0., 0., 0., 0., 0., 0.,\n",
       "        0., 0., 0., 0., 0., 0., 0., 0., 0., 0., 0., 0., 0., 0., 0., 0.,\n",
       "        0., 0., 0., 0., 0., 0., 0., 0., 0., 0., 0., 0., 0., 0., 0., 0.,\n",
       "        0., 0., 0., 0., 0., 0., 0., 0., 0.],\n",
       "       [0., 0., 0., 0., 0., 0., 0., 0., 0., 0., 0., 0., 0., 0., 0., 0.,\n",
       "        0., 0., 0., 0., 0., 0., 0., 0., 0., 0., 0., 0., 0., 0., 0., 0.,\n",
       "        0., 0., 0., 0., 0., 0., 0., 0., 0., 0., 0., 0., 0., 0., 0., 0.,\n",
       "        0., 0., 0., 0., 0., 0., 0., 0., 0., 0., 0., 0., 0., 0., 0., 0.,\n",
       "        0., 0., 0., 0., 0., 0., 0., 0., 0., 0., 0., 0., 0., 0., 0., 0.,\n",
       "        0., 0., 0., 0., 0., 0., 0., 0., 0., 0., 0., 0., 0., 0., 0., 0.,\n",
       "        0., 0., 0., 0., 0., 0., 0., 0., 0., 0., 0., 0., 0., 0., 0., 0.,\n",
       "        0., 0., 0., 0., 0., 0., 0., 0., 0.],\n",
       "       [0., 0., 0., 0., 0., 0., 0., 0., 0., 0., 0., 0., 0., 0., 0., 0.,\n",
       "        0., 0., 0., 0., 0., 0., 0., 0., 0., 0., 0., 0., 0., 0., 0., 0.,\n",
       "        0., 0., 0., 0., 0., 0., 0., 0., 0., 0., 0., 0., 0., 0., 0., 0.,\n",
       "        0., 0., 0., 0., 0., 0., 0., 0., 0., 0., 0., 0., 0., 0., 0., 0.,\n",
       "        0., 0., 0., 0., 0., 0., 0., 0., 0., 0., 0., 0., 0., 0., 0., 0.,\n",
       "        0., 0., 0., 0., 0., 0., 0., 0., 0., 0., 0., 0., 0., 0., 0., 0.,\n",
       "        0., 0., 0., 0., 0., 0., 0., 0., 0., 0., 0., 0., 0., 0., 0., 0.,\n",
       "        0., 0., 0., 0., 0., 0., 0., 0., 0.]])"
      ]
     },
     "execution_count": 28,
     "metadata": {},
     "output_type": "execute_result"
    }
   ],
   "source": [
    "pointer = np.zeros((len(state), L+1))\n",
    "pointer"
   ]
  },
  {
   "cell_type": "markdown",
   "metadata": {},
   "source": [
    "## Recursion"
   ]
  },
  {
   "cell_type": "code",
   "execution_count": 29,
   "metadata": {},
   "outputs": [],
   "source": [
    "for i in range(0, L):\n",
    "    for l in state:\n",
    "        tempList = [vit[state.index(k),i]*transition(k,l) for k in state]\n",
    "        vit[state.index(l),i+1] = emission(l,seq2[i+1]) * np.max(tempList)\n",
    "        pointer[state.index(l), i] = np.argmax(tempList)"
   ]
  },
  {
   "cell_type": "code",
   "execution_count": 30,
   "metadata": {
    "scrolled": false
   },
   "outputs": [
    {
     "data": {
      "text/plain": [
       "array([[1.00000000e+00, 0.00000000e+00, 0.00000000e+00, 0.00000000e+00],\n",
       "       [0.00000000e+00, 8.33333333e-02, 1.31944444e-02, 2.08912037e-03],\n",
       "       [0.00000000e+00, 5.00000000e-02, 4.50000000e-03, 4.05000000e-04]])"
      ]
     },
     "execution_count": 30,
     "metadata": {},
     "output_type": "execute_result"
    }
   ],
   "source": [
    "vit[:,:4]"
   ]
  },
  {
   "cell_type": "code",
   "execution_count": 31,
   "metadata": {
    "scrolled": false
   },
   "outputs": [
    {
     "data": {
      "text/plain": [
       "array([[0., 0., 0., 0., 0., 0., 0., 0., 0., 0., 0., 0., 0., 0., 0., 0.,\n",
       "        0., 0., 0., 0., 0., 0., 0., 0., 0., 0., 0., 0., 0., 0., 0., 0.,\n",
       "        0., 0., 0., 0., 0., 0., 0., 0., 0., 0., 0., 0., 0., 0., 0., 0.,\n",
       "        0., 0., 0., 0., 0., 0., 0., 0., 0., 0., 0., 0., 0., 0., 0., 0.,\n",
       "        0., 0., 0., 0., 0., 0., 0., 0., 0., 0., 0., 0., 0., 0., 0., 0.,\n",
       "        0., 0., 0., 0., 0., 0., 0., 0., 0., 0., 0., 0., 0., 0., 0., 0.,\n",
       "        0., 0., 0., 0., 0., 0., 0., 0., 0., 0., 0., 0., 0., 0., 0., 0.,\n",
       "        0., 0., 0., 0., 0., 0., 0., 0., 0.],\n",
       "       [0., 1., 1., 1., 1., 1., 1., 1., 1., 1., 1., 1., 1., 1., 1., 1.,\n",
       "        1., 1., 1., 1., 1., 1., 1., 1., 1., 1., 1., 1., 1., 1., 1., 1.,\n",
       "        1., 1., 1., 1., 1., 1., 1., 1., 1., 1., 1., 1., 1., 1., 1., 1.,\n",
       "        1., 1., 1., 1., 1., 1., 1., 1., 1., 1., 1., 2., 1., 1., 1., 2.,\n",
       "        2., 2., 1., 1., 1., 1., 2., 1., 1., 1., 1., 1., 1., 1., 1., 1.,\n",
       "        1., 1., 1., 1., 1., 1., 1., 1., 1., 1., 1., 1., 1., 1., 1., 1.,\n",
       "        1., 1., 1., 1., 1., 1., 1., 1., 1., 1., 1., 1., 1., 1., 1., 1.,\n",
       "        1., 1., 1., 1., 1., 1., 1., 1., 0.],\n",
       "       [0., 2., 2., 2., 2., 2., 1., 1., 2., 2., 2., 2., 2., 1., 1., 1.,\n",
       "        2., 2., 1., 1., 2., 2., 1., 1., 1., 1., 1., 1., 1., 1., 1., 2.,\n",
       "        2., 1., 2., 2., 1., 1., 1., 1., 1., 1., 1., 2., 2., 1., 2., 2.,\n",
       "        1., 1., 1., 2., 2., 2., 2., 2., 2., 2., 2., 2., 2., 2., 2., 2.,\n",
       "        2., 2., 2., 2., 2., 2., 2., 2., 2., 2., 2., 2., 2., 2., 2., 2.,\n",
       "        2., 2., 2., 2., 2., 1., 1., 1., 1., 1., 1., 1., 1., 1., 1., 1.,\n",
       "        1., 1., 1., 1., 1., 1., 1., 1., 2., 2., 1., 1., 1., 1., 1., 1.,\n",
       "        1., 1., 1., 1., 1., 1., 1., 1., 0.]])"
      ]
     },
     "execution_count": 31,
     "metadata": {},
     "output_type": "execute_result"
    }
   ],
   "source": [
    "pointer"
   ]
  },
  {
   "cell_type": "markdown",
   "metadata": {},
   "source": [
    "## Termination"
   ]
  },
  {
   "cell_type": "markdown",
   "metadata": {},
   "source": [
    "We now arrive at the termination. For the index i = L we get the Viterbi variables for the end of the sequence and the last value of the pointer variable."
   ]
  },
  {
   "cell_type": "code",
   "execution_count": 32,
   "metadata": {},
   "outputs": [
    {
     "name": "stdout",
     "output_type": "stream",
     "text": [
      "[0.0, 2.0697411232915127e-95, 6.536024599867937e-97]\n"
     ]
    }
   ],
   "source": [
    "tempList2 = [vit[state.index(l), L]*0.5 for l in state]\n",
    "print(tempList2)"
   ]
  },
  {
   "cell_type": "code",
   "execution_count": 33,
   "metadata": {},
   "outputs": [
    {
     "data": {
      "text/plain": [
       "1"
      ]
     },
     "execution_count": 33,
     "metadata": {},
     "output_type": "execute_result"
    }
   ],
   "source": [
    "pointerFinal = np.argmax(tempList2)\n",
    "pointerFinal"
   ]
  },
  {
   "cell_type": "markdown",
   "metadata": {},
   "source": [
    "## Decoding / Path trace back"
   ]
  },
  {
   "cell_type": "code",
   "execution_count": 34,
   "metadata": {},
   "outputs": [
    {
     "data": {
      "text/plain": [
       "array([0, 0, 0, 0, 0, 0, 0, 0, 0, 0, 0, 0, 0, 0, 0, 0, 0, 0, 0, 0, 0, 0,\n",
       "       0, 0, 0, 0, 0, 0, 0, 0, 0, 0, 0, 0, 0, 0, 0, 0, 0, 0, 0, 0, 0, 0,\n",
       "       0, 0, 0, 0, 0, 0, 0, 0, 0, 0, 0, 0, 0, 0, 0, 0, 0, 0, 0, 0, 0, 0,\n",
       "       0, 0, 0, 0, 0, 0, 0, 0, 0, 0, 0, 0, 0, 0, 0, 0, 0, 0, 0, 0, 0, 0,\n",
       "       0, 0, 0, 0, 0, 0, 0, 0, 0, 0, 0, 0, 0, 0, 0, 0, 0, 0, 0, 0, 0, 0,\n",
       "       0, 0, 0, 0, 0, 0, 0, 0, 0, 0, 1])"
      ]
     },
     "execution_count": 34,
     "metadata": {},
     "output_type": "execute_result"
    }
   ],
   "source": [
    "pathX = np.zeros(L+1,dtype=int)\n",
    "pathX[L] = pointerFinal\n",
    "pathX"
   ]
  },
  {
   "cell_type": "code",
   "execution_count": 35,
   "metadata": {},
   "outputs": [
    {
     "name": "stdout",
     "output_type": "stream",
     "text": [
      "120 1\n",
      "119 1\n",
      "118 1\n",
      "117 1\n",
      "116 1\n",
      "115 1\n",
      "114 1\n",
      "113 1\n",
      "112 1\n",
      "111 1\n",
      "110 1\n",
      "109 1\n",
      "108 1\n",
      "107 1\n",
      "106 1\n",
      "105 1\n",
      "104 1\n",
      "103 1\n",
      "102 1\n",
      "101 1\n",
      "100 1\n",
      "99 1\n",
      "98 1\n",
      "97 1\n",
      "96 1\n",
      "95 1\n",
      "94 1\n",
      "93 1\n",
      "92 1\n",
      "91 1\n",
      "90 1\n",
      "89 1\n",
      "88 1\n",
      "87 1\n",
      "86 1\n",
      "85 1\n",
      "84 1\n",
      "83 1\n",
      "82 1\n",
      "81 1\n",
      "80 1\n",
      "79 1\n",
      "78 1\n",
      "77 1\n",
      "76 1\n",
      "75 1\n",
      "74 1\n",
      "73 1\n",
      "72 1\n",
      "71 2\n",
      "70 2\n",
      "69 2\n",
      "68 2\n",
      "67 2\n",
      "66 2\n",
      "65 2\n",
      "64 2\n",
      "63 2\n",
      "62 2\n",
      "61 2\n",
      "60 2\n",
      "59 2\n",
      "58 2\n",
      "57 2\n",
      "56 2\n",
      "55 2\n",
      "54 2\n",
      "53 2\n",
      "52 2\n",
      "51 1\n",
      "50 1\n",
      "49 1\n",
      "48 1\n",
      "47 1\n",
      "46 1\n",
      "45 1\n",
      "44 1\n",
      "43 1\n",
      "42 1\n",
      "41 1\n",
      "40 1\n",
      "39 1\n",
      "38 1\n",
      "37 1\n",
      "36 1\n",
      "35 1\n",
      "34 1\n",
      "33 1\n",
      "32 1\n",
      "31 1\n",
      "30 1\n",
      "29 1\n",
      "28 1\n",
      "27 1\n",
      "26 1\n",
      "25 1\n",
      "24 1\n",
      "23 1\n",
      "22 1\n",
      "21 1\n",
      "20 1\n",
      "19 1\n",
      "18 1\n",
      "17 1\n",
      "16 1\n",
      "15 1\n",
      "14 1\n",
      "13 1\n",
      "12 1\n",
      "11 1\n",
      "10 1\n",
      "9 1\n",
      "8 1\n",
      "7 1\n",
      "6 1\n",
      "5 1\n",
      "4 1\n",
      "3 1\n",
      "2 1\n",
      "1 0\n"
     ]
    }
   ],
   "source": [
    "for i in range(L,0,-1):\n",
    "    pathX[i-1] = pointer[pathX[i], i-1]\n",
    "    print(i, pathX[i-1])"
   ]
  },
  {
   "cell_type": "code",
   "execution_count": 36,
   "metadata": {},
   "outputs": [
    {
     "data": {
      "text/plain": [
       "array([0, 1, 1, 1, 1, 1, 1, 1, 1, 1, 1, 1, 1, 1, 1, 1, 1, 1, 1, 1, 1, 1,\n",
       "       1, 1, 1, 1, 1, 1, 1, 1, 1, 1, 1, 1, 1, 1, 1, 1, 1, 1, 1, 1, 1, 1,\n",
       "       1, 1, 1, 1, 1, 1, 1, 2, 2, 2, 2, 2, 2, 2, 2, 2, 2, 2, 2, 2, 2, 2,\n",
       "       2, 2, 2, 2, 2, 1, 1, 1, 1, 1, 1, 1, 1, 1, 1, 1, 1, 1, 1, 1, 1, 1,\n",
       "       1, 1, 1, 1, 1, 1, 1, 1, 1, 1, 1, 1, 1, 1, 1, 1, 1, 1, 1, 1, 1, 1,\n",
       "       1, 1, 1, 1, 1, 1, 1, 1, 1, 1, 1])"
      ]
     },
     "execution_count": 36,
     "metadata": {},
     "output_type": "execute_result"
    }
   ],
   "source": [
    "pathX"
   ]
  },
  {
   "cell_type": "code",
   "execution_count": 37,
   "metadata": {},
   "outputs": [
    {
     "name": "stdout",
     "output_type": "stream",
     "text": [
      "['0', 'F', 'F', 'F', 'F', 'F', 'F', 'F', 'F', 'F', 'F', 'F', 'F', 'F', 'F', 'F', 'F', 'F', 'F', 'F', 'F', 'F', 'F', 'F', 'F', 'F', 'F', 'F', 'F', 'F', 'F', 'F', 'F', 'F', 'F', 'F', 'F', 'F', 'F', 'F', 'F', 'F', 'F', 'F', 'F', 'F', 'F', 'F', 'F', 'F', 'F', 'U', 'U', 'U', 'U', 'U', 'U', 'U', 'U', 'U', 'U', 'U', 'U', 'U', 'U', 'U', 'U', 'U', 'U', 'U', 'U', 'F', 'F', 'F', 'F', 'F', 'F', 'F', 'F', 'F', 'F', 'F', 'F', 'F', 'F', 'F', 'F', 'F', 'F', 'F', 'F', 'F', 'F', 'F', 'F', 'F', 'F', 'F', 'F', 'F', 'F', 'F', 'F', 'F', 'F', 'F', 'F', 'F', 'F', 'F', 'F', 'F', 'F', 'F', 'F', 'F', 'F', 'F', 'F', 'F', 'F']\n"
     ]
    }
   ],
   "source": [
    "translate_dict = {0:\"0\", 1:\"F\", 2:\"U\"}\n",
    "pathX_translated = [translate_dict[i] for i in pathX]\n",
    "print(pathX_translated)"
   ]
  },
  {
   "cell_type": "code",
   "execution_count": 38,
   "metadata": {},
   "outputs": [
    {
     "data": {
      "text/plain": [
       "121"
      ]
     },
     "execution_count": 38,
     "metadata": {},
     "output_type": "execute_result"
    }
   ],
   "source": [
    "len(pathX_translated)"
   ]
  },
  {
   "cell_type": "code",
   "execution_count": 39,
   "metadata": {},
   "outputs": [
    {
     "name": "stdout",
     "output_type": "stream",
     "text": [
      "['F', 'F', 'F', 'F', 'F', 'F', 'F', 'F', 'F', 'F', 'F', 'F', 'F', 'F', 'F', 'F', 'F', 'F', 'F', 'F', 'F', 'F', 'F', 'F', 'F', 'F', 'F', 'F', 'F', 'F', 'F', 'F', 'F', 'F', 'F', 'F', 'F', 'F', 'F', 'F', 'F', 'F', 'F', 'F', 'F', 'F', 'F', 'F', 'F', 'F', 'U', 'U', 'U', 'U', 'U', 'U', 'U', 'U', 'U', 'U', 'U', 'U', 'U', 'U', 'U', 'U', 'U', 'U', 'U', 'U', 'F', 'F', 'F', 'F', 'F', 'F', 'F', 'F', 'F', 'F', 'F', 'F', 'F', 'F', 'F', 'F', 'F', 'F', 'F', 'F', 'F', 'F', 'F', 'F', 'F', 'F', 'F', 'F', 'F', 'F', 'F', 'F', 'F', 'F', 'F', 'F', 'F', 'F', 'F', 'F', 'F', 'F', 'F', 'F', 'F', 'F', 'F', 'F', 'F', 'F']\n"
     ]
    }
   ],
   "source": [
    "pathX_translated.remove('0') #removes only the first occurrence of '0'\n",
    "print(pathX_translated)"
   ]
  },
  {
   "cell_type": "code",
   "execution_count": 40,
   "metadata": {},
   "outputs": [
    {
     "data": {
      "text/plain": [
       "120"
      ]
     },
     "execution_count": 40,
     "metadata": {},
     "output_type": "execute_result"
    }
   ],
   "source": [
    "len(pathX_translated)"
   ]
  },
  {
   "cell_type": "code",
   "execution_count": 41,
   "metadata": {},
   "outputs": [
    {
     "name": "stdout",
     "output_type": "stream",
     "text": [
      "Data:      3 1 2 4 1 1 1 6 6 4 3 4 2 2 3 6 1 5 5 6\n",
      "Die:       F F F F F F F F F F F F F F F F F F F F\n",
      "Viterbi:   F F F F F F F F F F F F F F F F F F F F\n",
      "\n",
      "Data:      1 3 2 3 3 3 5 2 4 3 6 1 2 6 3 1 4 1 4 2\n",
      "Die:       F F F F F F F F F F F F F F F F F F F F\n",
      "Viterbi:   F F F F F F F F F F F F F F F F F F F F\n",
      "\n",
      "Data:      4 1 6 5 2 6 5 5 1 1 6 6 2 6 6 4 6 6 6 1\n",
      "Die:       F F F F F F F F F F U U U U U U U U U U\n",
      "Viterbi:   F F F F F F F F F F U U U U U U U U U U\n",
      "\n",
      "Data:      4 6 6 6 6 2 3 6 5 6 3 1 5 4 2 6 2 1 1 6\n",
      "Die:       U U U U U U U U U U F F F F F F F F F F\n",
      "Viterbi:   U U U U U U U U U U F F F F F F F F F F\n",
      "\n",
      "Data:      1 1 2 2 5 1 4 5 3 1 1 5 5 5 5 4 4 1 1 3\n",
      "Die:       F F F F F F F F F F F F F F F F F F F F\n",
      "Viterbi:   F F F F F F F F F F F F F F F F F F F F\n",
      "\n",
      "Data:      3 2 4 6 3 5 2 3 3 4 5 2 5 4 2 2 4 1 5 5\n",
      "Die:       F F F F F F F F F F F F F F F F F F F F\n",
      "Viterbi:   F F F F F F F F F F F F F F F F F F F F\n",
      "\n"
     ]
    }
   ],
   "source": [
    "line_length = 20\n",
    "for i in range(int(len(pathX)/line_length)):\n",
    "    print(\"Data:\".ljust(10,\" \"), \" \".join(map(str, seq[i*line_length:i*line_length+line_length])))\n",
    "    print(\"Die:\".ljust(10,\" \"), \" \".join(label[i*line_length:i*line_length+line_length]))\n",
    "    print(\"Viterbi:\".ljust(10,\" \"), \" \".join(pathX_translated[i*line_length:i*line_length+line_length]))\n",
    "    print()"
   ]
  },
  {
   "cell_type": "markdown",
   "metadata": {},
   "source": [
    "# Exercises"
   ]
  },
  {
   "cell_type": "markdown",
   "metadata": {},
   "source": [
    "## Exercise 1: Repeat the Viterbi decoding for a different realization of a three-segment sequence."
   ]
  },
  {
   "cell_type": "code",
   "execution_count": 42,
   "metadata": {},
   "outputs": [
    {
     "name": "stdout",
     "output_type": "stream",
     "text": [
      "[3, 1, 2, 4, 1, 1, 1, 6, 6, 4, 3, 4, 2, 2, 3, 6, 1, 5, 5, 6, 1, 3, 2, 3, 3, 3, 5, 2, 4, 3, 6, 1, 2, 6, 3, 1, 4, 1, 4, 2, 4, 1, 6, 5, 2, 6, 5, 5, 1, 1, 6, 6, 2, 6, 6, 4, 6, 6, 6, 1, 4, 6, 6, 6, 6, 2, 3, 6, 5, 6, 3, 1, 5, 4, 2, 6, 2, 1, 1, 6, 1, 1, 2, 2, 5, 1, 4, 5, 3, 1, 1, 5, 5, 5, 5, 4, 4, 1, 1, 3, 3, 2, 4, 6, 3, 5, 2, 3, 3, 4, 5, 2, 5, 4, 2, 2, 4, 1, 5, 5]\n",
      "121\n",
      "[0, 3, 1, 2, 4, 1, 1, 1, 6, 6, 4, 3, 4, 2, 2, 3, 6, 1, 5, 5, 6, 1, 3, 2, 3, 3, 3, 5, 2, 4, 3, 6, 1, 2, 6, 3, 1, 4, 1, 4, 2, 4, 1, 6, 5, 2, 6, 5, 5, 1, 1, 6, 6, 2, 6, 6, 4, 6, 6, 6, 1, 4, 6, 6, 6, 6, 2, 3, 6, 5, 6, 3, 1, 5, 4, 2, 6, 2, 1, 1, 6, 1, 1, 2, 2, 5, 1, 4, 5, 3, 1, 1, 5, 5, 5, 5, 4, 4, 1, 1, 3, 3, 2, 4, 6, 3, 5, 2, 3, 3, 4, 5, 2, 5, 4, 2, 2, 4, 1, 5, 5]\n",
      "[0.0, 2.0697411232915127e-95, 6.536024599867937e-97]\n",
      "120 1\n",
      "119 1\n",
      "118 1\n",
      "117 1\n",
      "116 1\n",
      "115 1\n",
      "114 1\n",
      "113 1\n",
      "112 1\n",
      "111 1\n",
      "110 1\n",
      "109 1\n",
      "108 1\n",
      "107 1\n",
      "106 1\n",
      "105 1\n",
      "104 1\n",
      "103 1\n",
      "102 1\n",
      "101 1\n",
      "100 1\n",
      "99 1\n",
      "98 1\n",
      "97 1\n",
      "96 1\n",
      "95 1\n",
      "94 1\n",
      "93 1\n",
      "92 1\n",
      "91 1\n",
      "90 1\n",
      "89 1\n",
      "88 1\n",
      "87 1\n",
      "86 1\n",
      "85 1\n",
      "84 1\n",
      "83 1\n",
      "82 1\n",
      "81 1\n",
      "80 1\n",
      "79 1\n",
      "78 1\n",
      "77 1\n",
      "76 1\n",
      "75 1\n",
      "74 1\n",
      "73 1\n",
      "72 1\n",
      "71 2\n",
      "70 2\n",
      "69 2\n",
      "68 2\n",
      "67 2\n",
      "66 2\n",
      "65 2\n",
      "64 2\n",
      "63 2\n",
      "62 2\n",
      "61 2\n",
      "60 2\n",
      "59 2\n",
      "58 2\n",
      "57 2\n",
      "56 2\n",
      "55 2\n",
      "54 2\n",
      "53 2\n",
      "52 2\n",
      "51 1\n",
      "50 1\n",
      "49 1\n",
      "48 1\n",
      "47 1\n",
      "46 1\n",
      "45 1\n",
      "44 1\n",
      "43 1\n",
      "42 1\n",
      "41 1\n",
      "40 1\n",
      "39 1\n",
      "38 1\n",
      "37 1\n",
      "36 1\n",
      "35 1\n",
      "34 1\n",
      "33 1\n",
      "32 1\n",
      "31 1\n",
      "30 1\n",
      "29 1\n",
      "28 1\n",
      "27 1\n",
      "26 1\n",
      "25 1\n",
      "24 1\n",
      "23 1\n",
      "22 1\n",
      "21 1\n",
      "20 1\n",
      "19 1\n",
      "18 1\n",
      "17 1\n",
      "16 1\n",
      "15 1\n",
      "14 1\n",
      "13 1\n",
      "12 1\n",
      "11 1\n",
      "10 1\n",
      "9 1\n",
      "8 1\n",
      "7 1\n",
      "6 1\n",
      "5 1\n",
      "4 1\n",
      "3 1\n",
      "2 1\n",
      "1 0\n",
      "['0', 'U', 'U', 'U', 'U', 'U', 'U', 'U', 'U', 'U', 'U', 'U', 'U', 'U', 'U', 'U', 'U', 'U', 'U', 'U', 'U', 'U', 'U', 'U', 'U', 'U', 'U', 'U', 'U', 'U', 'U', 'U', 'U', 'U', 'U', 'U', 'U', 'U', 'U', 'U', 'U', 'U', 'U', 'U', 'U', 'U', 'U', 'U', 'U', 'U', 'U', 'F', 'F', 'F', 'F', 'F', 'F', 'F', 'F', 'F', 'F', 'F', 'F', 'F', 'F', 'F', 'F', 'F', 'F', 'F', 'F', 'U', 'U', 'U', 'U', 'U', 'U', 'U', 'U', 'U', 'U', 'U', 'U', 'U', 'U', 'U', 'U', 'U', 'U', 'U', 'U', 'U', 'U', 'U', 'U', 'U', 'U', 'U', 'U', 'U', 'U', 'U', 'U', 'U', 'U', 'U', 'U', 'U', 'U', 'U', 'U', 'U', 'U', 'U', 'U', 'U', 'U', 'U', 'U', 'U', 'U']\n",
      "['U', 'U', 'U', 'U', 'U', 'U', 'U', 'U', 'U', 'U', 'U', 'U', 'U', 'U', 'U', 'U', 'U', 'U', 'U', 'U', 'U', 'U', 'U', 'U', 'U', 'U', 'U', 'U', 'U', 'U', 'U', 'U', 'U', 'U', 'U', 'U', 'U', 'U', 'U', 'U', 'U', 'U', 'U', 'U', 'U', 'U', 'U', 'U', 'U', 'U', 'F', 'F', 'F', 'F', 'F', 'F', 'F', 'F', 'F', 'F', 'F', 'F', 'F', 'F', 'F', 'F', 'F', 'F', 'F', 'F', 'U', 'U', 'U', 'U', 'U', 'U', 'U', 'U', 'U', 'U', 'U', 'U', 'U', 'U', 'U', 'U', 'U', 'U', 'U', 'U', 'U', 'U', 'U', 'U', 'U', 'U', 'U', 'U', 'U', 'U', 'U', 'U', 'U', 'U', 'U', 'U', 'U', 'U', 'U', 'U', 'U', 'U', 'U', 'U', 'U', 'U', 'U', 'U', 'U', 'U']\n",
      "Data:      3 1 2 4 1 1 1 6 6 4 3 4 2 2 3 6 1 5 5 6\n",
      "Die:       U U U U U U U U U U U U U U U U U U U U\n",
      "Viterbi:   U U U U U U U U U U U U U U U U U U U U\n",
      "\n",
      "Data:      1 3 2 3 3 3 5 2 4 3 6 1 2 6 3 1 4 1 4 2\n",
      "Die:       U U U U U U U U U U U U U U U U U U U U\n",
      "Viterbi:   U U U U U U U U U U U U U U U U U U U U\n",
      "\n",
      "Data:      4 1 6 5 2 6 5 5 1 1 6 6 2 6 6 4 6 6 6 1\n",
      "Die:       U U U U U U U U U U F F F F F F F F F F\n",
      "Viterbi:   U U U U U U U U U U F F F F F F F F F F\n",
      "\n",
      "Data:      4 6 6 6 6 2 3 6 5 6 3 1 5 4 2 6 2 1 1 6\n",
      "Die:       F F F F F F F F F F U U U U U U U U U U\n",
      "Viterbi:   F F F F F F F F F F U U U U U U U U U U\n",
      "\n",
      "Data:      1 1 2 2 5 1 4 5 3 1 1 5 5 5 5 4 4 1 1 3\n",
      "Die:       U U U U U U U U U U U U U U U U U U U U\n",
      "Viterbi:   U U U U U U U U U U U U U U U U U U U U\n",
      "\n",
      "Data:      3 2 4 6 3 5 2 3 3 4 5 2 5 4 2 2 4 1 5 5\n",
      "Die:       U U U U U U U U U U U U U U U U U U U U\n",
      "Viterbi:   U U U U U U U U U U U U U U U U U U U U\n",
      "\n"
     ]
    }
   ],
   "source": [
    "state = [\"0\", \"F\", \"U\"]\n",
    "observation = [1,2,3,4,5,6]\n",
    "d = {1:'a', 2: 'b'}\n",
    "d[1]\n",
    "def transition(z1,z2):\n",
    "    \"\"\"Returns transition probability from state z1 to state z2.\n",
    "    \"\"\"\n",
    "    transition_dict = {\n",
    "        \"FF\": 0.95,\n",
    "        \"FU\": 0.05,\n",
    "        \"UU\": 0.90,\n",
    "        \"UF\": 0.10,\n",
    "        \"0U\": 0.50,\n",
    "        \"0F\": 0.50,\n",
    "        \"00\": 0.00,\n",
    "        \"U0\": 0.00,\n",
    "        \"F0\": 0.00,\n",
    "    }\n",
    "    return transition_dict[z1+z2]\n",
    "\n",
    "transition(\"F\", \"F\")\n",
    "transition(\"F\", \"U\")\n",
    "def emission(z1, o1):\n",
    "    \"\"\"Returns emission probability for (hidden) state z1 to emit (observed) symbol o1 \n",
    "    \"\"\"\n",
    "    if z1 == \"F\":\n",
    "        return 1/6.0\n",
    "    elif z1 == \"U\" and o1 == 6:\n",
    "        return 0.5\n",
    "    elif z1 == \"U\":\n",
    "        return 0.1\n",
    "    else:\n",
    "        return 0\n",
    "\n",
    "emission(\"F\", 3)\n",
    "\n",
    "emission(\"U\", 6)\n",
    "\n",
    "emission(\"U\",2)\n",
    "\n",
    "np.random.seed(3)\n",
    "\n",
    "seq0a = np.random.randint(1,7,50)\n",
    "\n",
    "seq0a\n",
    "\n",
    "[i for i in range(20)]\n",
    "\n",
    "6 if np.random.rand() < 0.5 else np.random.randint(1,6)\n",
    "\n",
    "seq0b = np.array([6 if np.random.rand() < 0.5 else np.random.randint(1,6) for i in range(20)])\n",
    "seq0b\n",
    "\n",
    "seq0c = np.random.randint(1,7,50)\n",
    "\n",
    "seq = list(np.concatenate((seq0a, seq0b, seq0c)))\n",
    "print(seq)\n",
    "\n",
    "L = len(seq)\n",
    "L\n",
    "# Taking a different realization\n",
    "label = np.concatenate((\n",
    "    np.repeat(\"U\", 50), \n",
    "    np.repeat(\"F\", 20),\n",
    "    np.repeat(\"U\", 50)\n",
    "))\n",
    "label\n",
    "\n",
    "state.index(\"U\")\n",
    "state\n",
    "seq2 = [0] + seq\n",
    "print(len(seq2))\n",
    "print(seq2)\n",
    "vit = np.zeros((len(state), L+1))\n",
    "vit[0,0]=1\n",
    "vit\n",
    "pointer = np.zeros((len(state), L+1))\n",
    "pointer\n",
    "for i in range(0, L):\n",
    "    for l in state:\n",
    "        tempList = [vit[state.index(k),i]*transition(k,l) for k in state]\n",
    "        vit[state.index(l),i+1] = emission(l,seq2[i+1]) * np.max(tempList)\n",
    "        pointer[state.index(l), i] = np.argmax(tempList)\n",
    "vit[:,:4]\n",
    "pointer\n",
    "tempList2 = [vit[state.index(l), L]*0.5 for l in state]\n",
    "print(tempList2)\n",
    "pointerFinal = np.argmax(tempList2)\n",
    "pointerFinal\n",
    "pathX = np.zeros(L+1,dtype=int)\n",
    "pathX[L] = pointerFinal\n",
    "pathX\n",
    "for i in range(L,0,-1):\n",
    "    pathX[i-1] = pointer[pathX[i], i-1]\n",
    "    print(i, pathX[i-1])\n",
    "pathX\n",
    "translate_dict = {0:\"0\", 1:\"U\", 2:\"F\"} # Adjusting according to the realization\n",
    "pathX_translated = [translate_dict[i] for i in pathX]\n",
    "print(pathX_translated)\n",
    "len(pathX_translated)\n",
    "pathX_translated.remove('0') #removes only the first occurrence of '0'\n",
    "print(pathX_translated)\n",
    "\n",
    "len(pathX_translated)\n",
    "line_length = 20\n",
    "for i in range(int(len(pathX)/line_length)):\n",
    "    print(\"Data:\".ljust(10,\" \"), \" \".join(map(str, seq[i*line_length:i*line_length+line_length])))\n",
    "    print(\"Die:\".ljust(10,\" \"), \" \".join(label[i*line_length:i*line_length+line_length]))\n",
    "    print(\"Viterbi:\".ljust(10,\" \"), \" \".join(pathX_translated[i*line_length:i*line_length+line_length]))\n",
    "    print()"
   ]
  },
  {
   "cell_type": "markdown",
   "metadata": {},
   "source": [
    "# Exercise 2: Create a longer sequence (300 die rolls) of more than three segments (alternating between fair and unfair several times and use Viterbi decoding on this. "
   ]
  },
  {
   "cell_type": "code",
   "execution_count": 43,
   "metadata": {},
   "outputs": [
    {
     "name": "stdout",
     "output_type": "stream",
     "text": [
      "[3, 1, 2, 4, 1, 1, 1, 6, 6, 4, 3, 4, 2, 2, 3, 6, 1, 5, 5, 6, 1, 3, 2, 3, 3, 3, 5, 2, 4, 3, 6, 1, 2, 6, 3, 1, 4, 1, 4, 2, 4, 1, 6, 5, 2, 6, 5, 5, 1, 1, 6, 6, 2, 6, 6, 4, 6, 6, 6, 1, 4, 6, 6, 6, 6, 2, 3, 6, 5, 6, 1, 6, 2, 1, 6, 6, 6, 4, 6, 6, 6, 4, 1, 3, 6, 6, 6, 6, 4, 6, 5, 2, 1, 5, 4, 1, 5, 2, 5, 2, 6, 5, 5, 1, 1, 5, 6, 5, 6, 2, 4, 5, 6, 6, 5, 6, 1, 5, 6, 5, 3, 6, 6, 2, 6, 2, 1, 2, 3, 3, 6, 6, 2, 5, 2, 6, 6, 5, 6, 6, 5, 1, 4, 3, 3, 6, 6, 4, 5, 5, 6, 3, 3, 3, 3, 1, 5, 2, 6, 6, 6, 2, 6, 6, 4, 6, 5, 2, 3, 2, 2, 5, 1, 1, 6, 6, 1, 2, 2, 5, 6, 4, 3, 2, 6, 6, 1, 4, 1, 2, 6, 3, 5, 5, 1, 1, 4, 1, 3, 6, 5, 4, 1, 6, 5, 5, 6, 5, 6, 6, 2, 4, 6, 6, 6, 6, 4, 6, 5, 6, 6, 6, 1, 1, 6, 6, 6, 6, 6, 2, 3, 6, 6, 6, 6, 3, 5, 6, 6, 3, 1, 3, 2, 6, 6, 6, 1, 6, 3, 6, 1, 3, 1, 3, 6, 4, 6, 1, 1, 6, 6, 3, 6, 6, 5, 4, 6, 6, 4, 2, 1, 1, 5, 5, 1, 6, 4, 2, 2, 5, 5, 2, 3, 6, 6, 4, 1, 6, 6, 6, 6, 6, 6, 6, 5, 1, 5, 4, 5, 1]\n",
      "301\n",
      "[0, 3, 1, 2, 4, 1, 1, 1, 6, 6, 4, 3, 4, 2, 2, 3, 6, 1, 5, 5, 6, 1, 3, 2, 3, 3, 3, 5, 2, 4, 3, 6, 1, 2, 6, 3, 1, 4, 1, 4, 2, 4, 1, 6, 5, 2, 6, 5, 5, 1, 1, 6, 6, 2, 6, 6, 4, 6, 6, 6, 1, 4, 6, 6, 6, 6, 2, 3, 6, 5, 6, 1, 6, 2, 1, 6, 6, 6, 4, 6, 6, 6, 4, 1, 3, 6, 6, 6, 6, 4, 6, 5, 2, 1, 5, 4, 1, 5, 2, 5, 2, 6, 5, 5, 1, 1, 5, 6, 5, 6, 2, 4, 5, 6, 6, 5, 6, 1, 5, 6, 5, 3, 6, 6, 2, 6, 2, 1, 2, 3, 3, 6, 6, 2, 5, 2, 6, 6, 5, 6, 6, 5, 1, 4, 3, 3, 6, 6, 4, 5, 5, 6, 3, 3, 3, 3, 1, 5, 2, 6, 6, 6, 2, 6, 6, 4, 6, 5, 2, 3, 2, 2, 5, 1, 1, 6, 6, 1, 2, 2, 5, 6, 4, 3, 2, 6, 6, 1, 4, 1, 2, 6, 3, 5, 5, 1, 1, 4, 1, 3, 6, 5, 4, 1, 6, 5, 5, 6, 5, 6, 6, 2, 4, 6, 6, 6, 6, 4, 6, 5, 6, 6, 6, 1, 1, 6, 6, 6, 6, 6, 2, 3, 6, 6, 6, 6, 3, 5, 6, 6, 3, 1, 3, 2, 6, 6, 6, 1, 6, 3, 6, 1, 3, 1, 3, 6, 4, 6, 1, 1, 6, 6, 3, 6, 6, 5, 4, 6, 6, 4, 2, 1, 1, 5, 5, 1, 6, 4, 2, 2, 5, 5, 2, 3, 6, 6, 4, 1, 6, 6, 6, 6, 6, 6, 6, 5, 1, 5, 4, 5, 1]\n",
      "[0.0, 1.2577441479442316e-227, 4.030295018910357e-228]\n",
      "300 1\n",
      "299 1\n",
      "298 1\n",
      "297 1\n",
      "296 1\n",
      "295 2\n",
      "294 2\n",
      "293 2\n",
      "292 2\n",
      "291 2\n",
      "290 2\n",
      "289 2\n",
      "288 2\n",
      "287 2\n",
      "286 2\n",
      "285 2\n",
      "284 1\n",
      "283 1\n",
      "282 1\n",
      "281 1\n",
      "280 1\n",
      "279 1\n",
      "278 1\n",
      "277 1\n",
      "276 1\n",
      "275 1\n",
      "274 1\n",
      "273 1\n",
      "272 1\n",
      "271 1\n",
      "270 1\n",
      "269 2\n",
      "268 2\n",
      "267 2\n",
      "266 2\n",
      "265 2\n",
      "264 2\n",
      "263 2\n",
      "262 2\n",
      "261 2\n",
      "260 2\n",
      "259 2\n",
      "258 2\n",
      "257 2\n",
      "256 2\n",
      "255 2\n",
      "254 2\n",
      "253 2\n",
      "252 2\n",
      "251 2\n",
      "250 2\n",
      "249 2\n",
      "248 2\n",
      "247 2\n",
      "246 2\n",
      "245 2\n",
      "244 2\n",
      "243 2\n",
      "242 2\n",
      "241 2\n",
      "240 2\n",
      "239 2\n",
      "238 2\n",
      "237 2\n",
      "236 2\n",
      "235 2\n",
      "234 2\n",
      "233 2\n",
      "232 2\n",
      "231 2\n",
      "230 2\n",
      "229 2\n",
      "228 2\n",
      "227 2\n",
      "226 2\n",
      "225 2\n",
      "224 2\n",
      "223 2\n",
      "222 2\n",
      "221 2\n",
      "220 2\n",
      "219 2\n",
      "218 2\n",
      "217 2\n",
      "216 2\n",
      "215 2\n",
      "214 2\n",
      "213 2\n",
      "212 2\n",
      "211 2\n",
      "210 2\n",
      "209 2\n",
      "208 2\n",
      "207 1\n",
      "206 1\n",
      "205 1\n",
      "204 1\n",
      "203 1\n",
      "202 1\n",
      "201 1\n",
      "200 1\n",
      "199 1\n",
      "198 1\n",
      "197 1\n",
      "196 1\n",
      "195 1\n",
      "194 1\n",
      "193 1\n",
      "192 1\n",
      "191 1\n",
      "190 1\n",
      "189 1\n",
      "188 1\n",
      "187 1\n",
      "186 1\n",
      "185 1\n",
      "184 1\n",
      "183 1\n",
      "182 1\n",
      "181 1\n",
      "180 1\n",
      "179 1\n",
      "178 1\n",
      "177 1\n",
      "176 1\n",
      "175 1\n",
      "174 1\n",
      "173 1\n",
      "172 1\n",
      "171 1\n",
      "170 1\n",
      "169 1\n",
      "168 1\n",
      "167 1\n",
      "166 1\n",
      "165 1\n",
      "164 1\n",
      "163 1\n",
      "162 1\n",
      "161 1\n",
      "160 1\n",
      "159 1\n",
      "158 1\n",
      "157 1\n",
      "156 1\n",
      "155 1\n",
      "154 1\n",
      "153 1\n",
      "152 1\n",
      "151 1\n",
      "150 1\n",
      "149 1\n",
      "148 1\n",
      "147 1\n",
      "146 1\n",
      "145 1\n",
      "144 1\n",
      "143 1\n",
      "142 1\n",
      "141 1\n",
      "140 1\n",
      "139 1\n",
      "138 1\n",
      "137 1\n",
      "136 1\n",
      "135 1\n",
      "134 1\n",
      "133 1\n",
      "132 1\n",
      "131 1\n",
      "130 1\n",
      "129 1\n",
      "128 1\n",
      "127 1\n",
      "126 1\n",
      "125 1\n",
      "124 1\n",
      "123 1\n",
      "122 1\n",
      "121 1\n",
      "120 1\n",
      "119 1\n",
      "118 1\n",
      "117 1\n",
      "116 1\n",
      "115 1\n",
      "114 1\n",
      "113 1\n",
      "112 1\n",
      "111 1\n",
      "110 1\n",
      "109 1\n",
      "108 1\n",
      "107 1\n",
      "106 1\n",
      "105 1\n",
      "104 1\n",
      "103 1\n",
      "102 1\n",
      "101 1\n",
      "100 1\n",
      "99 1\n",
      "98 1\n",
      "97 1\n",
      "96 1\n",
      "95 1\n",
      "94 1\n",
      "93 1\n",
      "92 1\n",
      "91 2\n",
      "90 2\n",
      "89 2\n",
      "88 2\n",
      "87 2\n",
      "86 2\n",
      "85 2\n",
      "84 2\n",
      "83 2\n",
      "82 2\n",
      "81 2\n",
      "80 2\n",
      "79 2\n",
      "78 2\n",
      "77 2\n",
      "76 2\n",
      "75 2\n",
      "74 2\n",
      "73 2\n",
      "72 2\n",
      "71 2\n",
      "70 2\n",
      "69 2\n",
      "68 2\n",
      "67 2\n",
      "66 2\n",
      "65 2\n",
      "64 2\n",
      "63 2\n",
      "62 2\n",
      "61 2\n",
      "60 2\n",
      "59 2\n",
      "58 2\n",
      "57 2\n",
      "56 2\n",
      "55 2\n",
      "54 2\n",
      "53 2\n",
      "52 2\n",
      "51 1\n",
      "50 1\n",
      "49 1\n",
      "48 1\n",
      "47 1\n",
      "46 1\n",
      "45 1\n",
      "44 1\n",
      "43 1\n",
      "42 1\n",
      "41 1\n",
      "40 1\n",
      "39 1\n",
      "38 1\n",
      "37 1\n",
      "36 1\n",
      "35 1\n",
      "34 1\n",
      "33 1\n",
      "32 1\n",
      "31 1\n",
      "30 1\n",
      "29 1\n",
      "28 1\n",
      "27 1\n",
      "26 1\n",
      "25 1\n",
      "24 1\n",
      "23 1\n",
      "22 1\n",
      "21 1\n",
      "20 1\n",
      "19 1\n",
      "18 1\n",
      "17 1\n",
      "16 1\n",
      "15 1\n",
      "14 1\n",
      "13 1\n",
      "12 1\n",
      "11 1\n",
      "10 1\n",
      "9 1\n",
      "8 1\n",
      "7 1\n",
      "6 1\n",
      "5 1\n",
      "4 1\n",
      "3 1\n",
      "2 1\n",
      "1 0\n",
      "['0', 'U', 'U', 'U', 'U', 'U', 'U', 'U', 'U', 'U', 'U', 'U', 'U', 'U', 'U', 'U', 'U', 'U', 'U', 'U', 'U', 'U', 'U', 'U', 'U', 'U', 'U', 'U', 'U', 'U', 'U', 'U', 'U', 'U', 'U', 'U', 'U', 'U', 'U', 'U', 'U', 'U', 'U', 'U', 'U', 'U', 'U', 'U', 'U', 'U', 'U', 'F', 'F', 'F', 'F', 'F', 'F', 'F', 'F', 'F', 'F', 'F', 'F', 'F', 'F', 'F', 'F', 'F', 'F', 'F', 'F', 'F', 'F', 'F', 'F', 'F', 'F', 'F', 'F', 'F', 'F', 'F', 'F', 'F', 'F', 'F', 'F', 'F', 'F', 'F', 'F', 'U', 'U', 'U', 'U', 'U', 'U', 'U', 'U', 'U', 'U', 'U', 'U', 'U', 'U', 'U', 'U', 'U', 'U', 'U', 'U', 'U', 'U', 'U', 'U', 'U', 'U', 'U', 'U', 'U', 'U', 'U', 'U', 'U', 'U', 'U', 'U', 'U', 'U', 'U', 'U', 'U', 'U', 'U', 'U', 'U', 'U', 'U', 'U', 'U', 'U', 'U', 'U', 'U', 'U', 'U', 'U', 'U', 'U', 'U', 'U', 'U', 'U', 'U', 'U', 'U', 'U', 'U', 'U', 'U', 'U', 'U', 'U', 'U', 'U', 'U', 'U', 'U', 'U', 'U', 'U', 'U', 'U', 'U', 'U', 'U', 'U', 'U', 'U', 'U', 'U', 'U', 'U', 'U', 'U', 'U', 'U', 'U', 'U', 'U', 'U', 'U', 'U', 'U', 'U', 'U', 'U', 'U', 'U', 'U', 'U', 'U', 'U', 'U', 'U', 'U', 'U', 'F', 'F', 'F', 'F', 'F', 'F', 'F', 'F', 'F', 'F', 'F', 'F', 'F', 'F', 'F', 'F', 'F', 'F', 'F', 'F', 'F', 'F', 'F', 'F', 'F', 'F', 'F', 'F', 'F', 'F', 'F', 'F', 'F', 'F', 'F', 'F', 'F', 'F', 'F', 'F', 'F', 'F', 'F', 'F', 'F', 'F', 'F', 'F', 'F', 'F', 'F', 'F', 'F', 'F', 'F', 'F', 'F', 'F', 'F', 'F', 'F', 'F', 'U', 'U', 'U', 'U', 'U', 'U', 'U', 'U', 'U', 'U', 'U', 'U', 'U', 'U', 'U', 'F', 'F', 'F', 'F', 'F', 'F', 'F', 'F', 'F', 'F', 'F', 'U', 'U', 'U', 'U', 'U', 'U']\n",
      "['U', 'U', 'U', 'U', 'U', 'U', 'U', 'U', 'U', 'U', 'U', 'U', 'U', 'U', 'U', 'U', 'U', 'U', 'U', 'U', 'U', 'U', 'U', 'U', 'U', 'U', 'U', 'U', 'U', 'U', 'U', 'U', 'U', 'U', 'U', 'U', 'U', 'U', 'U', 'U', 'U', 'U', 'U', 'U', 'U', 'U', 'U', 'U', 'U', 'U', 'F', 'F', 'F', 'F', 'F', 'F', 'F', 'F', 'F', 'F', 'F', 'F', 'F', 'F', 'F', 'F', 'F', 'F', 'F', 'F', 'F', 'F', 'F', 'F', 'F', 'F', 'F', 'F', 'F', 'F', 'F', 'F', 'F', 'F', 'F', 'F', 'F', 'F', 'F', 'F', 'U', 'U', 'U', 'U', 'U', 'U', 'U', 'U', 'U', 'U', 'U', 'U', 'U', 'U', 'U', 'U', 'U', 'U', 'U', 'U', 'U', 'U', 'U', 'U', 'U', 'U', 'U', 'U', 'U', 'U', 'U', 'U', 'U', 'U', 'U', 'U', 'U', 'U', 'U', 'U', 'U', 'U', 'U', 'U', 'U', 'U', 'U', 'U', 'U', 'U', 'U', 'U', 'U', 'U', 'U', 'U', 'U', 'U', 'U', 'U', 'U', 'U', 'U', 'U', 'U', 'U', 'U', 'U', 'U', 'U', 'U', 'U', 'U', 'U', 'U', 'U', 'U', 'U', 'U', 'U', 'U', 'U', 'U', 'U', 'U', 'U', 'U', 'U', 'U', 'U', 'U', 'U', 'U', 'U', 'U', 'U', 'U', 'U', 'U', 'U', 'U', 'U', 'U', 'U', 'U', 'U', 'U', 'U', 'U', 'U', 'U', 'U', 'U', 'U', 'U', 'U', 'F', 'F', 'F', 'F', 'F', 'F', 'F', 'F', 'F', 'F', 'F', 'F', 'F', 'F', 'F', 'F', 'F', 'F', 'F', 'F', 'F', 'F', 'F', 'F', 'F', 'F', 'F', 'F', 'F', 'F', 'F', 'F', 'F', 'F', 'F', 'F', 'F', 'F', 'F', 'F', 'F', 'F', 'F', 'F', 'F', 'F', 'F', 'F', 'F', 'F', 'F', 'F', 'F', 'F', 'F', 'F', 'F', 'F', 'F', 'F', 'F', 'F', 'U', 'U', 'U', 'U', 'U', 'U', 'U', 'U', 'U', 'U', 'U', 'U', 'U', 'U', 'U', 'F', 'F', 'F', 'F', 'F', 'F', 'F', 'F', 'F', 'F', 'F', 'U', 'U', 'U', 'U', 'U', 'U']\n",
      "Data:      3 1 2 4 1 1 1 6 6 4 3 4 2 2 3 6 1 5 5 6\n",
      "Die:       U U U U U U U U U U U U U U U U U U U U\n",
      "Viterbi:   U U U U U U U U U U U U U U U U U U U U\n",
      "\n",
      "Data:      1 3 2 3 3 3 5 2 4 3 6 1 2 6 3 1 4 1 4 2\n",
      "Die:       U U U U U U U U U U U U U U U U U U U U\n",
      "Viterbi:   U U U U U U U U U U U U U U U U U U U U\n",
      "\n",
      "Data:      4 1 6 5 2 6 5 5 1 1 6 6 2 6 6 4 6 6 6 1\n",
      "Die:       U U U U U U U U U U F F F F F F F F F F\n",
      "Viterbi:   U U U U U U U U U U F F F F F F F F F F\n",
      "\n",
      "Data:      4 6 6 6 6 2 3 6 5 6 1 6 2 1 6 6 6 4 6 6\n",
      "Die:       F F F F F F F F F F F F F F F F F F F F\n",
      "Viterbi:   F F F F F F F F F F F F F F F F F F F F\n",
      "\n",
      "Data:      6 4 1 3 6 6 6 6 4 6 5 2 1 5 4 1 5 2 5 2\n",
      "Die:       F F F F F F F F F F F F F F F F F F F F\n",
      "Viterbi:   F F F F F F F F F F U U U U U U U U U U\n",
      "\n",
      "Data:      6 5 5 1 1 5 6 5 6 2 4 5 6 6 5 6 1 5 6 5\n",
      "Die:       F F F F F F F F F F F F F F F F F F F F\n",
      "Viterbi:   U U U U U U U U U U U U U U U U U U U U\n",
      "\n",
      "Data:      3 6 6 2 6 2 1 2 3 3 6 6 2 5 2 6 6 5 6 6\n",
      "Die:       F F F F F F F F F F F F F F F F F F F F\n",
      "Viterbi:   U U U U U U U U U U U U U U U U U U U U\n",
      "\n",
      "Data:      5 1 4 3 3 6 6 4 5 5 6 3 3 3 3 1 5 2 6 6\n",
      "Die:       F F F F F F F F F F U U U U U U U U U U\n",
      "Viterbi:   U U U U U U U U U U U U U U U U U U U U\n",
      "\n",
      "Data:      6 2 6 6 4 6 5 2 3 2 2 5 1 1 6 6 1 2 2 5\n",
      "Die:       U U U U U U U U U U U U U U U U U U U U\n",
      "Viterbi:   U U U U U U U U U U U U U U U U U U U U\n",
      "\n",
      "Data:      6 4 3 2 6 6 1 4 1 2 6 3 5 5 1 1 4 1 3 6\n",
      "Die:       U U U U U U U U U U U U U U U U U U U U\n",
      "Viterbi:   U U U U U U U U U U U U U U U U U U U U\n",
      "\n",
      "Data:      5 4 1 6 5 5 6 5 6 6 2 4 6 6 6 6 4 6 5 6\n",
      "Die:       U U U U U U U U U U U U U U U U U U U U\n",
      "Viterbi:   U U U U U U F F F F F F F F F F F F F F\n",
      "\n",
      "Data:      6 6 1 1 6 6 6 6 6 2 3 6 6 6 6 3 5 6 6 3\n",
      "Die:       U U U U U U U U U U U U U U U U U U U U\n",
      "Viterbi:   F F F F F F F F F F F F F F F F F F F F\n",
      "\n",
      "Data:      1 3 2 6 6 6 1 6 3 6 1 3 1 3 6 4 6 1 1 6\n",
      "Die:       U U U U U U U U U U F F F F F F F F F F\n",
      "Viterbi:   F F F F F F F F F F F F F F F F F F F F\n",
      "\n",
      "Data:      6 3 6 6 5 4 6 6 4 2 1 1 5 5 1 6 4 2 2 5\n",
      "Die:       F F F F F F F F F F F F F F F F F F F F\n",
      "Viterbi:   F F F F F F F F U U U U U U U U U U U U\n",
      "\n",
      "Data:      5 2 3 6 6 4 1 6 6 6 6 6 6 6 5 1 5 4 5 1\n",
      "Die:       F F F F F F F F F F F F F F F F F F F F\n",
      "Viterbi:   U U U F F F F F F F F F F F U U U U U U\n",
      "\n"
     ]
    }
   ],
   "source": [
    "state = [\"0\", \"F\", \"U\"]\n",
    "observation = [1,2,3,4,5,6]\n",
    "d = {1:'a', 2: 'b'}\n",
    "d[1]\n",
    "def transition(z1,z2):\n",
    "    \"\"\"Returns transition probability from state z1 to state z2.\n",
    "    \"\"\"\n",
    "    transition_dict = {\n",
    "        \"FF\": 0.95,\n",
    "        \"FU\": 0.05,\n",
    "        \"UU\": 0.90,\n",
    "        \"UF\": 0.10,\n",
    "        \"0U\": 0.50,\n",
    "        \"0F\": 0.50,\n",
    "        \"00\": 0.00,\n",
    "        \"U0\": 0.00,\n",
    "        \"F0\": 0.00,\n",
    "    }\n",
    "    return transition_dict[z1+z2]\n",
    "\n",
    "transition(\"F\", \"F\")\n",
    "transition(\"F\", \"U\")\n",
    "def emission(z1, o1):\n",
    "    \"\"\"Returns emission probability for (hidden) state z1 to emit (observed) symbol o1 \n",
    "    \"\"\"\n",
    "    if z1 == \"F\":\n",
    "        return 1/6.0\n",
    "    elif z1 == \"U\" and o1 == 6:\n",
    "        return 0.5\n",
    "    elif z1 == \"U\":\n",
    "        return 0.1\n",
    "    else:\n",
    "        return 0\n",
    "\n",
    "emission(\"F\", 3)\n",
    "\n",
    "emission(\"U\", 6)\n",
    "\n",
    "emission(\"U\",2)\n",
    "\n",
    "np.random.seed(3)\n",
    "\n",
    "seq0a = np.random.randint(1,7,50)\n",
    "\n",
    "seq0a\n",
    "\n",
    "[i for i in range(20)]\n",
    "\n",
    "6 if np.random.rand() < 0.5 else np.random.randint(1,6)\n",
    "\n",
    "seq0b = np.array([6 if np.random.rand() < 0.5 else np.random.randint(1,6) for i in range(100)])\n",
    "seq0b\n",
    "seq0d = np.array([6 if np.random.rand() < 0.5 else np.random.randint(1,6) for i in range(100)])\n",
    "seq0c = np.random.randint(1,7,50)\n",
    "\n",
    "seq = list(np.concatenate((seq0a, seq0b, seq0c, seq0d)))\n",
    "print(seq)\n",
    "\n",
    "L = len(seq)\n",
    "L\n",
    "# More segments with 300 rolls\n",
    "label = np.concatenate((\n",
    "    np.repeat(\"U\", 50), \n",
    "    np.repeat(\"F\", 100),\n",
    "    np.repeat(\"U\", 100),\n",
    "    np.repeat(\"F\", 50)\n",
    "    \n",
    "))\n",
    "label\n",
    "\n",
    "state.index(\"U\")\n",
    "state\n",
    "seq2 = [0] + seq\n",
    "print(len(seq2))\n",
    "print(seq2)\n",
    "vit = np.zeros((len(state), L+1))\n",
    "vit[0,0]=1\n",
    "vit\n",
    "pointer = np.zeros((len(state), L+1))\n",
    "pointer\n",
    "for i in range(0, L):\n",
    "    for l in state:\n",
    "        tempList = [vit[state.index(k),i]*transition(k,l) for k in state]\n",
    "        vit[state.index(l),i+1] = emission(l,seq2[i+1]) * np.max(tempList)\n",
    "        pointer[state.index(l), i] = np.argmax(tempList)\n",
    "vit[:,:4]\n",
    "pointer\n",
    "tempList2 = [vit[state.index(l), L]*0.5 for l in state]\n",
    "print(tempList2)\n",
    "pointerFinal = np.argmax(tempList2)\n",
    "pointerFinal\n",
    "pathX = np.zeros(L+1,dtype=int)\n",
    "pathX[L] = pointerFinal\n",
    "pathX\n",
    "for i in range(L,0,-1):\n",
    "    pathX[i-1] = pointer[pathX[i], i-1]\n",
    "    print(i, pathX[i-1])\n",
    "pathX\n",
    "translate_dict = {0:\"0\", 1:\"U\", 2:\"F\", 3:\"U\"}\n",
    "pathX_translated = [translate_dict[i] for i in pathX]\n",
    "print(pathX_translated)\n",
    "len(pathX_translated)\n",
    "pathX_translated.remove('0') #removes only the first occurrence of '0'\n",
    "print(pathX_translated)\n",
    "\n",
    "len(pathX_translated)\n",
    "line_length = 20\n",
    "for i in range(int(len(pathX)/line_length)):\n",
    "    print(\"Data:\".ljust(10,\" \"), \" \".join(map(str, seq[i*line_length:i*line_length+line_length])))\n",
    "    print(\"Die:\".ljust(10,\" \"), \" \".join(label[i*line_length:i*line_length+line_length]))\n",
    "    print(\"Viterbi:\".ljust(10,\" \"), \" \".join(pathX_translated[i*line_length:i*line_length+line_length]))\n",
    "    print()"
   ]
  },
  {
   "cell_type": "markdown",
   "metadata": {},
   "source": [
    "## Exercise 3: Repeat the numerical example from class (sequence: 3,1,5,6,6; transition probabilities: $a_{FF} = a_{UU} = 0.8$, $a_{UF} = a_{FU} = 0.2$ ) and create the corresponding tables for the Viterbi variables with the implementation presented here. "
   ]
  },
  {
   "cell_type": "code",
   "execution_count": 44,
   "metadata": {
    "scrolled": true
   },
   "outputs": [
    {
     "name": "stdout",
     "output_type": "stream",
     "text": [
      "[3, 1, 5, 6, 6]\n",
      "6\n",
      "[0, 3, 1, 5, 6, 6]\n",
      "[0.0, 1.316872427983539e-05, 2.962962962962963e-05]\n",
      "5 2\n",
      "4 1\n",
      "3 1\n",
      "2 1\n",
      "1 0\n",
      "['0', 'U', 'U', 'U', 'F', 'F']\n",
      "['U', 'U', 'U', 'F', 'F']\n"
     ]
    }
   ],
   "source": [
    "state = [\"0\", \"F\", \"U\"]\n",
    "observation = [1,2,3,4,5,6]\n",
    "d = {1:'a', 2: 'b'}\n",
    "d[1]\n",
    "def transition(z1,z2):\n",
    "    \"\"\"Returns transition probability from state z1 to state z2.\n",
    "    \"\"\"\n",
    "    transition_dict = {\n",
    "        \"FF\": 0.8,\n",
    "        \"FU\": 0.2,\n",
    "        \"UU\": 0.80,\n",
    "        \"UF\": 0.20,\n",
    "        \"0U\": 0.50,\n",
    "        \"0F\": 0.50,\n",
    "        \"00\": 0.00,\n",
    "        \"U0\": 0.00,\n",
    "        \"F0\": 0.00,\n",
    "    }\n",
    "    return transition_dict[z1+z2]\n",
    "def emission(z1, o1):\n",
    "    \"\"\"Returns emission probability for (hidden) state z1 to emit (observed) symbol o1 \n",
    "    \"\"\"\n",
    "    if z1 == \"F\":\n",
    "        return 1/6.0\n",
    "    elif z1 == \"U\" and o1 == 6:\n",
    "        return 0.5\n",
    "    elif z1 == \"U\":\n",
    "        return 0.1\n",
    "    else:\n",
    "        return 0\n",
    "    \n",
    "seq = [3,1,5,6,6]\n",
    "L= len(seq)\n",
    "print (seq)\n",
    "seq2 = [0] + seq\n",
    "print(len(seq2))\n",
    "print(seq2)\n",
    "vit = np.zeros((len(state), L+1))\n",
    "vit[0,0]=1\n",
    "vit\n",
    "pointer = np.zeros((len(state), L+1))\n",
    "pointer\n",
    "for i in range(0, L):\n",
    "    for l in state:\n",
    "        tempList = [vit[state.index(k),i]*transition(k,l) for k in state]\n",
    "        vit[state.index(l),i+1] = emission(l,seq2[i+1]) * np.max(tempList)\n",
    "        pointer[state.index(l), i] = np.argmax(tempList)\n",
    "vit[:,:4]\n",
    "pointer\n",
    "tempList2 = [vit[state.index(l), L]*0.5 for l in state]\n",
    "print(tempList2)\n",
    "pointerFinal = np.argmax(tempList2)\n",
    "pointerFinal\n",
    "pathX = np.zeros(L+1,dtype=int)\n",
    "pathX[L] = pointerFinal\n",
    "pathX\n",
    "for i in range(L,0,-1):\n",
    "    pathX[i-1] = pointer[pathX[i], i-1]\n",
    "    print(i, pathX[i-1])\n",
    "pathX\n",
    "translate_dict = {0:\"0\", 1:\"U\", 2:\"F\", 3:\"U\"}\n",
    "pathX_translated = [translate_dict[i] for i in pathX]\n",
    "print(pathX_translated)\n",
    "len(pathX_translated)\n",
    "pathX_translated.remove('0') #removes only the first occurrence of '0'\n",
    "print(pathX_translated)\n",
    "\n",
    "len(pathX_translated)\n",
    "line_length = 20\n",
    "for i in range(int(len(pathX)/line_length)):\n",
    "    print(\"Data:\".ljust(10,\" \"), \" \".join(map(str, seq[i*line_length:i*line_length+line_length])))\n",
    "    print(\"Die:\".ljust(10,\" \"), \" \".join(label[i*line_length:i*line_length+line_length]))\n",
    "    print(\"Viterbi:\".ljust(10,\" \"), \" \".join(pathX_translated[i*line_length:i*line_length+line_length]))\n",
    "    print()"
   ]
  }
 ],
 "metadata": {
  "hide_input": false,
  "kernelspec": {
   "display_name": "Python 3",
   "language": "python",
   "name": "python3"
  },
  "language_info": {
   "codemirror_mode": {
    "name": "ipython",
    "version": 3
   },
   "file_extension": ".py",
   "mimetype": "text/x-python",
   "name": "python",
   "nbconvert_exporter": "python",
   "pygments_lexer": "ipython3",
   "version": "3.8.5"
  },
  "toc": {
   "base_numbering": 1,
   "nav_menu": {},
   "number_sections": true,
   "sideBar": true,
   "skip_h1_title": false,
   "title_cell": "Table of Contents",
   "title_sidebar": "Contents",
   "toc_cell": true,
   "toc_position": {},
   "toc_section_display": true,
   "toc_window_display": false
  },
  "varInspector": {
   "cols": {
    "lenName": 16,
    "lenType": 16,
    "lenVar": 40
   },
   "kernels_config": {
    "python": {
     "delete_cmd_postfix": "",
     "delete_cmd_prefix": "del ",
     "library": "var_list.py",
     "varRefreshCmd": "print(var_dic_list())"
    },
    "r": {
     "delete_cmd_postfix": ") ",
     "delete_cmd_prefix": "rm(",
     "library": "var_list.r",
     "varRefreshCmd": "cat(var_dic_list()) "
    }
   },
   "types_to_exclude": [
    "module",
    "function",
    "builtin_function_or_method",
    "instance",
    "_Feature"
   ],
   "window_display": false
  }
 },
 "nbformat": 4,
 "nbformat_minor": 4
}
