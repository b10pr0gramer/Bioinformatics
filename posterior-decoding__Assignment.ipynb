{
 "cells": [
  {
   "cell_type": "markdown",
   "metadata": {
    "toc": true
   },
   "source": [
    "<h1>Table of Contents<span class=\"tocSkip\"></span></h1>\n",
    "<div class=\"toc\"><ul class=\"toc-item\"><li><span><a href=\"#Import-libraries\" data-toc-modified-id=\"Import-libraries-1\"><span class=\"toc-item-num\">1&nbsp;&nbsp;</span>Import libraries</a></span></li><li><span><a href=\"#Model-initialization\" data-toc-modified-id=\"Model-initialization-2\"><span class=\"toc-item-num\">2&nbsp;&nbsp;</span>Model initialization</a></span></li><li><span><a href=\"#Sequence-of-die-rolls\" data-toc-modified-id=\"Sequence-of-die-rolls-3\"><span class=\"toc-item-num\">3&nbsp;&nbsp;</span>Sequence of die rolls</a></span></li><li><span><a href=\"#Forward-algorithm\" data-toc-modified-id=\"Forward-algorithm-4\"><span class=\"toc-item-num\">4&nbsp;&nbsp;</span>Forward algorithm</a></span><ul class=\"toc-item\"><li><span><a href=\"#Initialization\" data-toc-modified-id=\"Initialization-4.1\"><span class=\"toc-item-num\">4.1&nbsp;&nbsp;</span>Initialization</a></span></li><li><span><a href=\"#Recursion\" data-toc-modified-id=\"Recursion-4.2\"><span class=\"toc-item-num\">4.2&nbsp;&nbsp;</span>Recursion</a></span></li><li><span><a href=\"#Termination\" data-toc-modified-id=\"Termination-4.3\"><span class=\"toc-item-num\">4.3&nbsp;&nbsp;</span>Termination</a></span></li><li><span><a href=\"#Probability-of-sequence\" data-toc-modified-id=\"Probability-of-sequence-4.4\"><span class=\"toc-item-num\">4.4&nbsp;&nbsp;</span>Probability of sequence</a></span></li></ul></li><li><span><a href=\"#Backward-algorithm\" data-toc-modified-id=\"Backward-algorithm-5\"><span class=\"toc-item-num\">5&nbsp;&nbsp;</span>Backward algorithm</a></span><ul class=\"toc-item\"><li><span><a href=\"#Initialization\" data-toc-modified-id=\"Initialization-5.1\"><span class=\"toc-item-num\">5.1&nbsp;&nbsp;</span>Initialization</a></span></li><li><span><a href=\"#Recursion\" data-toc-modified-id=\"Recursion-5.2\"><span class=\"toc-item-num\">5.2&nbsp;&nbsp;</span>Recursion</a></span></li><li><span><a href=\"#Termination\" data-toc-modified-id=\"Termination-5.3\"><span class=\"toc-item-num\">5.3&nbsp;&nbsp;</span>Termination</a></span></li><li><span><a href=\"#Probability-of-sequence\" data-toc-modified-id=\"Probability-of-sequence-5.4\"><span class=\"toc-item-num\">5.4&nbsp;&nbsp;</span>Probability of sequence</a></span></li></ul></li><li><span><a href=\"#Posterior-Decoding\" data-toc-modified-id=\"Posterior-Decoding-6\"><span class=\"toc-item-num\">6&nbsp;&nbsp;</span>Posterior Decoding</a></span></li><li><span><a href=\"#A-longer-sequence-with-multiple-random-transitions.\" data-toc-modified-id=\"A-longer-sequence-with-multiple-random-transitions.-7\"><span class=\"toc-item-num\">7&nbsp;&nbsp;</span>A longer sequence with multiple random transitions.</a></span><ul class=\"toc-item\"><li><span><a href=\"#A-summary-of-all-previous-code-segments-now-applied-to-the-new-sequence.\" data-toc-modified-id=\"A-summary-of-all-previous-code-segments-now-applied-to-the-new-sequence.-7.1\"><span class=\"toc-item-num\">7.1&nbsp;&nbsp;</span>A summary of all previous code segments now applied to the new sequence.</a></span></li></ul></li><li><span><a href=\"#Exercises\" data-toc-modified-id=\"Exercises-8\"><span class=\"toc-item-num\">8&nbsp;&nbsp;</span>Exercises</a></span><ul class=\"toc-item\"><li><span><a href=\"#Run-the-posterior-decoding-for-three-other-values-of-transition-probabilities-((a)-$a_{FU}-=-a_{UF}-=-0.1$,-(b)-$a_{FU}-=-a_{UF}-=-0.2$,-(c)-$-a_{FU}-=-0.05$,-$a_{UF}-=-0.2$)\" data-toc-modified-id=\"Run-the-posterior-decoding-for-three-other-values-of-transition-probabilities-((a)-$a_{FU}-=-a_{UF}-=-0.1$,-(b)-$a_{FU}-=-a_{UF}-=-0.2$,-(c)-$-a_{FU}-=-0.05$,-$a_{UF}-=-0.2$)-8.1\"><span class=\"toc-item-num\">8.1&nbsp;&nbsp;</span>Run the posterior decoding for three other values of transition probabilities ((a) $a_{FU} = a_{UF} = 0.1$, (b) $a_{FU} = a_{UF} = 0.2$, (c) $ a_{FU} = 0.05$, $a_{UF} = 0.2$)</a></span></li><li><span><a href=\"#Test-the-limitations-of-the-implementation:-How-long-can-you-make-the-sequences-and-still-get-reliable-results.-Try-L-=-1000,-10000,-50000.\" data-toc-modified-id=\"Test-the-limitations-of-the-implementation:-How-long-can-you-make-the-sequences-and-still-get-reliable-results.-Try-L-=-1000,-10000,-50000.-8.2\"><span class=\"toc-item-num\">8.2&nbsp;&nbsp;</span>Test the limitations of the implementation: How long can you make the sequences and still get reliable results. Try L = 1000, 10000, 50000.</a></span></li><li><span><a href=\"#Obtain-the-main-result-(posterior-probability-of-the-fair-die-along-the-die-roll-sequence)-for-different-values-of-the-unfairness-of-the-unfair-die-(emission-probability-$e_{U(6)}$).-Use-for-$e_{U(6)}$-the-following-values-(instead-of-the-default-value-of-0.5):-0.1,-0.2,-0.3,-0.4,-0.6,-0.7,-0.8.-Make-sure-that-the-probabilities-of-the-remaining-states-are-adjusted-accordingly!\" data-toc-modified-id=\"Obtain-the-main-result-(posterior-probability-of-the-fair-die-along-the-die-roll-sequence)-for-different-values-of-the-unfairness-of-the-unfair-die-(emission-probability-$e_{U(6)}$).-Use-for-$e_{U(6)}$-the-following-values-(instead-of-the-default-value-of-0.5):-0.1,-0.2,-0.3,-0.4,-0.6,-0.7,-0.8.-Make-sure-that-the-probabilities-of-the-remaining-states-are-adjusted-accordingly!-8.3\"><span class=\"toc-item-num\">8.3&nbsp;&nbsp;</span>Obtain the main result (posterior probability of the fair die along the die roll sequence) for different values of the unfairness of the unfair die (emission probability $e_{U(6)}$). Use for $e_{U(6)}$ the following values (instead of the default value of 0.5): 0.1, 0.2, 0.3, 0.4, 0.6, 0.7, 0.8. Make sure that the probabilities of the remaining states are adjusted accordingly!</a></span></li><li><span><a href=\"#(BONUS-with-3-bonus-points):-Adjust-the-code-to-the-logarithmic-version-of-the-forward-and-backward-algorithms-and-repeat-exercise-2.\" data-toc-modified-id=\"(BONUS-with-3-bonus-points):-Adjust-the-code-to-the-logarithmic-version-of-the-forward-and-backward-algorithms-and-repeat-exercise-2.-8.4\"><span class=\"toc-item-num\">8.4&nbsp;&nbsp;</span>(BONUS with 3 bonus points): Adjust the code to the logarithmic version of the forward and backward algorithms and repeat exercise 2.</a></span></li></ul></li></ul></div>"
   ]
  },
  {
   "cell_type": "markdown",
   "metadata": {},
   "source": [
    "# Import libraries"
   ]
  },
  {
   "cell_type": "code",
   "execution_count": 1,
   "metadata": {},
   "outputs": [],
   "source": [
    "import numpy as np, pandas as pd, matplotlib.pyplot as plt, seaborn as sns\n",
    "import random"
   ]
  },
  {
   "cell_type": "markdown",
   "metadata": {},
   "source": [
    "# Model initialization"
   ]
  },
  {
   "cell_type": "markdown",
   "metadata": {},
   "source": [
    "Here we repeat the definitions from Viterbi algorithm."
   ]
  },
  {
   "cell_type": "code",
   "execution_count": 2,
   "metadata": {},
   "outputs": [],
   "source": [
    "state = [\"0\", \"F\", \"U\"]"
   ]
  },
  {
   "cell_type": "code",
   "execution_count": 3,
   "metadata": {},
   "outputs": [],
   "source": [
    "observation = [1,2,3,4,5,6]"
   ]
  },
  {
   "cell_type": "code",
   "execution_count": 4,
   "metadata": {},
   "outputs": [],
   "source": [
    "def transition(z1,z2):\n",
    "    \"\"\"Returns transition probability from state z1 to state z2.\n",
    "    \"\"\"\n",
    "    transition_dict = {\n",
    "        \"FF\": 0.95,\n",
    "        \"FU\": 0.05,\n",
    "        \"UU\": 0.90,\n",
    "        \"UF\": 0.10,\n",
    "        \"0U\": 0.50,\n",
    "   # Model initialization     \n",
    "        \"0F\": 0.50,\n",
    "        \"00\": 0.00,\n",
    "        \"U0\": 0.00,\n",
    "        \"F0\": 0.00,\n",
    "    }\n",
    "    return transition_dict[z1+z2]"
   ]
  },
  {
   "cell_type": "code",
   "execution_count": 5,
   "metadata": {},
   "outputs": [
    {
     "data": {
      "text/plain": [
       "0.95"
      ]
     },
     "execution_count": 5,
     "metadata": {},
     "output_type": "execute_result"
    }
   ],
   "source": [
    "transition(\"F\", \"F\")"
   ]
  },
  {
   "cell_type": "code",
   "execution_count": 6,
   "metadata": {},
   "outputs": [],
   "source": [
    "def emission(z1, o1):\n",
    "    \"\"\"Returns emission probability for (hidden) state z1 to emit (observed) symbol o1 \n",
    "    \"\"\"\n",
    "    if z1 == \"F\":\n",
    "        return 1/6.0\n",
    "    elif z1 == \"U\" and o1 == 6:\n",
    "        return 0.5\n",
    "    elif z1 == \"U\":\n",
    "        return 0.1\n",
    "    else:\n",
    "        return 0"
   ]
  },
  {
   "cell_type": "code",
   "execution_count": 7,
   "metadata": {},
   "outputs": [
    {
     "data": {
      "text/plain": [
       "0.16666666666666666"
      ]
     },
     "execution_count": 7,
     "metadata": {},
     "output_type": "execute_result"
    }
   ],
   "source": [
    "emission(\"F\", 3)"
   ]
  },
  {
   "cell_type": "markdown",
   "metadata": {},
   "source": [
    "# Sequence of die rolls"
   ]
  },
  {
   "cell_type": "markdown",
   "metadata": {},
   "source": [
    "Next we again create a three-segment random sequence."
   ]
  },
  {
   "cell_type": "code",
   "execution_count": 8,
   "metadata": {},
   "outputs": [],
   "source": [
    "np.random.seed(3)"
   ]
  },
  {
   "cell_type": "code",
   "execution_count": 9,
   "metadata": {},
   "outputs": [
    {
     "data": {
      "text/plain": [
       "array([3, 1, 2, 4, 1, 1, 1, 6, 6, 4, 3, 4, 2, 2, 3, 6, 1, 5, 5, 6, 1, 3,\n",
       "       2, 3, 3, 3, 5, 2, 4, 3, 6, 1, 2, 6, 3, 1, 4, 1, 4, 2, 4, 1, 6, 5,\n",
       "       2, 6, 5, 5, 1, 1])"
      ]
     },
     "execution_count": 9,
     "metadata": {},
     "output_type": "execute_result"
    }
   ],
   "source": [
    "seq0a = np.random.randint(1,7,50)\n",
    "seq0a"
   ]
  },
  {
   "cell_type": "code",
   "execution_count": 10,
   "metadata": {},
   "outputs": [
    {
     "data": {
      "text/plain": [
       "array([5, 6, 6, 2, 6, 6, 4, 6, 6, 6, 1, 4, 6, 6, 6, 6, 2, 3, 6, 5])"
      ]
     },
     "execution_count": 10,
     "metadata": {},
     "output_type": "execute_result"
    }
   ],
   "source": [
    "seq0b = np.array([6 if np.random.rand() < 0.5 else np.random.randint(1,6) for i in range(20)])\n",
    "seq0b"
   ]
  },
  {
   "cell_type": "code",
   "execution_count": 11,
   "metadata": {},
   "outputs": [
    {
     "data": {
      "text/plain": [
       "array([1, 4, 3, 1, 5, 4, 2, 6, 2, 1, 1, 6, 1, 1, 2, 2, 5, 1, 4, 5, 3, 1,\n",
       "       1, 5, 5, 5, 5, 4, 4, 1, 1, 3, 3, 2, 4, 6, 3, 5, 2, 3, 3, 4, 5, 2,\n",
       "       5, 4, 2, 2, 4, 1])"
      ]
     },
     "execution_count": 11,
     "metadata": {},
     "output_type": "execute_result"
    }
   ],
   "source": [
    "seq0c = np.random.randint(1,7,50)\n",
    "seq0c"
   ]
  },
  {
   "cell_type": "code",
   "execution_count": 12,
   "metadata": {},
   "outputs": [
    {
     "data": {
      "text/plain": [
       "array([3, 1, 2, 4, 1, 1, 1, 6, 6, 4, 3, 4, 2, 2, 3, 6, 1, 5, 5, 6, 1, 3,\n",
       "       2, 3, 3, 3, 5, 2, 4, 3, 6, 1, 2, 6, 3, 1, 4, 1, 4, 2, 4, 1, 6, 5,\n",
       "       2, 6, 5, 5, 1, 1, 5, 6, 6, 2, 6, 6, 4, 6, 6, 6, 1, 4, 6, 6, 6, 6,\n",
       "       2, 3, 6, 5, 1, 4, 3, 1, 5, 4, 2, 6, 2, 1, 1, 6, 1, 1, 2, 2, 5, 1,\n",
       "       4, 5, 3, 1, 1, 5, 5, 5, 5, 4, 4, 1, 1, 3, 3, 2, 4, 6, 3, 5, 2, 3,\n",
       "       3, 4, 5, 2, 5, 4, 2, 2, 4, 1])"
      ]
     },
     "execution_count": 12,
     "metadata": {},
     "output_type": "execute_result"
    }
   ],
   "source": [
    "seq = np.concatenate((seq0a, seq0b, seq0c))\n",
    "seq"
   ]
  },
  {
   "cell_type": "code",
   "execution_count": 13,
   "metadata": {},
   "outputs": [
    {
     "data": {
      "text/plain": [
       "120"
      ]
     },
     "execution_count": 13,
     "metadata": {},
     "output_type": "execute_result"
    }
   ],
   "source": [
    "L = seq.shape[0]\n",
    "L"
   ]
  },
  {
   "cell_type": "code",
   "execution_count": 14,
   "metadata": {},
   "outputs": [
    {
     "data": {
      "text/plain": [
       "array(['F', 'F', 'F', 'F', 'F', 'F', 'F', 'F', 'F', 'F', 'F', 'F', 'F',\n",
       "       'F', 'F', 'F', 'F', 'F', 'F', 'F', 'F', 'F', 'F', 'F', 'F', 'F',\n",
       "       'F', 'F', 'F', 'F', 'F', 'F', 'F', 'F', 'F', 'F', 'F', 'F', 'F',\n",
       "       'F', 'F', 'F', 'F', 'F', 'F', 'F', 'F', 'F', 'F', 'F', 'U', 'U',\n",
       "       'U', 'U', 'U', 'U', 'U', 'U', 'U', 'U', 'U', 'U', 'U', 'U', 'U',\n",
       "       'U', 'U', 'U', 'U', 'U', 'F', 'F', 'F', 'F', 'F', 'F', 'F', 'F',\n",
       "       'F', 'F', 'F', 'F', 'F', 'F', 'F', 'F', 'F', 'F', 'F', 'F', 'F',\n",
       "       'F', 'F', 'F', 'F', 'F', 'F', 'F', 'F', 'F', 'F', 'F', 'F', 'F',\n",
       "       'F', 'F', 'F', 'F', 'F', 'F', 'F', 'F', 'F', 'F', 'F', 'F', 'F',\n",
       "       'F', 'F', 'F'], dtype='<U1')"
      ]
     },
     "execution_count": 14,
     "metadata": {},
     "output_type": "execute_result"
    }
   ],
   "source": [
    "label = np.concatenate((\n",
    "    np.repeat(\"F\", 50), \n",
    "    np.repeat(\"U\", 20),\n",
    "    np.repeat(\"F\", 50)\n",
    "))\n",
    "label"
   ]
  },
  {
   "cell_type": "markdown",
   "metadata": {},
   "source": [
    "We need to jump into the sequence, so we need to add one slot at the beginning of the sequence."
   ]
  },
  {
   "cell_type": "code",
   "execution_count": 15,
   "metadata": {},
   "outputs": [
    {
     "data": {
      "text/plain": [
       "array([0, 3, 1, 2, 4, 1, 1, 1, 6, 6, 4, 3, 4, 2, 2, 3, 6, 1, 5, 5, 6, 1,\n",
       "       3, 2, 3, 3, 3, 5, 2, 4, 3, 6, 1, 2, 6, 3, 1, 4, 1, 4, 2, 4, 1, 6,\n",
       "       5, 2, 6, 5, 5, 1, 1, 5, 6, 6, 2, 6, 6, 4, 6, 6, 6, 1, 4, 6, 6, 6,\n",
       "       6, 2, 3, 6, 5, 1, 4, 3, 1, 5, 4, 2, 6, 2, 1, 1, 6, 1, 1, 2, 2, 5,\n",
       "       1, 4, 5, 3, 1, 1, 5, 5, 5, 5, 4, 4, 1, 1, 3, 3, 2, 4, 6, 3, 5, 2,\n",
       "       3, 3, 4, 5, 2, 5, 4, 2, 2, 4, 1])"
      ]
     },
     "execution_count": 15,
     "metadata": {},
     "output_type": "execute_result"
    }
   ],
   "source": [
    "seq2 = np.array([0] + list(seq))\n",
    "seq2"
   ]
  },
  {
   "cell_type": "markdown",
   "metadata": {},
   "source": [
    "# Forward algorithm"
   ]
  },
  {
   "cell_type": "markdown",
   "metadata": {},
   "source": [
    "## Initialization"
   ]
  },
  {
   "cell_type": "code",
   "execution_count": 16,
   "metadata": {},
   "outputs": [
    {
     "data": {
      "text/plain": [
       "array([[1., 0., 0., 0., 0., 0., 0., 0., 0., 0., 0., 0., 0., 0., 0., 0.,\n",
       "        0., 0., 0., 0., 0., 0., 0., 0., 0., 0., 0., 0., 0., 0., 0., 0.,\n",
       "        0., 0., 0., 0., 0., 0., 0., 0., 0., 0., 0., 0., 0., 0., 0., 0.,\n",
       "        0., 0., 0., 0., 0., 0., 0., 0., 0., 0., 0., 0., 0., 0., 0., 0.,\n",
       "        0., 0., 0., 0., 0., 0., 0., 0., 0., 0., 0., 0., 0., 0., 0., 0.,\n",
       "        0., 0., 0., 0., 0., 0., 0., 0., 0., 0., 0., 0., 0., 0., 0., 0.,\n",
       "        0., 0., 0., 0., 0., 0., 0., 0., 0., 0., 0., 0., 0., 0., 0., 0.,\n",
       "        0., 0., 0., 0., 0., 0., 0., 0., 0.],\n",
       "       [0., 0., 0., 0., 0., 0., 0., 0., 0., 0., 0., 0., 0., 0., 0., 0.,\n",
       "        0., 0., 0., 0., 0., 0., 0., 0., 0., 0., 0., 0., 0., 0., 0., 0.,\n",
       "        0., 0., 0., 0., 0., 0., 0., 0., 0., 0., 0., 0., 0., 0., 0., 0.,\n",
       "        0., 0., 0., 0., 0., 0., 0., 0., 0., 0., 0., 0., 0., 0., 0., 0.,\n",
       "        0., 0., 0., 0., 0., 0., 0., 0., 0., 0., 0., 0., 0., 0., 0., 0.,\n",
       "        0., 0., 0., 0., 0., 0., 0., 0., 0., 0., 0., 0., 0., 0., 0., 0.,\n",
       "        0., 0., 0., 0., 0., 0., 0., 0., 0., 0., 0., 0., 0., 0., 0., 0.,\n",
       "        0., 0., 0., 0., 0., 0., 0., 0., 0.],\n",
       "       [0., 0., 0., 0., 0., 0., 0., 0., 0., 0., 0., 0., 0., 0., 0., 0.,\n",
       "        0., 0., 0., 0., 0., 0., 0., 0., 0., 0., 0., 0., 0., 0., 0., 0.,\n",
       "        0., 0., 0., 0., 0., 0., 0., 0., 0., 0., 0., 0., 0., 0., 0., 0.,\n",
       "        0., 0., 0., 0., 0., 0., 0., 0., 0., 0., 0., 0., 0., 0., 0., 0.,\n",
       "        0., 0., 0., 0., 0., 0., 0., 0., 0., 0., 0., 0., 0., 0., 0., 0.,\n",
       "        0., 0., 0., 0., 0., 0., 0., 0., 0., 0., 0., 0., 0., 0., 0., 0.,\n",
       "        0., 0., 0., 0., 0., 0., 0., 0., 0., 0., 0., 0., 0., 0., 0., 0.,\n",
       "        0., 0., 0., 0., 0., 0., 0., 0., 0.]])"
      ]
     },
     "execution_count": 16,
     "metadata": {},
     "output_type": "execute_result"
    }
   ],
   "source": [
    "forward = np.zeros((len(state), L+1))\n",
    "forward[0,0]=1\n",
    "forward"
   ]
  },
  {
   "cell_type": "markdown",
   "metadata": {},
   "source": [
    "## Recursion"
   ]
  },
  {
   "cell_type": "code",
   "execution_count": 17,
   "metadata": {},
   "outputs": [],
   "source": [
    "for i in range(0, L):\n",
    "    for l in state:\n",
    "        tempList = [forward[state.index(k),i]*transition(k,l) for k in state]\n",
    "        forward[state.index(l),i+1] = emission(l,seq2[i+1]) * np.sum(tempList)"
   ]
  },
  {
   "cell_type": "markdown",
   "metadata": {},
   "source": [
    "## Termination"
   ]
  },
  {
   "cell_type": "code",
   "execution_count": 18,
   "metadata": {},
   "outputs": [
    {
     "data": {
      "text/plain": [
       "[0.0, 3.6245627270608147e-93, 2.609082592063604e-94]"
      ]
     },
     "execution_count": 18,
     "metadata": {},
     "output_type": "execute_result"
    }
   ],
   "source": [
    "\n",
    "tempList = [forward[state.index(k),L] for k in state]\n",
    "tempList"
   ]
  },
  {
   "cell_type": "markdown",
   "metadata": {},
   "source": [
    "## Probability of sequence"
   ]
  },
  {
   "cell_type": "code",
   "execution_count": 19,
   "metadata": {},
   "outputs": [
    {
     "data": {
      "text/plain": [
       "3.885470986267175e-93"
      ]
     },
     "execution_count": 19,
     "metadata": {},
     "output_type": "execute_result"
    }
   ],
   "source": [
    "\n",
    "probSeqForward = np.sum(tempList)\n",
    "probSeqForward"
   ]
  },
  {
   "cell_type": "markdown",
   "metadata": {},
   "source": [
    "# Backward algorithm"
   ]
  },
  {
   "cell_type": "markdown",
   "metadata": {},
   "source": [
    "## Initialization"
   ]
  },
  {
   "cell_type": "code",
   "execution_count": 20,
   "metadata": {},
   "outputs": [
    {
     "data": {
      "text/plain": [
       "array([[0., 0., 0., 0., 0., 0., 0., 0., 0., 0., 0., 0., 0., 0., 0., 0.,\n",
       "        0., 0., 0., 0., 0., 0., 0., 0., 0., 0., 0., 0., 0., 0., 0., 0.,\n",
       "        0., 0., 0., 0., 0., 0., 0., 0., 0., 0., 0., 0., 0., 0., 0., 0.,\n",
       "        0., 0., 0., 0., 0., 0., 0., 0., 0., 0., 0., 0., 0., 0., 0., 0.,\n",
       "        0., 0., 0., 0., 0., 0., 0., 0., 0., 0., 0., 0., 0., 0., 0., 0.,\n",
       "        0., 0., 0., 0., 0., 0., 0., 0., 0., 0., 0., 0., 0., 0., 0., 0.,\n",
       "        0., 0., 0., 0., 0., 0., 0., 0., 0., 0., 0., 0., 0., 0., 0., 0.,\n",
       "        0., 0., 0., 0., 0., 0., 0., 0., 0.],\n",
       "       [0., 0., 0., 0., 0., 0., 0., 0., 0., 0., 0., 0., 0., 0., 0., 0.,\n",
       "        0., 0., 0., 0., 0., 0., 0., 0., 0., 0., 0., 0., 0., 0., 0., 0.,\n",
       "        0., 0., 0., 0., 0., 0., 0., 0., 0., 0., 0., 0., 0., 0., 0., 0.,\n",
       "        0., 0., 0., 0., 0., 0., 0., 0., 0., 0., 0., 0., 0., 0., 0., 0.,\n",
       "        0., 0., 0., 0., 0., 0., 0., 0., 0., 0., 0., 0., 0., 0., 0., 0.,\n",
       "        0., 0., 0., 0., 0., 0., 0., 0., 0., 0., 0., 0., 0., 0., 0., 0.,\n",
       "        0., 0., 0., 0., 0., 0., 0., 0., 0., 0., 0., 0., 0., 0., 0., 0.,\n",
       "        0., 0., 0., 0., 0., 0., 0., 0., 1.],\n",
       "       [0., 0., 0., 0., 0., 0., 0., 0., 0., 0., 0., 0., 0., 0., 0., 0.,\n",
       "        0., 0., 0., 0., 0., 0., 0., 0., 0., 0., 0., 0., 0., 0., 0., 0.,\n",
       "        0., 0., 0., 0., 0., 0., 0., 0., 0., 0., 0., 0., 0., 0., 0., 0.,\n",
       "        0., 0., 0., 0., 0., 0., 0., 0., 0., 0., 0., 0., 0., 0., 0., 0.,\n",
       "        0., 0., 0., 0., 0., 0., 0., 0., 0., 0., 0., 0., 0., 0., 0., 0.,\n",
       "        0., 0., 0., 0., 0., 0., 0., 0., 0., 0., 0., 0., 0., 0., 0., 0.,\n",
       "        0., 0., 0., 0., 0., 0., 0., 0., 0., 0., 0., 0., 0., 0., 0., 0.,\n",
       "        0., 0., 0., 0., 0., 0., 0., 0., 1.]])"
      ]
     },
     "execution_count": 20,
     "metadata": {},
     "output_type": "execute_result"
    }
   ],
   "source": [
    "\n",
    "backward = np.zeros((len(state), L+1))\n",
    "backward[1,L]=1.0\n",
    "backward[2,L]=1.0\n",
    "backward"
   ]
  },
  {
   "cell_type": "markdown",
   "metadata": {},
   "source": [
    "## Recursion"
   ]
  },
  {
   "cell_type": "code",
   "execution_count": 21,
   "metadata": {},
   "outputs": [],
   "source": [
    "\n",
    "for i in range(L,1,-1):\n",
    "    for k in state:\n",
    "        tempList = [backward[state.index(l),i] * transition(k,l) * emission(l,seq2[i]) for l in state]\n",
    "        backward[state.index(k),i-1] = np.sum(tempList)"
   ]
  },
  {
   "cell_type": "markdown",
   "metadata": {},
   "source": [
    "## Termination"
   ]
  },
  {
   "cell_type": "code",
   "execution_count": 22,
   "metadata": {},
   "outputs": [],
   "source": [
    "for i in range(0, L):\n",
    "    for l in state:\n",
    "        tempList = [forward[state.index(k),i]*transition(k,l) for k in state]\n",
    "        forward[state.index(l),i+1] = emission(l,seq2[i+1]) * np.sum(tempList)\n",
    "\n",
    "tempList = [forward[state.index(k),L] for k in state]\n",
    "\n",
    "probSeqForward = np.sum(tempList)\n",
    "backward = np.zeros((len(state), L+1))\n",
    "backward[1,L]=1.0\n",
    "backward[2,L]=1.0\n",
    "for i in range(L,1,-1):\n",
    "    for k in state:\n",
    "        tempList = [backward[state.index(l),i] * transition(k,l) * emission(l,seq2[i]) for l in state]\n",
    "        backward[state.index(k),i-1] = np.sum(tempList)\n",
    "i = 1\n",
    "k = \"0\"\n",
    "tempList = [backward[state.index(l),i] * transition(k,l) * emission(l,seq2[i]) for l in state]"
   ]
  },
  {
   "cell_type": "markdown",
   "metadata": {},
   "source": [
    "## Probability of sequence"
   ]
  },
  {
   "cell_type": "code",
   "execution_count": 23,
   "metadata": {},
   "outputs": [
    {
     "data": {
      "text/plain": [
       "3.885470986267182e-93"
      ]
     },
     "execution_count": 23,
     "metadata": {},
     "output_type": "execute_result"
    }
   ],
   "source": [
    "for i in range(0, L):\n",
    "    for l in state:\n",
    "        tempList = [forward[state.index(k),i]*transition(k,l) for k in state]\n",
    "        forward[state.index(l),i+1] = emission(l,seq2[i+1]) * np.sum(tempList)\n",
    "\n",
    "tempList = [forward[state.index(k),L] for k in state]\n",
    "\n",
    "probSeqForward = np.sum(tempList)\n",
    "backward = np.zeros((len(state), L+1))\n",
    "backward[1,L]=1.0\n",
    "backward[2,L]=1.0\n",
    "for i in range(L,1,-1):\n",
    "    for k in state:\n",
    "        tempList = [backward[state.index(l),i] * transition(k,l) * emission(l,seq2[i]) for l in state]\n",
    "        backward[state.index(k),i-1] = np.sum(tempList)\n",
    "i = 1\n",
    "k = \"0\"\n",
    "tempList = [backward[state.index(l),i] * transition(k,l) * emission(l,seq2[i]) for l in state]\n",
    "probSeqBackward = np.sum(tempList)\n",
    "probSeqBackward"
   ]
  },
  {
   "cell_type": "code",
   "execution_count": 24,
   "metadata": {},
   "outputs": [
    {
     "data": {
      "text/plain": [
       "3.885470986267175e-93"
      ]
     },
     "execution_count": 24,
     "metadata": {},
     "output_type": "execute_result"
    }
   ],
   "source": [
    "probSeqForward"
   ]
  },
  {
   "cell_type": "markdown",
   "metadata": {},
   "source": [
    "Above we see that `probSeqForward` and `probSeqBackward` are equal.\n",
    "\n",
    "A test that our algorithm works okay is that `probSeqForward` and `probSeqBackward` should be equal. Infact these are the probabilities of the sequence under consideration, differing in just their direction of calculation: one in forward direction, the other in backward direction."
   ]
  },
  {
   "cell_type": "markdown",
   "metadata": {},
   "source": [
    "# Posterior Decoding"
   ]
  },
  {
   "cell_type": "code",
   "execution_count": 25,
   "metadata": {},
   "outputs": [],
   "source": [
    "for i in range(0, L):\n",
    "    for l in state:\n",
    "        tempList = [forward[state.index(k),i]*transition(k,l) for k in state]\n",
    "        forward[state.index(l),i+1] = emission(l,seq2[i+1]) * np.sum(tempList)\n",
    "\n",
    "tempList = [forward[state.index(k),L] for k in state]\n",
    "\n",
    "probSeqForward = np.sum(tempList)\n",
    "backward = np.zeros((len(state), L+1))\n",
    "backward[1,L]=1.0\n",
    "backward[2,L]=1.0\n",
    "for i in range(L,1,-1):\n",
    "    for k in state:\n",
    "        tempList = [backward[state.index(l),i] * transition(k,l) * emission(l,seq2[i]) for l in state]\n",
    "        backward[state.index(k),i-1] = np.sum(tempList)\n",
    "i = 1\n",
    "k = \"0\"\n",
    "tempList = [backward[state.index(l),i] * transition(k,l) * emission(l,seq2[i]) for l in state]\n",
    "probSeqBackward = np.sum(tempList)\n",
    "posterior_decoding = np.zeros((len(state), L+1))\n",
    "\n",
    "for i in range(1,L+1):\n",
    "    for k in state:\n",
    "        posterior_decoding[state.index(k),i] = (forward[state.index(k),i] * backward[state.index(k),i]) \\\n",
    "                                                / probSeqBackward\n",
    "        "
   ]
  },
  {
   "cell_type": "code",
   "execution_count": 26,
   "metadata": {},
   "outputs": [
    {
     "data": {
      "image/png": "[encoded data removed]",
      "text/plain": [
       "<Figure size 432x288 with 1 Axes>"
      ]
     },
     "metadata": {
      "needs_background": "light"
     },
     "output_type": "display_data"
    }
   ],
   "source": [
    "for i in range(0, L):\n",
    "    for l in state:\n",
    "        tempList = [forward[state.index(k),i]*transition(k,l) for k in state]\n",
    "        forward[state.index(l),i+1] = emission(l,seq2[i+1]) * np.sum(tempList)\n",
    "\n",
    "tempList = [forward[state.index(k),L] for k in state]\n",
    "\n",
    "probSeqForward = np.sum(tempList)\n",
    "backward = np.zeros((len(state), L+1))\n",
    "backward[1,L]=1.0\n",
    "backward[2,L]=1.0\n",
    "for i in range(L,1,-1):\n",
    "    for k in state:\n",
    "        tempList = [backward[state.index(l),i] * transition(k,l) * emission(l,seq2[i]) for l in state]\n",
    "        backward[state.index(k),i-1] = np.sum(tempList)\n",
    "i = 1\n",
    "k = \"0\"\n",
    "tempList = [backward[state.index(l),i] * transition(k,l) * emission(l,seq2[i]) for l in state]\n",
    "probSeqBackward = np.sum(tempList)\n",
    "posterior_decoding = np.zeros((len(state), L+1))\n",
    "\n",
    "for i in range(1,L+1):\n",
    "    for k in state:\n",
    "        posterior_decoding[state.index(k),i] = (forward[state.index(k),i] * backward[state.index(k),i]) \\\n",
    "                                                / probSeqBackward\n",
    "        \n",
    "x = range(L)\n",
    "plt.plot(x,posterior_decoding[state.index(\"F\"),1:])\n",
    "plt.fill_between(x, 0, 1, where=label==\"F\", color=\"gray\", alpha=0.25);"
   ]
  },
  {
   "cell_type": "markdown",
   "metadata": {},
   "source": [
    "# A longer sequence with multiple random transitions."
   ]
  },
  {
   "cell_type": "code",
   "execution_count": 27,
   "metadata": {},
   "outputs": [],
   "source": [
    "np.random.seed(10)"
   ]
  },
  {
   "cell_type": "code",
   "execution_count": 28,
   "metadata": {},
   "outputs": [
    {
     "name": "stdout",
     "output_type": "stream",
     "text": [
      "['U' 'U' 'U' 'U' 'U' 'U' 'U' 'U' 'U' 'U' 'U' 'U' 'U' 'U' 'U' 'U' 'U' 'U'\n",
      " 'U' 'U' 'U' 'U' 'U' 'U' 'U' 'U' 'U' 'U' 'U' 'U' 'U' 'U' 'U' 'U' 'U' 'U'\n",
      " 'U' 'U' 'U' 'U' 'U' 'U' 'U' 'U' 'U' 'U' 'U' 'U' 'F' 'F' 'F' 'F' 'F' 'F'\n",
      " 'F' 'F' 'F' 'F' 'F' 'F' 'F' 'F' 'F' 'F' 'F' 'F' 'F' 'F' 'F' 'F' 'F' 'F'\n",
      " 'F' 'F' 'F' 'F' 'F' 'F' 'F' 'F' 'F' 'F' 'F' 'F' 'F' 'F' 'F' 'F' 'F' 'F'\n",
      " 'F' 'F' 'F' 'F' 'F' 'U' 'U' 'U' 'U' 'U' 'U' 'U' 'U' 'U' 'U' 'U' 'U' 'U'\n",
      " 'U' 'U' 'U' 'U' 'U' 'U' 'U' 'U' 'U' 'U' 'U' 'U' 'U' 'U' 'U' 'F' 'F' 'F'\n",
      " 'U' 'U' 'U' 'U' 'U' 'F' 'F' 'F' 'F' 'F' 'F' 'F' 'F' 'F' 'F' 'F' 'F' 'F'\n",
      " 'F' 'F' 'F' 'F' 'F' 'F' 'F' 'F' 'F' 'F' 'F' 'F' 'U' 'U' 'U' 'U' 'U' 'U'\n",
      " 'F' 'F' 'F' 'F' 'F' 'F' 'F' 'F' 'F' 'F' 'F' 'F' 'F' 'F' 'F' 'U' 'U' 'U'\n",
      " 'U' 'U' 'U' 'U' 'U' 'U' 'U' 'U' 'U' 'U' 'U' 'U' 'U' 'U' 'U' 'U' 'U' 'U'\n",
      " 'F' 'F' 'F' 'F' 'F' 'F' 'F' 'F' 'F' 'F' 'F' 'F' 'F' 'F' 'F' 'F' 'F' 'F'\n",
      " 'F' 'F' 'F' 'F' 'F' 'F' 'F' 'F' 'F' 'F' 'F' 'F' 'F' 'F' 'F' 'F' 'F' 'F'\n",
      " 'F' 'U' 'U' 'U' 'U' 'U' 'U' 'U' 'U' 'U' 'U' 'U' 'U' 'U' 'U' 'U' 'F' 'F'\n",
      " 'F' 'F' 'F' 'F' 'F' 'F' 'F' 'F' 'F' 'F' 'F' 'F' 'F' 'F' 'F' 'F' 'F' 'F'\n",
      " 'F' 'F' 'F' 'F' 'F' 'F' 'F' 'F' 'F' 'F' 'F' 'F' 'F' 'F' 'F' 'F' 'F' 'F'\n",
      " 'F' 'F' 'F' 'F' 'F' 'F' 'F' 'F' 'F' 'F' 'F' 'F']\n"
     ]
    }
   ],
   "source": [
    "L2 = 300 #Length of the sequence\n",
    "states = np.repeat(\"0\", L2)\n",
    "states[0] = np.random.choice([\"F\",\"U\"])\n",
    "for i in range(1,L2):\n",
    "    if states[i-1] == \"F\":\n",
    "        states[i] = \"F\" if np.random.rand() < 0.95 else \"U\"\n",
    "    if states[i-1] == \"U\":\n",
    "        states[i] = \"U\" if np.random.rand() < 0.9 else \"F\"\n",
    "print(states)"
   ]
  },
  {
   "cell_type": "code",
   "execution_count": 29,
   "metadata": {},
   "outputs": [
    {
     "name": "stdout",
     "output_type": "stream",
     "text": [
      "[3 6 1 3 4 4 1 2 6 4 3 1 6 4 1 5 6 3 4 6 1 6 2 4 6 6 5 2 3 1 5 6 5 2 3 2 6\n",
      " 6 6 6 6 6 2 6 6 6 6 6 5 3 4 1 1 3 2 2 5 5 5 2 6 1 4 1 1 2 3 6 3 4 6 4 1 1\n",
      " 3 1 4 2 2 1 1 6 3 6 5 3 2 2 2 3 4 6 5 3 5 6 1 4 5 3 1 4 6 6 3 2 6 6 3 6 6\n",
      " 6 1 4 6 6 3 2 1 6 3 2 4 6 6 2 6 5 6 2 3 2 3 1 4 1 5 3 5 6 6 2 1 5 5 4 4 5\n",
      " 5 6 3 4 2 4 3 2 6 3 3 6 6 6 4 5 1 6 4 5 1 2 2 6 1 6 6 3 1 1 2 6 6 6 2 3 1\n",
      " 4 4 6 6 6 4 3 6 6 6 3 5 6 3 4 2 1 1 2 5 1 2 4 5 1 2 6 4 2 1 6 5 3 6 5 5 2\n",
      " 1 5 6 3 3 1 4 6 6 2 5 1 1 3 6 6 6 2 6 6 6 6 6 6 6 1 2 5 6 2 2 6 4 3 6 2 5\n",
      " 6 3 1 1 3 5 3 2 4 1 2 5 5 4 3 4 1 4 3 6 4 6 1 2 5 6 4 2 5 3 6 5 6 6 6 2 1\n",
      " 5 3 5 4]\n"
     ]
    }
   ],
   "source": [
    "observations = np.zeros(L2, dtype=int)\n",
    "for i in range(L2):\n",
    "    if states[i] == \"F\":\n",
    "        observations[i] = np.random.randint(0,6) + 1\n",
    "    if states[i] == \"U\":\n",
    "        observations[i] = 6 if np.random.rand() < 0.5 else np.random.randint(1,6)\n",
    "print(observations)"
   ]
  },
  {
   "cell_type": "markdown",
   "metadata": {},
   "source": [
    "## A summary of all previous code segments now applied to the new sequence."
   ]
  },
  {
   "cell_type": "code",
   "execution_count": 30,
   "metadata": {},
   "outputs": [
    {
     "data": {
      "image/png": "[encoded data removed]",
      "text/plain": [
       "<Figure size 432x288 with 1 Axes>"
      ]
     },
     "metadata": {
      "needs_background": "light"
     },
     "output_type": "display_data"
    }
   ],
   "source": [
    "seq = observations\n",
    "seq2 = np.array([0] + list(seq))\n",
    "\n",
    "L = L2\n",
    "\n",
    "label = states\n",
    "\n",
    "forward = np.zeros((len(state), L+1))\n",
    "forward[0,0]=1\n",
    "        \n",
    "for i in range(0, L):\n",
    "    for l in state:\n",
    "        tempList = [forward[state.index(k),i]*transition(k,l) for k in state]\n",
    "        forward[state.index(l),i+1] = emission(l,seq2[i+1]) * np.sum(tempList)\n",
    "\n",
    "tempList = [forward[state.index(k),L] for k in state]\n",
    "probSeqForward = np.sum(tempList)\n",
    "\n",
    "backward = np.zeros((len(state), L+1))\n",
    "backward[1,L]=1.0\n",
    "backward[2,L]=1.0\n",
    "\n",
    "for i in range(L,1,-1):\n",
    "    for k in state:\n",
    "        tempList = [backward[state.index(l),i] * transition(k,l) * emission(l,seq2[i]) for l in state]\n",
    "        backward[state.index(k),i-1] = np.sum(tempList)\n",
    "\n",
    "\n",
    "i = 1\n",
    "k = \"0\"\n",
    "t = [backward[state.index(l),i] * transition(k,l) * emission(l,seq2[i]) for l in state]\n",
    "probSeqBackward = np.sum(t)\n",
    "\n",
    "posterior_decoding = np.zeros((len(state), L+1))\n",
    "\n",
    "for i in range(1,L+1):\n",
    "    for k in state:\n",
    "        posterior_decoding[state.index(k),i] = (forward[state.index(k),i] * backward[state.index(k),i]) / probSeqBackward\n",
    "        \n",
    "x = range(L)\n",
    "plt.plot(x,posterior_decoding[state.index(\"F\"),1:])\n",
    "plt.fill_between(x, 0, 1, where=label==\"U\", color=\"gray\", alpha=0.25);\n"
   ]
  },
  {
   "cell_type": "markdown",
   "metadata": {},
   "source": [
    "# Exercises"
   ]
  },
  {
   "cell_type": "markdown",
   "metadata": {},
   "source": [
    "## Run the posterior decoding for three other values of transition probabilities ((a) $a_{FU} = a_{UF} = 0.1$, (b) $a_{FU} = a_{UF} = 0.2$, (c) $ a_{FU} = 0.05$, $a_{UF} = 0.2$)"
   ]
  },
  {
   "cell_type": "code",
   "execution_count": 38,
   "metadata": {},
   "outputs": [
    {
     "data": {
      "image/png": "[encoded data removed]",
      "text/plain": [
       "<Figure size 432x288 with 1 Axes>"
      ]
     },
     "metadata": {
      "needs_background": "light"
     },
     "output_type": "display_data"
    }
   ],
   "source": [
    "def transition(z1,z2):\n",
    "    \"\"\"Returns transition probability from state z1 to state z2.\n",
    "    \"\"\"\n",
    "    transition_dict = {\n",
    "        \"FF\": 0.90,\n",
    "        \"FU\": 0.10, # aFU = aUF = 0.1\n",
    "        \"UU\": 0.90,\n",
    "        \"UF\": 0.10,\n",
    "        \"0U\": 0.50,     \n",
    "        \"0F\": 0.50,\n",
    "        \"00\": 0.00,\n",
    "        \"U0\": 0.00,\n",
    "        \"F0\": 0.00, }\n",
    "    return transition_dict[z1+z2]\n",
    "\n",
    "\n",
    "seq = observations\n",
    "seq2 = np.array([0] + list(seq))\n",
    "\n",
    "L = L2\n",
    "\n",
    "label = states\n",
    "\n",
    "forward = np.zeros((len(state), L+1))\n",
    "forward[0,0]=1\n",
    "        \n",
    "for i in range(0, L):\n",
    "    for l in state:\n",
    "        tempList = [forward[state.index(k),i]*transition(k,l) for k in state]\n",
    "        forward[state.index(l),i+1] = emission(l,seq2[i+1]) * np.sum(tempList)\n",
    "\n",
    "tempList = [forward[state.index(k),L] for k in state]\n",
    "probSeqForward = np.sum(tempList)\n",
    "\n",
    "backward = np.zeros((len(state), L+1))\n",
    "backward[1,L]=1.0\n",
    "backward[2,L]=1.0\n",
    "\n",
    "for i in range(L,1,-1):\n",
    "    for k in state:\n",
    "        tempList = [backward[state.index(l),i] * transition(k,l) * emission(l,seq2[i]) for l in state]\n",
    "        backward[state.index(k),i-1] = np.sum(tempList)\n",
    "\n",
    "\n",
    "i = 1\n",
    "k = \"0\"\n",
    "t = [backward[state.index(l),i] * transition(k,l) * emission(l,seq2[i]) for l in state]\n",
    "probSeqBackward = np.sum(t)\n",
    "\n",
    "posterior_decoding = np.zeros((len(state), L+1))\n",
    "\n",
    "for i in range(1,L+1):\n",
    "    for k in state:\n",
    "        posterior_decoding[state.index(k),i] = (forward[state.index(k),i] * backward[state.index(k),i]) / probSeqBackward\n",
    "        \n",
    "x = range(L)\n",
    "plt.plot(x,posterior_decoding[state.index(\"F\"),1:])\n",
    "plt.fill_between(x, 0, 1, where=label==\"U\", color=\"gray\", alpha=0.25);\n"
   ]
  },
  {
   "cell_type": "code",
   "execution_count": 39,
   "metadata": {},
   "outputs": [
    {
     "data": {
      "image/png": "[encoded data removed]",
      "text/plain": [
       "<Figure size 432x288 with 1 Axes>"
      ]
     },
     "metadata": {
      "needs_background": "light"
     },
     "output_type": "display_data"
    }
   ],
   "source": [
    "def transition(z1,z2):\n",
    "    \"\"\"Returns transition probability from state z1 to state z2.\n",
    "    \"\"\"\n",
    "    transition_dict = {\n",
    "        \"FF\": 0.80,\n",
    "        \"FU\": 0.20,\n",
    "        \"UU\": 0.80,\n",
    "        \"UF\": 0.20,\n",
    "        \"0U\": 0.50,   \n",
    "        \"0F\": 0.50,\n",
    "        \"00\": 0.00,\n",
    "        \"U0\": 0.00,\n",
    "        \"F0\": 0.00, }\n",
    "    return transition_dict[z1+z2]\n",
    "\n",
    "\n",
    "seq = observations\n",
    "seq2 = np.array([0] + list(seq))\n",
    "\n",
    "L = L2\n",
    "\n",
    "label = states\n",
    "\n",
    "forward = np.zeros((len(state), L+1))\n",
    "forward[0,0]=1\n",
    "        \n",
    "for i in range(0, L):\n",
    "    for l in state:\n",
    "        tempList = [forward[state.index(k),i]*transition(k,l) for k in state]\n",
    "        forward[state.index(l),i+1] = emission(l,seq2[i+1]) * np.sum(tempList)\n",
    "\n",
    "tempList = [forward[state.index(k),L] for k in state]\n",
    "probSeqForward = np.sum(tempList)\n",
    "\n",
    "backward = np.zeros((len(state), L+1))\n",
    "backward[1,L]=1.0\n",
    "backward[2,L]=1.0\n",
    "\n",
    "for i in range(L,1,-1):\n",
    "    for k in state:\n",
    "        tempList = [backward[state.index(l),i] * transition(k,l) * emission(l,seq2[i]) for l in state]\n",
    "        backward[state.index(k),i-1] = np.sum(tempList)\n",
    "\n",
    "\n",
    "i = 1\n",
    "k = \"0\"\n",
    "t = [backward[state.index(l),i] * transition(k,l) * emission(l,seq2[i]) for l in state]\n",
    "probSeqBackward = np.sum(t)\n",
    "\n",
    "posterior_decoding = np.zeros((len(state), L+1))\n",
    "\n",
    "for i in range(1,L+1):\n",
    "    for k in state:\n",
    "        posterior_decoding[state.index(k),i] = (forward[state.index(k),i] * backward[state.index(k),i]) / probSeqBackward\n",
    "        \n",
    "x = range(L)\n",
    "plt.plot(x,posterior_decoding[state.index(\"F\"),1:])\n",
    "plt.fill_between(x, 0, 1, where=label==\"U\", color=\"gray\", alpha=0.25);"
   ]
  },
  {
   "cell_type": "code",
   "execution_count": null,
   "metadata": {},
   "outputs": [],
   "source": []
  },
  {
   "cell_type": "markdown",
   "metadata": {},
   "source": [
    "## Test the limitations of the implementation: How long can you make the sequences and still get reliable results. Try L = 1000, 10000, 50000. "
   ]
  },
  {
   "cell_type": "code",
   "execution_count": 40,
   "metadata": {},
   "outputs": [
    {
     "data": {
      "image/png": "[encoded data removed]",
      "text/plain": [
       "<Figure size 432x288 with 1 Axes>"
      ]
     },
     "metadata": {
      "needs_background": "light"
     },
     "output_type": "display_data"
    }
   ],
   "source": [
    "np.random.seed(10)\n",
    "L2 = 430 # The maximum seq length for raliable result is 430.\n",
    "states = np.repeat(\"0\", L2)\n",
    "states[0] = np.random.choice([\"F\",\"U\"])\n",
    "for i in range(1,L2):\n",
    "    if states[i-1] == \"F\":\n",
    "        states[i] = \"F\" if np.random.rand() < 0.95 else \"U\"\n",
    "    if states[i-1] == \"U\":\n",
    "        states[i] = \"U\" if np.random.rand() < 0.9 else \"F\"\n",
    "\n",
    "\n",
    "observations = np.zeros(L2, dtype=int)\n",
    "for i in range(L2):\n",
    "    if states[i] == \"F\":\n",
    "        observations[i] = np.random.randint(0,6) + 1\n",
    "    if states[i] == \"U\":\n",
    "        observations[i] = 6 if np.random.rand() < 0.5 else np.random.randint(1,6)\n",
    "        \n",
    "seq = observations\n",
    "seq2 = np.array([0] + list(seq))\n",
    "\n",
    "L = L2\n",
    "\n",
    "label = states\n",
    "\n",
    "forward = np.zeros((len(state), L+1))\n",
    "forward[0,0]=1\n",
    "        \n",
    "for i in range(0, L):\n",
    "    for l in state:\n",
    "        tempList = [forward[state.index(k),i]*transition(k,l) for k in state]\n",
    "        forward[state.index(l),i+1] = emission(l,seq2[i+1]) * np.sum(tempList)\n",
    "\n",
    "tempList = [forward[state.index(k),L] for k in state]\n",
    "probSeqForward = np.sum(tempList)\n",
    "\n",
    "backward = np.zeros((len(state), L+1))\n",
    "backward[1,L]=1.0\n",
    "backward[2,L]=1.0\n",
    "\n",
    "for i in range(L,1,-1):\n",
    "    for k in state:\n",
    "        tempList = [backward[state.index(l),i] * transition(k,l) * emission(l,seq2[i]) for l in state]\n",
    "        backward[state.index(k),i-1] = np.sum(tempList)\n",
    "\n",
    "\n",
    "i = 1\n",
    "k = \"0\"\n",
    "t = [backward[state.index(l),i] * transition(k,l) * emission(l,seq2[i]) for l in state]\n",
    "probSeqBackward = np.sum(t)\n",
    "\n",
    "posterior_decoding = np.zeros((len(state), L+1))\n",
    "\n",
    "for i in range(1,L+1):\n",
    "    for k in state:\n",
    "        posterior_decoding[state.index(k),i] = (forward[state.index(k),i] * backward[state.index(k),i]) / probSeqBackward\n",
    "        \n",
    "x = range(L)\n",
    "plt.plot(x,posterior_decoding[state.index(\"F\"),1:])\n",
    "plt.fill_between(x, 0, 1, where=label==\"U\", color=\"gray\", alpha=0.25);\n",
    "\n"
   ]
  }
 ],
 "metadata": {
  "hide_input": false,
  "kernelspec": {
   "display_name": "Python 3",
   "language": "python",
   "name": "python3"
  },
  "language_info": {
   "codemirror_mode": {
    "name": "ipython",
    "version": 3
   },
   "file_extension": ".py",
   "mimetype": "text/x-python",
   "name": "python",
   "nbconvert_exporter": "python",
   "pygments_lexer": "ipython3",
   "version": "3.8.5"
  },
  "toc": {
   "base_numbering": 1,
   "nav_menu": {},
   "number_sections": true,
   "sideBar": true,
   "skip_h1_title": false,
   "title_cell": "Table of Contents",
   "title_sidebar": "Contents",
   "toc_cell": true,
   "toc_position": {},
   "toc_section_display": true,
   "toc_window_display": true
  },
  "varInspector": {
   "cols": {
    "lenName": 16,
    "lenType": 16,
    "lenVar": 40
   },
   "kernels_config": {
    "python": {
     "delete_cmd_postfix": "",
     "delete_cmd_prefix": "del ",
     "library": "var_list.py",
     "varRefreshCmd": "print(var_dic_list())"
    },
    "r": {
     "delete_cmd_postfix": ") ",
     "delete_cmd_prefix": "rm(",
     "library": "var_list.r",
     "varRefreshCmd": "cat(var_dic_list()) "
    }
   },
   "types_to_exclude": [
    "module",
    "function",
    "builtin_function_or_method",
    "instance",
    "_Feature"
   ],
   "window_display": false
  }
 },
 "nbformat": 4,
 "nbformat_minor": 4
}
